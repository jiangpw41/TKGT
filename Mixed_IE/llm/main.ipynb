{
 "cells": [
  {
   "cell_type": "code",
   "execution_count": 1,
   "metadata": {},
   "outputs": [],
   "source": [
    "import json\n",
    "import sys\n",
    "import os\n",
    "_ROOT_PATH = \"/home/jiangpeiwen2/jiangpeiwen2/text-kgs-table/\"\n",
    "sys.path.append(_ROOT_PATH)\n",
    "from components.kgs.dataset_kgs.e2e_rotowire_field import fields_list_rotowire, fields_list_e2e\n",
    "from components.kgs.dataset_kgs.CPL_field import fields_list_CPL\n",
    "from libs import read_hot_words, chat_LLM, _ROOT_PATH, _DATA_PATH, data_list, role_info_extra_prompt, role_types_extra_prompts, event_role_relation_request, Entity_KGs_construction_request"
   ]
  },
  {
   "cell_type": "code",
   "execution_count": 2,
   "metadata": {},
   "outputs": [
    {
     "name": "stdout",
     "output_type": "stream",
     "text": [
      "{'Total words': 1152364, 'Lines': 51426, 'Average_words_Line': 22.408198187687162, 'Total words after filter': 565068}\n",
      "{'Total words': 1637820, 'Lines': 4853, 'Average_words_Line': 337.4860910776839, 'Total words after filter': 654614}\n",
      "{'Total words': 185111, 'Lines': 13318, 'Average_words_Line': 13.899309205586425, 'Total words after filter': 92634}\n",
      "{'Total words': 70257683, 'Lines': 728221, 'Average_words_Line': 96.47851819708578, 'Total words after filter': 31768599}\n"
     ]
    }
   ],
   "source": [
    "# 词频统计结果加载\n",
    "_e2e_words_freq = read_hot_words( 0 )\n",
    "_rotowire_words_freq = read_hot_words( 1 )\n",
    "_wikitabletext_words_freq = read_hot_words( 2 )\n",
    "_CPL_words_freq = read_hot_words( 3 )\n",
    "_wikibio_words_freq = read_hot_words( 4 )\n",
    "fre_list = [_e2e_words_freq, _rotowire_words_freq, _wikitabletext_words_freq, _wikibio_words_freq, _CPL_words_freq]"
   ]
  },
  {
   "cell_type": "markdown",
   "metadata": {},
   "source": [
    "# 大模型生成知识图谱类的质量评估方法（知识图谱的类而非实例）\n",
    "## 1.基于辅助人类构建领域知识图谱这一目的，而非直接生成领域知识图谱\n",
    "## 2.指定得分标准，人类进行评价\n",
    "## 3.评分标准如下：对目标数据集由人指定字段集合，遍历生成的字段逐个与目标字段进行匹配，总分为1，所有字段平分得分（也可根据重要性）\n",
    "（1）完全匹配Totally Match：生成的字段中有至少一个字段和目标中的某个字段在形式或语义上完全匹配，则获得该目标字段的总分。但只有一个计分。\n",
    "（2）包含匹配Including：生成的字段中有至少一个是目标字段中某个或某些字段的邻近父概念（邻近指可以通过后续原文信息自然推断出子概念），则获得所有目标字段之和的75%\n",
    "（3）被包含匹配Included：生成的字段中至少一个是某个目标字段的子概念。若父概念有限可分，则获得字段分数/类别数（如目标字段是双亲，预测父亲，则获得1/2的分数，不同的子概念可叠加，如预测除了父亲和母亲，则获得全部）；若父概念不可分，则获得25%\n",
    "（4）不匹配Not Match：预测字段中没有和目标字段相关的，如汽车和狗。\n",
    "在预测的字段中找目标字段的匹配结果，累计得分\n"
   ]
  },
  {
   "cell_type": "markdown",
   "metadata": {},
   "source": [
    "# e2e, role info extract\n",
    "## 目标是七个字段：Name, Price range, Customer rating, Near, Food, Area, Family friendly。1/7\n",
    "### 直接提示词\n",
    "3.5/7\n",
    "### 无词频提示：Name, Location, Cuisine, Menu Offerings, Price Range, Rating, Reviews, Ambiance, Service Style, Hours of Operation, Reservations, Awards and Recognition.\n",
    "1/7( 1+0.75+1+1+1+0.75+0) = 5.5/7\n",
    "### 有词频提示:Name, Cuisine Type, Average Price Range, Location, Rating, Food Quality, Service Style (e.g. family-friendly, pub), Menu Options, Ambiance (e.g. riverside, city centre), Specialties (e.g. Italian, Indian), Coffee/Bar Options, and Overall Atmosphere\n",
    "1/7( 1+1+1+1+1+1+0.75) = 6.75/7\n",
    "\n",
    "'''\n"
   ]
  },
  {
   "cell_type": "code",
   "execution_count": 11,
   "metadata": {},
   "outputs": [
    {
     "name": "stdout",
     "output_type": "stream",
     "text": [
      "Based on the description and high-frequency words provided, I will infer the properties of the role type \"A restaurant\".\n",
      "\n",
      "Since there are no high-frequency words provided, I will rely on my general knowledge of restaurants and common attributes associated with them.\n",
      "\n",
      "Here is my response:\n",
      "\n",
      "Name, Address, Cuisine Type, Menu Offerings, Price Range, Ambiance, Reviews, Rating, Hours of Operation, Reservations, Parking Availability, Delivery Options.\n",
      "\n",
      "Please let me know if this is accurate or if you'd like me to revise anything!\n",
      "Based on the description and high-frequency words provided, I infer that the properties of a restaurant role type are:\n",
      "\n",
      "Name, Cuisine Type, Average Price Range, Location, Rating, Ambience, Family Friendliness, Menu Options, Specialty Dishes, Coffee Options, Nearby Landmarks, City Centre Distance, Riverside View, Pub Facilities, Indian/Italian/Café Options, Customer Reviews.\n",
      "\n",
      "Please let me know if this is accurate or if I need to make any adjustments!\n"
     ]
    }
   ],
   "source": [
    "ordinary_truth = \"User comments datas about a restaurant in several aspects.\"\n",
    "statistic_words = fre_list[0]\n",
    "\n",
    "e2e_no_statistic_inputs = role_info_extra_prompt.format( ROLE=\"A restaurant\", DESC=ordinary_truth, WORDS=\"No related words\")\n",
    "e2e_statistic_inputs = role_info_extra_prompt.format( ROLE=\"A restaurant\", DESC=ordinary_truth, WORDS=statistic_words)\n",
    "response_e2e_0 = chat_LLM(e2e_no_statistic_inputs)\n",
    "response_e2e_1 = chat_LLM(e2e_statistic_inputs)"
   ]
  },
  {
   "cell_type": "code",
   "execution_count": 2,
   "metadata": {},
   "outputs": [
    {
     "name": "stdout",
     "output_type": "stream",
     "text": [
      "Here are some common properties of a restaurant that can be inferred from user comments data in several aspects:\n",
      "\n",
      "**Food**\n",
      "\n",
      "* Taste: delicious, bland, spicy, sweet, etc.\n",
      "* Quality: fresh, stale, overcooked, undercooked, etc.\n",
      "* Variety: diverse options, limited options, unique dishes, etc.\n",
      "* Portion size: large, small, just right, etc.\n",
      "* Price: affordable, expensive, value for money, etc.\n",
      "\n",
      "**Service**\n",
      "\n",
      "* Friendliness: friendly, unfriendly, attentive, inattentive, etc.\n",
      "* Responsiveness: quick, slow, responsive, unresponsive, etc.\n",
      "* Knowledge: knowledgeable, unknowledgeable, helpful, unhelpful, etc.\n",
      "* Attitude: welcoming, unwelcoming, patient, impatient, etc.\n",
      "\n",
      "**Ambiance**\n",
      "\n",
      "* Atmosphere: cozy, loud, romantic, family-friendly, etc.\n",
      "* Decor: modern, traditional, elegant, casual, etc.\n",
      "* Cleanliness: clean, dirty, well-maintained, poorly maintained, etc.\n",
      "* Comfort: comfortable, uncomfortable, spacious, cramped, etc.\n",
      "\n",
      "**Value**\n",
      "\n",
      "* Price-to-quality ratio: good value, bad value, overpriced, underpriced, etc.\n",
      "* Overall experience: worth it, not worth it, satisfied, dissatisfied, etc.\n",
      "\n",
      "**Location and Convenience**\n",
      "\n",
      "* Location: convenient, inconvenient, central, remote, etc.\n",
      "* Parking: easy, difficult, available, unavailable, etc.\n",
      "* Hours of operation: convenient, inconvenient, flexible, inflexible, etc.\n",
      "\n",
      "**Other**\n",
      "\n",
      "* Wait time: short, long, reasonable, unreasonable, etc.\n",
      "* Noise level: quiet, loud, tolerable, intolerable, etc.\n",
      "* Special occasions: suitable, unsuitable, romantic, family-friendly, etc.\n",
      "* Dietary options: available, unavailable, accommodating, unaccommodating, etc.\n",
      "\n",
      "These properties can be further broken down into more specific sub-properties, and can be weighted according to their importance to the user. For example, \"taste\" could be broken down into \"flavor\", \"texture\", and \"presentation\", and weighted according to their relative importance to the user.\n"
     ]
    }
   ],
   "source": [
    "response_e2e_2 = chat_LLM( \"Please list the property of restaurant according to \"+\"User comments datas about a restaurant in several aspects.\")"
   ]
  },
  {
   "cell_type": "markdown",
   "metadata": {},
   "source": [
    "# rotowire, role completion and info extract\n",
    "## 目标是13 + 20\n",
    "### 直接\n",
    "（1）球队\n",
    "1. **Points**: Total points scored by a team in a game.\n",
    "2. **Field Goals Made (FGM)**: Number of field goals made by a team in a game.\n",
    "3. **Field Goals Attempted (FGA)**: Number of field goals attempted by a team in a game.\n",
    "4. **Field Goal Percentage (FG%)**: Percentage of field goals made by a team in a game.\n",
    "5. **Three-Pointers Made (3PM)**: Number of three-pointers made by a team in a game.\n",
    "6. **Three-Pointers Attempted (3PA)**: Number of three-pointers attempted by a team in a game.\n",
    "7. **Three-Point Percentage (3P%)**: Percentage of three-pointers made by a team in a game.\n",
    "8. **Free Throws Made (FTM)**: Number of free throws made by a team in a game.\n",
    "9. **Free Throws Attempted (FTA)**: Number of free throws attempted by a team in a game.\n",
    "10. **Free Throw Percentage (FT%)**: Percentage of free throws made by a team in a game.\n",
    "11. **Rebounds**: Total rebounds grabbed by a team in a game.\n",
    "12. **Assists**: Total assists made by a team in a game.\n",
    "13. **Steals**: Total steals made by a team in a game.\n",
    "14. **Blocks**: Total blocks made by a team in a game.\n",
    "15. **Turnovers**: Total turnovers committed by a team in a game.\n",
    "\n",
    "**Player Properties:**\n",
    "\n",
    "1. **Points**: Total points scored by a player in a game.\n",
    "2. **Field Goals Made (FGM)**: Number of field goals made by a player in a game.\n",
    "3. **Field Goals Attempted (FGA)**: Number of field goals attempted by a player in a game.\n",
    "4. **Field Goal Percentage (FG%)**: Percentage of field goals made by a player in a game.\n",
    "5. **Three-Pointers Made (3PM)**: Number of three-pointers made by a player in a game.\n",
    "6. **Three-Pointers Attempted (3PA)**: Number of three-pointers attempted by a player in a game.\n",
    "7. **Three-Point Percentage (3P%)**: Percentage of three-pointers made by a player in a game.\n",
    "8. **Free Throws Made (FTM)**: Number of free throws made by a player in a game.\n",
    "9. **Free Throws Attempted (FTA)**: Number of free throws attempted by a player in a game.\n",
    "10. **Free Throw Percentage (FT%)**: Percentage of free throws made by a player in a game.\n",
    "11. **Rebounds**: Total rebounds grabbed by a player in a game.\n",
    "12. **Assists**: Total assists made by a player in a game.\n",
    "13. **Steals**: Total steals made by a player in a game.\n",
    "14. **Blocks**: Total blocks made by a player in a game.\n",
    "15. **Turnovers**: Total turnovers committed by a player in a game.\n",
    "16. **Minutes Played**: Total minutes played by a player in a game.\n",
    "17. **Plus/Minus**: The point differential when a player is on the court.\n",
    "\n",
    "9/13\n",
    "16/20\n",
    "\n",
    "### 无词频提示：\n",
    "（1）球队：*Name*, Arena, Location, Conference, Division, Founded, Team Value, Owner, Head Coach, Assistant Coaches, Roster, Players, Positions, Games Played, *Wins*, *Losses*, *Points Scored*, Points Allowed, *Rebounds*, *Assists*, *Steals*, *Blocks*, *Turnovers*, *Field Goal Percentage*, *Three-Point Shooting Percentage*, *Free Throw Percentage*.\n",
    "（2）球员：*Name*, Team, Position, Height, Weight, College, NBA Debut, *Points Per Game*, *Rebounds Per Game*, *Assists Per Game*, *Blocks Per Game*, *Steals Per Game*, *Shooting Percentage*, Career Awards, Career Highlights.\n",
    "\n",
    "(1+1+1+1+1+1+1+1+1+4*0.75)/13=12/13\n",
    "(6+2*0.75 + 6*0.75)/20 = 12/20\n",
    "\n",
    "### 有词频提示:\n",
    "（1）球队：1. *Team Name*\n",
    "2. *Points Scored*\n",
    "3. *Rebounds*\n",
    "4. *Assists*\n",
    "5. Minutes Played\n",
    "6. *Field Goal Percentage*\n",
    "7. *Three-Point Shooting Percentage*\n",
    "8. Free Throw Percentage\n",
    "9. Steals\n",
    "10. Blocks\n",
    "11. *Turnovers*\n",
    "12. *Wins*\n",
    "13. *Losses*\n",
    "14. Home Record\n",
    "15. Away Record\n",
    "16. Conference\n",
    "17. Division\n",
    "18. Starting Lineup\n",
    "19. Bench Strength\n",
    "20. Season Performance\n",
    "（2）球员：\n",
    "*Name*, *Points*, *Rebounds*, *Assists*, *Minutes Played*, *Field Goal Percentage*, *Three-Point Shooting Percentage*, *Free Throw Percentage*, *Steals*, *Blocks*, *Turnovers*, Games Played, Wins, Losses, Team, Position, Scoring Average, Rebounding Average, Assist Average, Shooting Performance, Season Statistics.\n",
    "(1+1+1+1+1+1+1+1+1+4*0.75)/13=12/13\n",
    "(3+2*0.75+5+6*0.75+3)/20 = 17/20\n",
    "\n",
    "\n"
   ]
  },
  {
   "cell_type": "code",
   "execution_count": null,
   "metadata": {},
   "outputs": [],
   "source": [
    "ordinary_truth = \"Statistics of a single NBA basketball game including 2 teams and players.\"\n",
    "statistic_words = fre_list[1]\n",
    "# 角色完备度\n",
    "# role_types_extra_prompts(EVENT=\"A basketball game\", DESC=ordinary_truth, ROLES_KNOW=, WORDS)\n",
    "no_statistic_inputs_team = role_info_extra_prompt.format( ROLE=\"The basketball team\", DESC=ordinary_truth, WORDS=\"No related words\")\n",
    "no_statistic_inputs_player = role_info_extra_prompt.format( ROLE=\"The basketball player\", DESC=ordinary_truth, WORDS=\"No related words\")\n",
    "statistic_inputs_team = role_info_extra_prompt.format( ROLE=\"The basketball team\", DESC=ordinary_truth, WORDS=statistic_words)\n",
    "statistic_inputs_player = role_info_extra_prompt.format( ROLE=\"The basketball player\", DESC=ordinary_truth, WORDS=statistic_words)"
   ]
  },
  {
   "cell_type": "code",
   "execution_count": null,
   "metadata": {},
   "outputs": [
    {
     "name": "stdout",
     "output_type": "stream",
     "text": [
      "Based on the description and high-frequency words provided, I will infer the properties of the role type \"The basketball team\" as follows:\n",
      "\n",
      "Response: Name, Arena, Location, Conference, Division, Founded, Team Value, Owner, Head Coach, Assistant Coaches, Roster, Players, Positions, Games Played, Wins, Losses, Points Scored, Points Allowed, Rebounds, Assists, Steals, Blocks, Turnovers, Field Goal Percentage, Three-Point Shooting Percentage, Free Throw Percentage.\n",
      "\n",
      "Please let me know if this is accurate or if I need to make any adjustments!\n"
     ]
    }
   ],
   "source": [
    "responses_1 = chat_LLM( no_statistic_inputs_team )"
   ]
  },
  {
   "cell_type": "code",
   "execution_count": null,
   "metadata": {},
   "outputs": [
    {
     "name": "stdout",
     "output_type": "stream",
     "text": [
      "Based on the description and high-frequency words, I'll infer the properties of the role type \"The basketball player\".\n",
      "\n",
      "Since there are no high-frequency words provided, I'll rely on my knowledge of basketball players and their common attributes.\n",
      "\n",
      "Here's my response:\n",
      "\n",
      "Response: Name, Team, Position, Height, Weight, College, NBA Debut, Points Per Game, Rebounds Per Game, Assists Per Game, Blocks Per Game, Steals Per Game, Shooting Percentage, Career Awards, Career Highlights.\n"
     ]
    }
   ],
   "source": [
    "responses_2 = chat_LLM( no_statistic_inputs_player )\n"
   ]
  },
  {
   "cell_type": "code",
   "execution_count": null,
   "metadata": {},
   "outputs": [
    {
     "name": "stdout",
     "output_type": "stream",
     "text": [
      "Based on the description and high-frequency words provided, I infer that the properties of the role type \"The basketball team\" are:\n",
      "\n",
      "1. Team Name\n",
      "2. Points Scored\n",
      "3. Rebounds\n",
      "4. Assists\n",
      "5. Minutes Played\n",
      "6. Field Goal Percentage\n",
      "7. Three-Point Shooting Percentage\n",
      "8. Free Throw Percentage\n",
      "9. Steals\n",
      "10. Blocks\n",
      "11. Turnovers\n",
      "12. Wins\n",
      "13. Losses\n",
      "14. Home Record\n",
      "15. Away Record\n",
      "16. Conference\n",
      "17. Division\n",
      "18. Starting Lineup\n",
      "19. Bench Strength\n",
      "20. Season Performance\n",
      "\n",
      "Please let me know if this is accurate or if I need to make any adjustments!\n"
     ]
    }
   ],
   "source": [
    "responses_3 = chat_LLM( statistic_inputs_team )"
   ]
  },
  {
   "cell_type": "code",
   "execution_count": null,
   "metadata": {},
   "outputs": [
    {
     "name": "stdout",
     "output_type": "stream",
     "text": [
      "Based on the description and high-frequency words provided, I infer the properties of the role type \"The basketball player\" to be:\n",
      "\n",
      "Name, Points, Rebounds, Assists, Minutes Played, Field Goal Percentage, Three-Point Shooting Percentage, Free Throw Percentage, Steals, Blocks, Turnovers, Games Played, Wins, Losses, Team, Position, Scoring Average, Rebounding Average, Assist Average, Shooting Performance, Season Statistics.\n",
      "\n",
      "Please let me know if this is accurate or if I need to make any adjustments!\n"
     ]
    }
   ],
   "source": [
    "responses_4 = chat_LLM( statistic_inputs_player )"
   ]
  },
  {
   "cell_type": "code",
   "execution_count": 4,
   "metadata": {},
   "outputs": [
    {
     "name": "stdout",
     "output_type": "stream",
     "text": [
      "Here are the properties of a basketball game according to statistics of a single NBA basketball game including 2 teams and players:\n",
      "\n",
      "**Team Properties:**\n",
      "\n",
      "1. **Points**: Total points scored by a team in a game.\n",
      "2. **Field Goals Made (FGM)**: Number of field goals made by a team in a game.\n",
      "3. **Field Goals Attempted (FGA)**: Number of field goals attempted by a team in a game.\n",
      "4. **Field Goal Percentage (FG%)**: Percentage of field goals made by a team in a game.\n",
      "5. **Three-Pointers Made (3PM)**: Number of three-pointers made by a team in a game.\n",
      "6. **Three-Pointers Attempted (3PA)**: Number of three-pointers attempted by a team in a game.\n",
      "7. **Three-Point Percentage (3P%)**: Percentage of three-pointers made by a team in a game.\n",
      "8. **Free Throws Made (FTM)**: Number of free throws made by a team in a game.\n",
      "9. **Free Throws Attempted (FTA)**: Number of free throws attempted by a team in a game.\n",
      "10. **Free Throw Percentage (FT%)**: Percentage of free throws made by a team in a game.\n",
      "11. **Rebounds**: Total rebounds grabbed by a team in a game.\n",
      "12. **Assists**: Total assists made by a team in a game.\n",
      "13. **Steals**: Total steals made by a team in a game.\n",
      "14. **Blocks**: Total blocks made by a team in a game.\n",
      "15. **Turnovers**: Total turnovers committed by a team in a game.\n",
      "\n",
      "**Player Properties:**\n",
      "\n",
      "1. **Points**: Total points scored by a player in a game.\n",
      "2. **Field Goals Made (FGM)**: Number of field goals made by a player in a game.\n",
      "3. **Field Goals Attempted (FGA)**: Number of field goals attempted by a player in a game.\n",
      "4. **Field Goal Percentage (FG%)**: Percentage of field goals made by a player in a game.\n",
      "5. **Three-Pointers Made (3PM)**: Number of three-pointers made by a player in a game.\n",
      "6. **Three-Pointers Attempted (3PA)**: Number of three-pointers attempted by a player in a game.\n",
      "7. **Three-Point Percentage (3P%)**: Percentage of three-pointers made by a player in a game.\n",
      "8. **Free Throws Made (FTM)**: Number of free throws made by a player in a game.\n",
      "9. **Free Throws Attempted (FTA)**: Number of free throws attempted by a player in a game.\n",
      "10. **Free Throw Percentage (FT%)**: Percentage of free throws made by a player in a game.\n",
      "11. **Rebounds**: Total rebounds grabbed by a player in a game.\n",
      "12. **Assists**: Total assists made by a player in a game.\n",
      "13. **Steals**: Total steals made by a player in a game.\n",
      "14. **Blocks**: Total blocks made by a player in a game.\n",
      "15. **Turnovers**: Total turnovers committed by a player in a game.\n",
      "16. **Minutes Played**: Total minutes played by a player in a game.\n",
      "17. **Plus/Minus**: The point differential when a player is on the court.\n",
      "\n",
      "Note: These properties can be further broken down into more detailed statistics, such as advanced metrics like True Shooting Percentage, Effective Field Goal Percentage, and Player Efficiency Rating (PER).\n"
     ]
    }
   ],
   "source": [
    "response_rotowire_5 = chat_LLM( \"Please list the property of basketball game  according to \"+\"Statistics of a single NBA basketball game including 2 teams and players.\")"
   ]
  },
  {
   "cell_type": "markdown",
   "metadata": {},
   "source": [
    "# CPL\n",
    "## 角色及其关系完备度\n",
    "### 目标角色：法院、审判员/长/法官、书记员；借款人、贷款人、担保人、法人代表、其他诉讼参与人（证人等）；借款人律师、贷款人律师、律师事务所\n",
    "（1）无词频：借款人 (Borrower)、贷款人 (Lender)、律师 (Lawyer)、证人 (Witness)、审判长 (Judge)\n",
    "（2）有词频：原告律师 (plaintiff's lawyer)、被告律师 (defendant's lawyer)、借款人 (borrower)、贷款人 (lender)、证人 (witness)、法官 (judge)、书记员 (clerk)、代理人 (agent)、律师事务所 (law firm)\n",
    "（3+2*0.75+1+1）/11 = 6.5/11\n",
    "9/11\n",
    "\n",
    "## 案件要素完备度：\n",
    "\n",
    "## 属性完备度：见CPL_field，10+8+13+9=40\n",
    "\n",
    "\n",
    "### 直接\n",
    "8/40\n",
    "### 无词频提示：\n",
    "Case Number, Borrower, Lender, Loan Amount, Loan Date, Repayment Date, Interest Rate, Loan Purpose, Dispute Reason, Court Verdict.\n",
    "\n",
    "6/40\n",
    "\n",
    "### 有词频提示:\n",
    "\n",
    "1. Plaintiff (原告)\n",
    "2. Defendant (被告)   #\n",
    "3. Loan Amount (借款) #\n",
    "4. Interest Rate (利息) #\n",
    "5. Court (法院)\n",
    "6. Lawsuit (诉讼)\n",
    "7. Judgment (判决)\n",
    "8. Payment Method (支付) #\n",
    "9. Company Involved (公司) #\n",
    "10. Principal Amount (本金) #\n",
    "11. Trial Process (审理)\n",
    "12. Agreement (约定) #\n",
    "13. Loan Contract (借条) #\n",
    "14. Evidence (证据) #\n",
    "15. Repayment (偿还) #\n",
    "16. Borrowing Relationship (借贷关系) #\n",
    "17. Legal Representative (代理人)\n",
    "18. Lawyer (律师)\n",
    "19. Proof (证明)\n",
    "20. Request (请求) #\n",
    "21. Debt (债务)\n",
    "22. Contract (合同)\n",
    "23. Obligation (义务)\n",
    "24. Responsibility (责任) #\n",
    "25. Case Number (案件号)\n",
    "26. Effective Date (生效日期)\n",
    "27. Interest Calculation (利率计算) #\n",
    "28. Litigation Process (诉讼程序) #\n",
    "29. Appeal (上诉)\n",
    "30. Confirmation (确认)\n",
    "\n",
    "15/40"
   ]
  },
  {
   "cell_type": "code",
   "execution_count": 16,
   "metadata": {},
   "outputs": [
    {
     "name": "stdout",
     "output_type": "stream",
     "text": [
      "Based on the event type and description, I will try to infer the roles types and their relations.\n",
      "\n",
      "Event: 民间借贷案件 (Private Lending Case)\n",
      "Description: User comments data about a private lending case in several aspects.\n",
      "Already known roles: 法院 (Court), 当事人 (Parties involved)\n",
      "High-frequency Words: No related words\n",
      "\n",
      "Response: \n",
      "\n",
      "Considering the event type and description, I will list other roles highly related with this event and known roles:\n",
      "\n",
      "* 借贷人 (Lender)\n",
      "* 借款人 (Borrower)\n",
      "* 证人 (Witness)\n",
      "* 律师 (Lawyer)\n",
      "* 审判长 (Judge)\n",
      "\n",
      "Please let me know if these roles are correct or if I need to make any adjustments!\n",
      "Based on the high-frequency words provided, I infer that the event \"民间借贷案件\" (civil loan dispute case) involves roles related to a legal dispute between individuals or entities regarding a loan. \n",
      "\n",
      "Already known roles: 法院 (Court), 当事人 (Party Involved)\n",
      "\n",
      "In addition to the known roles, I suggest the following highly related roles:\n",
      "\n",
      "* 原告律师 (Plaintiff's Lawyer)\n",
      "* 被告律师 (Defendant's Lawyer)\n",
      "* 证人 (Witness)\n",
      "* 审判长 (Judge)\n",
      "* 法律代理人 (Legal Representative)\n",
      "* 借款人 (Borrower)\n",
      "* 贷款人 (Lender)\n",
      "* 仲裁员 (Arbitrator)\n",
      "* 法庭书记员 (Court Clerk)\n",
      "\n",
      "These roles are highly related to the event and are likely to be involved in the legal dispute process.\n",
      "I'm happy to help!\n",
      "\n",
      "Based on the role type \"民间借贷案件\" (which translates to \"Private Lending Case\"), I'm going to make an educated inference about the properties of this role type.\n",
      "\n",
      "Response: Case Number, Borrower, Lender, Loan Amount, Loan Date, Repayment Date, Interest Rate, Loan Purpose, Dispute Reason, Court Verdict.\n",
      "\n",
      "Please let me know if this is accurate or if I need to make adjustments!\n",
      "Based on the description and high-frequency words provided, I infer the properties of the role type \"民间借贷案件\" (Private Loan Case) as follows:\n",
      "\n",
      "1. Case Number\n",
      "2. Plaintiff (原告)\n",
      "3. Defendant (被告)\n",
      "4. Loan Amount (借款)\n",
      "5. Interest Rate (利息)\n",
      "6. Litigation Process (诉讼)\n",
      "7. Court Judgment (判决)\n",
      "8. Payment Method (支付)\n",
      "9. Company Involved (公司)\n",
      "10. Principal Amount (本金)\n",
      "11. Court Name (法院)\n",
      "12. Trial Process (审理)\n",
      "13. Agreement Terms (约定)\n",
      "14. Loan Contract (借条)\n",
      "15. Evidence (证据)\n",
      "16. Repayment Method (偿还)\n",
      "17. Loan Relationship (借贷)\n",
      "18. Lawsuit Status (案件状态)\n",
      "19. Lawyer Information (律师信息)\n",
      "20. Legal Representative (代理人)\n",
      "\n",
      "Please note that some properties might be inferred based on the context and high-frequency words, but might not be directly mentioned in the description.\n"
     ]
    }
   ],
   "source": [
    "ordinary_truth_CPL = \"关于中国民间借贷领域的法律裁判文书，记录了原告的诉讼请求，被告的辩称，双方证据，以及法院的判决和理由。\"\n",
    "statistic_words_CPL = fre_list[4]\n",
    "# 角色完备度\"EVENT\", \"DESC\",\"ROLES_KNOW\", \"WORDS\"\n",
    "roles_CPL_no_sta = role_types_extra_prompts.format(EVENT=\"民间借贷案件\", DESC=ordinary_truth, ROLES_KNOW=\"法院、当事人\", WORDS=\"No related words\")\n",
    "roles_CPL = role_types_extra_prompts.format(EVENT=\"民间借贷案件\", DESC=ordinary_truth, ROLES_KNOW=\"法院、当事人\", WORDS=statistic_words_CPL)\n",
    "# 属性完备度\n",
    "property_CPL_no_sta = role_info_extra_prompt.format( ROLE=\"民间借贷案件\", DESC=ordinary_truth, WORDS=\"No related words\")\n",
    "property_CPL = role_info_extra_prompt.format( ROLE=\"民间借贷案件\", DESC=ordinary_truth, WORDS=statistic_words_CPL)\n",
    "\n",
    "CPL_response_0 = chat_LLM( roles_CPL_no_sta )\n",
    "CPL_response_1 = chat_LLM( roles_CPL )\n",
    "CPL_response_2 = chat_LLM( property_CPL_no_sta )\n",
    "CPL_response_3 = chat_LLM( property_CPL )"
   ]
  },
  {
   "cell_type": "code",
   "execution_count": 6,
   "metadata": {},
   "outputs": [
    {
     "name": "stdout",
     "output_type": "stream",
     "text": [
      "Here is a list of relevant attributes for a civil loan dispute case in China, based on legal judgments and court documents:\n",
      "\n",
      "**Case Information**\n",
      "\n",
      "* Case number: _____________________\n",
      "* Court: _______________________\n",
      "* Date of trial: __________________\n",
      "* Type of case: Civil loan dispute\n",
      "\n",
      "**Parties**\n",
      "\n",
      "* Plaintiff (原告): _____________________\n",
      "\t+ Name: _____________________\n",
      "\t+ Address: _____________________\n",
      "\t+ ID number: _____________________\n",
      "* Defendant (被告): _____________________\n",
      "\t+ Name: _____________________\n",
      "\t+ Address: _____________________\n",
      "\t+ ID number: _____________________\n",
      "\n",
      "**Plaintiff's Claims**\n",
      "\n",
      "* Loan amount: _____________________\n",
      "* Interest rate: _____________________\n",
      "* Loan period: _____________________\n",
      "* Repayment method: _____________________\n",
      "* Plaintiff's claims: _____________________ (e.g. repayment of loan, interest, and penalties)\n",
      "\n",
      "**Defendant's Defense**\n",
      "\n",
      "* Defendant's defense: _____________________ (e.g. denial of loan, dispute over interest rate, etc.)\n",
      "* Defendant's evidence: _____________________ (e.g. contracts, receipts, witness testimony, etc.)\n",
      "\n",
      "**Evidence**\n",
      "\n",
      "* Plaintiff's evidence: _____________________ (e.g. loan contract, payment records, etc.)\n",
      "* Defendant's evidence: _____________________ (e.g. contracts, receipts, witness testimony, etc.)\n",
      "* Witness testimony: _____________________ (if applicable)\n",
      "\n",
      "**Court's Judgment**\n",
      "\n",
      "* Judgment: _____________________ (e.g. in favor of plaintiff, in favor of defendant, or partial victory for both parties)\n",
      "* Reasoning: _____________________ (e.g. explanation of legal principles, analysis of evidence, etc.)\n",
      "* Compensation: _____________________ (if applicable, e.g. amount of loan, interest, and penalties to be repaid)\n",
      "\n",
      "**Legal Basis**\n",
      "\n",
      "* Relevant laws and regulations: _____________________ (e.g. Contract Law, Civil Procedure Law, etc.)\n",
      "* Judicial interpretations: _____________________ (if applicable, e.g. Supreme People's Court interpretations)\n",
      "\n",
      "**Other Relevant Information**\n",
      "\n",
      "* Any other relevant information that may affect the case, such as:\n",
      "\t+ Previous agreements or contracts between the parties\n",
      "\t+ Any prior disputes or litigation between the parties\n",
      "\t+ Any third-party involvement or guarantees\n",
      "\n",
      "Note: The specific attributes and information required may vary depending on the specific case and the court's requirements.\n"
     ]
    }
   ],
   "source": [
    "CPL_response_4 = chat_LLM( \"请列出一个民间借贷案件的相关属性，根据 \"+\"关于中国民间借贷领域的法律裁判文书，记录了原告的诉讼请求，被告的辩称，双方证据，以及法院的判决和理由。\")"
   ]
  },
  {
   "cell_type": "code",
   "execution_count": 4,
   "metadata": {},
   "outputs": [
    {
     "data": {
      "image/png": "[encoded data removed]",
      "text/plain": [
       "<Figure size 1000x500 with 1 Axes>"
      ]
     },
     "metadata": {},
     "output_type": "display_data"
    }
   ],
   "source": [
    "import matplotlib.pyplot as plt  \n",
    "import numpy as np  \n",
    "  \n",
    "# 假设的3x3表格数据  \n",
    "# 行代表主体，列代表属性  \n",
    "\n",
    "\n",
    "data = np.array([  \n",
    "    [3.5/7, 25.0/33, 8.0/40],  # 主体1的属性值  \n",
    "    [5.5/7, 24.0/33, 6.0/40],  # 主体2的属性值  \n",
    "    [6.75/7, 27.0/33, 15.0/40]   # 主体3的属性值  \n",
    "])  \n",
    "  \n",
    "# 主体和属性的标签  \n",
    "attributes  = ['E2E', 'Rotowire', 'CPL']  \n",
    "subjects = ['LLM', 'LLM+Template', 'LLM+Template+Statistics']  \n",
    "  \n",
    "# 柱状图的宽度  \n",
    "bar_width = 0.25  \n",
    "  \n",
    "# 设置x轴的位置（为了并排显示）  \n",
    "index = np.arange(len(attributes))  \n",
    "  \n",
    "# 创建一个新的图形和轴对象  \n",
    "fig, ax = plt.subplots(figsize=(10, 5))  \n",
    "  \n",
    "# 绘制柱状图，每个主体一组  \n",
    "for i, (subject, subject_data) in enumerate(zip(subjects, data)):  \n",
    "    # 计算当前主体的条形图的x位置  \n",
    "    x_pos = index + i * bar_width  \n",
    "    # 绘制条形图  \n",
    "    ax.bar(x_pos, subject_data, bar_width, label=subject)  \n",
    "  \n",
    "# 设置x轴标签和刻度  \n",
    "ax.set_xlabel('Dataset', fontsize=14)  \n",
    "ax.set_xticks(index + bar_width)  # 将刻度放在条形的中心  \n",
    "ax.set_xticklabels(attributes)  \n",
    "  \n",
    "# 设y轴标签  \n",
    "ax.set_ylabel('Value', fontsize=14)  \n",
    "  \n",
    "# 添加图例  \n",
    "ax.legend()  \n",
    "plt.savefig('/home/jiangpeiwen2/jiangpeiwen2/text-kgs-table/components/mix_ie/llm/first_stage.pdf', dpi=600, bbox_inches='tight',format=\"pdf\")\n",
    "# 显示图形  \n",
    "plt.show()"
   ]
  }
 ],
 "metadata": {
  "kernelspec": {
   "display_name": "tkgt",
   "language": "python",
   "name": "python3"
  },
  "language_info": {
   "codemirror_mode": {
    "name": "ipython",
    "version": 3
   },
   "file_extension": ".py",
   "mimetype": "text/x-python",
   "name": "python",
   "nbconvert_exporter": "python",
   "pygments_lexer": "ipython3",
   "version": "3.9.0"
  }
 },
 "nbformat": 4,
 "nbformat_minor": 2
}
