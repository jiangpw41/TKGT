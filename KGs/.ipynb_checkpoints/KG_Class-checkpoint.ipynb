{
 "cells": [
  {
   "cell_type": "code",
   "execution_count": 2,
   "id": "a8bbbcb2-d828-47c2-93fc-e4be5df85b01",
   "metadata": {},
   "outputs": [],
   "source": [
    "import numpy as np\n",
    "import pandas as pd\n",
    "import argparse\n",
    "import docx2txt\n",
    "import os, time\n",
    "import torch\n",
    "import jieba\n",
    "from tqdm import tqdm\n",
    "import httpx\n",
    "from openai import OpenAI\n",
    "import concurrent.futures\n",
    "\n",
    "timeout_limit = 30\n",
    "MODEL_NAME = \"gpt-4-turbo\"\n",
    "\n",
    "openai_key_dict = {\n",
    "    0:'sk-FlS3MJMJYEnRGamu8b609dE8F10f49FbB5A7F1A6Cd9d6254',\n",
    "}\n",
    "\n",
    "openai_key = openai_key_dict[0]\n",
    "\n",
    "client = OpenAI(\n",
    "    api_key = openai_key,\n",
    "    base_url=\"https://www.gptapi.us/v1/chat/completions\",\n",
    "    http_client = httpx.Client(proxies={\n",
    "        \"http://\": \"http://127.0.0.1:7890\",\n",
    "        \"https://\": \"http://127.0.0.1:7890\",\n",
    "    }),\n",
    ")\n",
    "\n",
    "def sending_prompt(client, prompt):\n",
    "    global MODEL_NAME\n",
    "    try:\n",
    "        completion = client.chat.completions.create(\n",
    "          model=MODEL_NAME,\n",
    "          messages=[\n",
    "            #{\"role\": \"system\", \"content\": \"You are a helpful assistant.\"},\n",
    "            {\"role\": \"user\", \"content\": prompt},\n",
    "          ]\n",
    "        )\n",
    "        return completion.choices[0].message.content\n",
    "    except Exception as e:\n",
    "        print(f\"Warning: {e} was raised during excuting {prompt}\")\n",
    "        return None\n",
    "\n"
   ]
  },
  {
   "cell_type": "code",
   "execution_count": 7,
   "id": "b562de05-884a-467e-b074-9e3234c4eeee",
   "metadata": {},
   "outputs": [],
   "source": [
    "SYS_PROMPT = {\"role\": \"system\", \"content\": \"You are a helpful assistant.\"}\n",
    "\n",
    "def append_history(prompt, response, prev_history = [SYS_PROMPT]):\n",
    "    prompt_pair = [{\"role\": \"user\", \"content\": prompt},\n",
    "            {\"role\": \"assistant\", \"content\": response}]\n",
    "    history = prev_history + prompt_pair\n",
    "    return history\n",
    "\n",
    "def build_message(prompt, history = [SYS_PROMPT]):\n",
    "    history.append({\"role\": \"user\", \"content\": prompt})\n",
    "    return history\n",
    "\n",
    "def sending_prompt_with_history(client, prompt, history):\n",
    "    global MODEL_NAME\n",
    "    try:\n",
    "        completion = client.chat.completions.create(\n",
    "          model=MODEL_NAME,\n",
    "          messages=build_message(prompt, history)\n",
    "        )\n",
    "        return completion.choices[0].message.content\n",
    "    except Exception as e:\n",
    "        print(f\"Warning: {e} was raised during excuting {prompt}\")\n",
    "        return None\n"
   ]
  },
  {
   "cell_type": "code",
   "execution_count": 3,
   "id": "e4a6667a-1b6c-4613-b3bb-b3354bf0dc34",
   "metadata": {},
   "outputs": [],
   "source": [
    "TestPrompt = \"I want to implement knowledge graph class in python, then some information extraction program would fill the instance initiated from the class up with information extracted from documents.\""
   ]
  },
  {
   "cell_type": "code",
   "execution_count": 4,
   "id": "2626d5e9-a3b2-472a-9a96-c96251fa4117",
   "metadata": {},
   "outputs": [],
   "source": [
    "result = sending_prompt(client, TestPrompt)"
   ]
  },
  {
   "cell_type": "code",
   "execution_count": 6,
   "id": "ae1b2167-debc-4593-8572-9e304e676fe1",
   "metadata": {},
   "outputs": [
    {
     "name": "stdout",
     "output_type": "stream",
     "text": [
      "To implement a knowledge graph class in Python that can be filled with information extracted from documents, you'll need to define a class that can store entities and relationships efficiently. Here's a basic implementation using Python classes and dictionaries to manage the entities and their relationships.\n",
      "\n",
      "### Step 1: Define the Knowledge Graph Class\n",
      "\n",
      "```python\n",
      "class KnowledgeGraph:\n",
      "    def __init__(self):\n",
      "        self.entities = {}\n",
      "        self.relationships = []\n",
      "\n",
      "    def add_entity(self, entity_id, entity_info):\n",
      "        self.entities[entity_id] = entity_info\n",
      "\n",
      "    def add_relationship(self, entity1, entity2, relationship_type):\n",
      "        self.relationships.append((entity1, entity2, relationship_type))\n",
      "\n",
      "    def get_entity(self, entity_id):\n",
      "        return self.entities.get(entity_id, None)\n",
      "\n",
      "    def get_relationships(self):\n",
      "        return self.relationships\n",
      "```\n",
      "\n",
      "### Step 2: Implement Information Extraction\n",
      "\n",
      "To fill the knowledge graph with information extracted from documents, you'll need to implement or integrate an information extraction module. This module should be able to identify entities and relationships within text. Here's a very basic structure of how you might set up this module:\n",
      "\n",
      "```python\n",
      "def extract_information(document):\n",
      "    # Placeholder for information extraction logic\n",
      "    # This should return a list of entities and relationships found in the document\n",
      "    entities = []\n",
      "    relationships = []\n",
      "    # Example of extracted data\n",
      "    entities.append(('entity1', {'name': 'Alice', 'type': 'Person'}))\n",
      "    entities.append(('entity2', {'name': 'Bob', 'type': 'Person'}))\n",
      "    relationships.append(('entity1', 'entity2', 'knows'))\n",
      "    return entities, relationships\n",
      "\n",
      "def populate_knowledge_graph(kg, document):\n",
      "    entities, relationships = extract_information(document)\n",
      "    for entity_id, info in entities:\n",
      "        kg.add_entity(entity_id, info)\n",
      "    for src, dest, rel_type in relationships:\n",
      "        kg.add_relationship(src, dest, rel_type)\n",
      "```\n",
      "\n",
      "### Step 3: Usage Example\n",
      "\n",
      "Here's how you might use these components together:\n",
      "\n",
      "```python\n",
      "# Create an instance of the Knowledge Graph\n",
      "kg = KnowledgeGraph()\n",
      "\n",
      "# Example document\n",
      "document = \"Alice knows Bob.\"\n",
      "\n",
      "# Populate the knowledge graph with extracted information\n",
      "populate_knowledge_graph(kg, document)\n",
      "\n",
      "# Accessing data from the knowledge graph\n",
      "print(kg.get_entity('entity1'))\n",
      "print(kg.get_relationships())\n",
      "```\n",
      "\n",
      "This example provides a basic framework. For a real-world application, you would need a more sophisticated information extraction system, possibly using NLP libraries like spaCy or NLTK, which can identify entities and relationships more accurately.\n"
     ]
    }
   ],
   "source": [
    "print(result)"
   ]
  },
  {
   "cell_type": "code",
   "execution_count": 9,
   "id": "43d6e812-cdf5-466d-a9fc-6d4bce4257a5",
   "metadata": {},
   "outputs": [],
   "source": [
    "history = append_history(TestPrompt, result)"
   ]
  },
  {
   "cell_type": "code",
   "execution_count": 10,
   "id": "de732cfb-ca9e-4650-a0d6-f48a6e833b7d",
   "metadata": {},
   "outputs": [],
   "source": [
    "new_prompt = \"I also want to visulize the KG class as a figure, how to implement that?\"\n",
    "\n",
    "new_result = sending_prompt_with_history(client, new_prompt, history)"
   ]
  },
  {
   "cell_type": "code",
   "execution_count": 11,
   "id": "ba27ba61-953c-4f37-8b56-0e9eb46f1975",
   "metadata": {},
   "outputs": [
    {
     "name": "stdout",
     "output_type": "stream",
     "text": [
      "To visualize the knowledge graph implemented in your Python class, you can use libraries such as `networkx` for graph representation and `matplotlib` for plotting. Here's how you can implement visualization:\n",
      "\n",
      "### Step 1: Install Required Libraries\n",
      "\n",
      "First, ensure you have the necessary libraries installed. You can install them using pip:\n",
      "\n",
      "```bash\n",
      "pip install networkx matplotlib\n",
      "```\n",
      "\n",
      "### Step 2: Modify the Knowledge Graph Class to Use NetworkX\n",
      "\n",
      "You'll need to modify your `KnowledgeGraph` class to use a `networkx` graph for storing entities and relationships, which will make visualization straightforward.\n",
      "\n",
      "```python\n",
      "import networkx as nx\n",
      "\n",
      "class KnowledgeGraph:\n",
      "    def __init__(self):\n",
      "        self.graph = nx.DiGraph()\n",
      "\n",
      "    def add_entity(self, entity_id, entity_info):\n",
      "        self.graph.add_node(entity_id, **entity_info)\n",
      "\n",
      "    def add_relationship(self, entity1, entity2, relationship_type):\n",
      "        self.graph.add_edge(entity1, entity2, relationship=relationship_type)\n",
      "\n",
      "    def get_entity(self, entity_id):\n",
      "        return self.graph.nodes[entity_id]\n",
      "\n",
      "    def get_relationships(self):\n",
      "        return self.graph.edges(data=True)\n",
      "```\n",
      "\n",
      "### Step 3: Implement Visualization Function\n",
      "\n",
      "Add a function to visualize the graph using `matplotlib`.\n",
      "\n",
      "```python\n",
      "import matplotlib.pyplot as plt\n",
      "\n",
      "def visualize_knowledge_graph(kg):\n",
      "    pos = nx.spring_layout(kg.graph)  # positions for all nodes\n",
      "    nx.draw(kg.graph, pos, with_labels=True, node_color='skyblue', node_size=2000, edge_color='k', linewidths=1, font_size=15)\n",
      "    edge_labels = nx.get_edge_attributes(kg.graph, 'relationship')\n",
      "    nx.draw_networkx_edge_labels(kg.graph, pos, edge_labels=edge_labels)\n",
      "    plt.show()\n",
      "```\n",
      "\n",
      "### Step 4: Usage Example\n",
      "\n",
      "Here's how you might use the visualization function with your knowledge graph:\n",
      "\n",
      "```python\n",
      "# Assuming 'kg' is already populated with entities and relationships\n",
      "visualize_knowledge_graph(kg)\n",
      "```\n",
      "\n",
      "This setup will display the knowledge graph as a directed graph, where nodes represent entities and edges represent relationships, labeled by their types. Adjust the visualization parameters in the `visualize_knowledge_graph` function as needed to better suit your data or preferences.\n"
     ]
    }
   ],
   "source": [
    "print(new_result)"
   ]
  },
  {
   "cell_type": "code",
   "execution_count": 43,
   "id": "c6b08f99-89bb-429b-a3a8-319493d21c02",
   "metadata": {},
   "outputs": [],
   "source": [
    "import networkx as nx\n",
    "import matplotlib.pyplot as plt\n",
    "import plotly.graph_objects as go"
   ]
  },
  {
   "cell_type": "code",
   "execution_count": 97,
   "id": "dabfb9b1-91d1-41dd-902b-6782bc15236d",
   "metadata": {},
   "outputs": [],
   "source": [
    "class KnowledgeGraph:\n",
    "    def __init__(self):\n",
    "        self.graph = nx.DiGraph()\n",
    "\n",
    "    def add_entity(self, entity_id, entity_info=None, default_labels=None):\n",
    "        if default_labels is None:\n",
    "            default_labels = []  # Default to an empty list if no default labels are provided\n",
    "        # Initialize default labels with None or empty values\n",
    "        entity_data = {label: None for label in default_labels}\n",
    "        # Update with any provided entity info\n",
    "        if entity_info is not None:\n",
    "            entity_data.update(entity_info)\n",
    "        self.graph.add_node(entity_id, **entity_data)\n",
    "\n",
    "    def update_entity(self, entity_id, updates):\n",
    "        if entity_id in self.graph:\n",
    "            self.graph.nodes[entity_id].update(updates)\n",
    "        else:\n",
    "            raise KeyError(f\"No entity found with ID {entity_id}\")\n",
    "\n",
    "    def get_unfilled_labels(self):\n",
    "        unfilled = {}\n",
    "        for node_id, data in self.graph.nodes(data=True):\n",
    "            missing_labels = {label: val for label, val in data.items() if val is None}\n",
    "            if missing_labels:\n",
    "                unfilled[node_id] = missing_labels\n",
    "        return unfilled\n",
    "\n",
    "    def get_entity(self, entity_id):\n",
    "        return self.graph.nodes[entity_id]\n",
    "\n",
    "    def add_relationship(self, entity1, entity2, attributes):\n",
    "        self.graph.add_edge(entity1, entity2, **attributes)\n"
   ]
  },
  {
   "cell_type": "code",
   "execution_count": 84,
   "id": "470fa8d7-00f3-44b7-ae7d-c02076e00d17",
   "metadata": {},
   "outputs": [],
   "source": [
    "class KnowledgeGraph:\n",
    "    def __init__(self):\n",
    "        self.graph = nx.DiGraph()\n",
    "\n",
    "    def add_entity(self, entity_id, entity_type, entity_info=None, default_labels=None):\n",
    "        if default_labels is None:\n",
    "            default_labels = []\n",
    "        entity_data = {label: None for label in default_labels}\n",
    "        entity_data['type'] = entity_type\n",
    "        if entity_info is not None:\n",
    "            entity_data.update(entity_info)\n",
    "        # Ensure 'name' key is in entity data with a default value if not provided\n",
    "        entity_data.setdefault('name', 'Unnamed Entity')\n",
    "        self.graph.add_node(entity_id, **entity_data)\n",
    "\n",
    "    def add_relationship(self, entity1, entity2, relationship_type, attributes=None):\n",
    "        if attributes is None:\n",
    "            attributes = {}\n",
    "        self.graph.add_edge(entity1, entity2, relationship_type=relationship_type, **attributes)\n",
    "\n",
    "    def update_entity(self, entity_id, updates):\n",
    "        if entity_id in self.graph.nodes:\n",
    "            self.graph.nodes[entity_id].update(updates)\n",
    "        else:\n",
    "            raise KeyError(f\"No entity found with ID {entity_id}\")\n",
    "\n",
    "    def find_entities_with_missing_labels(self):\n",
    "        unfilled = {}\n",
    "        for node_id, data in self.graph.nodes(data=True):\n",
    "            missing_labels = {label: val for label, val in data.items() if val is None}\n",
    "            if missing_labels:\n",
    "                unfilled[node_id] = missing_labels\n",
    "        return unfilled\n"
   ]
  },
  {
   "cell_type": "code",
   "execution_count": 88,
   "id": "617b02b0-c733-4be8-b0ac-de605b57e220",
   "metadata": {},
   "outputs": [],
   "source": [
    "import matplotlib\n",
    "\n",
    "# Configure matplotlib to use a font that supports Chinese characters\n",
    "matplotlib.rcParams['font.sans-serif'] = ['SimHei']  # or 'Microsoft YaHei'\n",
    "matplotlib.rcParams['axes.unicode_minus'] = False  # Ensures that negative signs display correctly\n",
    "\n",
    "def visualize_knowledge_graph(kg):\n",
    "    pos = nx.spring_layout(kg.graph)  # positions for all nodes\n",
    "    labels = {node: ', '.join([f\"{key}: {data[key]}\" for key in data]) for node, data in kg.graph.nodes(data=True)}\n",
    "    nx.draw(kg.graph, pos, labels=labels, with_labels=True, node_color='skyblue', node_size=2000, edge_color='k', linewidths=1, font_size=15)\n",
    "    edge_labels = {(u, v): ', '.join([f\"{key}: {data[key]}\" for key in data if key in ['relationship', 'since']]) for u, v, data in kg.graph.edges(data=True)}\n",
    "    nx.draw_networkx_edge_labels(kg.graph, pos, edge_labels=edge_labels)\n",
    "    plt.show()"
   ]
  },
  {
   "cell_type": "code",
   "execution_count": 48,
   "id": "2987fc0a-9f79-40b3-a1d6-c4412f838fd6",
   "metadata": {},
   "outputs": [],
   "source": [
    "def visualize_knowledge_graph_v2_drop(kg):\n",
    "    # Use Kamada-Kawai layout for better spacing\n",
    "    pos = nx.kamada_kawai_layout(kg.graph)\n",
    "\n",
    "    # Define node and font sizes dynamically based on the graph size\n",
    "    node_size = 5000 / len(kg.graph.nodes()) + 1000\n",
    "    font_size = 20 / len(kg.graph.nodes())**0.5 + 10\n",
    "\n",
    "    labels = {node: ', '.join([f\"{key}: {data[key]}\" for key in data]) for node, data in kg.graph.nodes(data=True)}\n",
    "    nx.draw(kg.graph, pos, labels=labels, with_labels=True, node_color='skyblue', node_size=node_size, edge_color='k', linewidths=1, font_size=font_size)\n",
    "    \n",
    "    edge_labels = {(u, v): ', '.join([f\"{key}: {data[key]}\" for key in data if key in ['relationship', 'since']]) for u, v, data in kg.graph.edges(data=True)}\n",
    "    nx.draw_networkx_edge_labels(kg.graph, pos, edge_labels=edge_labels, font_size=font_size-4)\n",
    "    plt.show()"
   ]
  },
  {
   "cell_type": "code",
   "execution_count": 62,
   "id": "e6e8315f-a8fd-4c0e-9a5a-2709c7149f7a",
   "metadata": {},
   "outputs": [],
   "source": [
    "\n",
    "def visualize_knowledge_graph_interactive(kg):\n",
    "    pos = nx.kamada_kawai_layout(kg.graph)  # Optimal layout for visibility\n",
    "\n",
    "    # For edges\n",
    "    edge_x = []\n",
    "    edge_y = []\n",
    "    edge_hovertext = []  # List to store hover text for each edge\n",
    "\n",
    "    for edge in kg.graph.edges(data=True):\n",
    "        x0, y0 = pos[edge[0]]\n",
    "        x1, y1 = pos[edge[1]]\n",
    "        edge_x.append((x0 + x1) / 2)  # Middle of the edge for the text\n",
    "        edge_y.append((y0 + y1) / 2)\n",
    "        # Format the hover text for the edges\n",
    "        edge_hovertext.append('<br>'.join([f\"{key}: {value}\" for key, value in edge[2].items()]))\n",
    "\n",
    "    # Invisible edge traces for better hover interaction\n",
    "    edge_trace = go.Scatter(\n",
    "        x=edge_x, y=edge_y,\n",
    "        text=edge_hovertext,\n",
    "        mode='markers',\n",
    "        hoverinfo='text',\n",
    "        marker=dict(size=1, color='rgba(0,0,0,0)'),  # Invisible markers\n",
    "        hoverlabel=dict(namelength=-1))\n",
    "\n",
    "    # For nodes\n",
    "    node_x = [pos[node][0] for node in kg.graph.nodes()]\n",
    "    node_y = [pos[node][1] for node in kg.graph.nodes()]\n",
    "    node_info = ['<br>'.join([f\"{key}: {value}\" for key, value in data.items()]) for node, data in kg.graph.nodes(data=True)]\n",
    "\n",
    "    node_trace = go.Scatter(\n",
    "        x=node_x, y=node_y,\n",
    "        mode='markers+text',\n",
    "        text=[data['name'] for node, data in kg.graph.nodes(data=True)],\n",
    "        marker=dict(showscale=True, colorscale='YlGnBu', size=10, color=[], line_width=2),\n",
    "        textposition=\"bottom center\",\n",
    "        hoverinfo='text',\n",
    "        hovertext=node_info)\n",
    "\n",
    "    # Line trace for visible edges\n",
    "    line_x = []\n",
    "    line_y = []\n",
    "    for edge in kg.graph.edges():\n",
    "        x0, y0 = pos[edge[0]]\n",
    "        x1, y1 = pos[edge[1]]\n",
    "        line_x.extend([x0, x1, None])\n",
    "        line_y.extend([y0, y1, None])\n",
    "    line_trace = go.Scatter(\n",
    "        x=line_x, y=line_y,\n",
    "        line=dict(width=2, color='#888'),\n",
    "        mode='lines',\n",
    "        hoverinfo='none')\n",
    "\n",
    "    fig = go.Figure(data=[line_trace, node_trace, edge_trace],\n",
    "                    layout=go.Layout(\n",
    "                        showlegend=False,\n",
    "                        hovermode='closest',\n",
    "                        margin=dict(b=0, l=0, r=0, t=0),\n",
    "                        xaxis=dict(showgrid=False, zeroline=False, showticklabels=False),\n",
    "                        yaxis=dict(showgrid=False, zeroline=False, showticklabels=False))\n",
    "                    )\n",
    "    fig.show()\n",
    "\n",
    "# Use this function to visualize your graph\n"
   ]
  },
  {
   "cell_type": "code",
   "execution_count": 28,
   "id": "e741493a-bdfc-43f2-b83c-9b847d326120",
   "metadata": {},
   "outputs": [
    {
     "data": {
      "text/plain": [
       "{('entity1', 'entity2'): {'relationship': 'spouse', 'since': '2010'},\n",
       " ('entity2', 'entity3'): {'relationship': 'colleague', 'since': '2015'},\n",
       " ('entity3', 'entity1'): {'relationship': 'friend', 'since': '2008'}}"
      ]
     },
     "execution_count": 28,
     "metadata": {},
     "output_type": "execute_result"
    }
   ],
   "source": [
    "{(u, v): data for u, v, data in kg.graph.edges(data=True)}"
   ]
  },
  {
   "cell_type": "code",
   "execution_count": 31,
   "id": "1a585ac7-dcbc-4747-9de9-07c926100ca1",
   "metadata": {},
   "outputs": [
    {
     "data": {
      "text/plain": [
       "{'entity1': 'John Doe, Age: 30',\n",
       " 'entity2': 'Jane Doe, Age: 25',\n",
       " 'entity3': 'Alice Smith, Age: 28'}"
      ]
     },
     "execution_count": 31,
     "metadata": {},
     "output_type": "execute_result"
    }
   ],
   "source": [
    "labels = {node: f\"{data['name']}, Age: {data['age']}\" for node, data in kg.graph.nodes(data=True)}\n",
    "labels"
   ]
  },
  {
   "cell_type": "code",
   "execution_count": 30,
   "id": "199af2fd-fa83-41a7-a181-f023a0027773",
   "metadata": {},
   "outputs": [
    {
     "data": {
      "text/plain": [
       "{'entity1': {'name': 'John Doe', 'age': 30},\n",
       " 'entity2': {'name': 'Jane Doe', 'age': 25},\n",
       " 'entity3': {'name': 'Alice Smith', 'age': 28}}"
      ]
     },
     "execution_count": 30,
     "metadata": {},
     "output_type": "execute_result"
    }
   ],
   "source": [
    "node_data = {(u): data for u, data in kg.graph.nodes(data=True)}"
   ]
  },
  {
   "cell_type": "code",
   "execution_count": 66,
   "id": "69422e86-53ca-4487-94d2-7b6aaaf3889c",
   "metadata": {},
   "outputs": [
    {
     "data": {
      "image/png": "[encoded data removed]",
      "text/plain": [
       "<Figure size 432x288 with 1 Axes>"
      ]
     },
     "metadata": {},
     "output_type": "display_data"
    }
   ],
   "source": [
    "kg = KnowledgeGraph()\n",
    "kg.add_entity('entity1', {'name': 'John Doe', 'age': 30})\n",
    "kg.add_entity('entity2', {'name': 'Jane Doe', 'age': 25})\n",
    "kg.add_entity('entity3', {'name': 'Alice Smith', 'age': 28})\n",
    "\n",
    "# Add relationships with multiple attributes\n",
    "kg.add_relationship('entity1', 'entity2', {'relationship': 'spouse', 'since': '2010'})\n",
    "kg.add_relationship('entity2', 'entity3', {'relationship': 'colleague', 'since': '2015'})\n",
    "kg.add_relationship('entity3', 'entity1', {'relationship': 'friend', 'since': '2008'})\n",
    "\n",
    "visualize_knowledge_graph(kg)\n"
   ]
  },
  {
   "cell_type": "code",
   "execution_count": 67,
   "id": "b73a0e14-c114-410e-90a5-b2110a454d91",
   "metadata": {},
   "outputs": [
    {
     "data": {
      "application/vnd.plotly.v1+json": {
       "config": {
        "plotlyServerURL": "https://plot.ly"
       },
       "data": [
        {
         "hoverinfo": "none",
         "line": {
          "color": "#888",
          "width": 2
         },
         "mode": "lines",
         "type": "scatter",
         "x": [
          0.9999999999999999,
          -0.500000048440078,
          null,
          -0.500000048440078,
          -0.4999999515599219,
          null,
          -0.4999999515599219,
          0.9999999999999999,
          null
         ],
         "y": [
          4.996632459638968e-08,
          0.8660253808632437,
          null,
          0.8660253808632437,
          -0.8660254308295682,
          null,
          -0.8660254308295682,
          4.996632459638968e-08,
          null
         ]
        },
        {
         "hoverinfo": "text",
         "hovertext": [
          "name: John Doe<br>age: 30",
          "name: Jane Doe<br>age: 25",
          "name: Alice Smith<br>age: 28"
         ],
         "marker": {
          "color": [],
          "colorscale": [
           [
            0,
            "rgb(255,255,217)"
           ],
           [
            0.125,
            "rgb(237,248,177)"
           ],
           [
            0.25,
            "rgb(199,233,180)"
           ],
           [
            0.375,
            "rgb(127,205,187)"
           ],
           [
            0.5,
            "rgb(65,182,196)"
           ],
           [
            0.625,
            "rgb(29,145,192)"
           ],
           [
            0.75,
            "rgb(34,94,168)"
           ],
           [
            0.875,
            "rgb(37,52,148)"
           ],
           [
            1,
            "rgb(8,29,88)"
           ]
          ],
          "line": {
           "width": 2
          },
          "showscale": true,
          "size": 10
         },
         "mode": "markers+text",
         "text": [
          "John Doe",
          "Jane Doe",
          "Alice Smith"
         ],
         "textposition": "bottom center",
         "type": "scatter",
         "x": [
          0.9999999999999999,
          -0.500000048440078,
          -0.4999999515599219
         ],
         "y": [
          4.996632459638968e-08,
          0.8660253808632437,
          -0.8660254308295682
         ]
        },
        {
         "hoverinfo": "text",
         "hoverlabel": {
          "namelength": -1
         },
         "marker": {
          "color": "rgba(0, 0, 0, 0)",
          "size": 1
         },
         "mode": "markers",
         "text": [
          "relationship: spouse<br>since: 2010",
          "relationship: colleague<br>since: 2015",
          "relationship: friend<br>since: 2008"
         ],
         "type": "scatter",
         "x": [
          0.24999997577996097,
          -0.4999999999999999,
          0.250000024220039
         ],
         "y": [
          0.43301271541478414,
          -2.4983162261182912e-08,
          -0.43301269043162177
         ]
        }
       ],
       "layout": {
        "autosize": true,
        "hovermode": "closest",
        "margin": {
         "b": 0,
         "l": 0,
         "r": 0,
         "t": 0
        },
        "showlegend": false,
        "template": {
         "data": {
          "bar": [
           {
            "error_x": {
             "color": "#2a3f5f"
            },
            "error_y": {
             "color": "#2a3f5f"
            },
            "marker": {
             "line": {
              "color": "#E5ECF6",
              "width": 0.5
             },
             "pattern": {
              "fillmode": "overlay",
              "size": 10,
              "solidity": 0.2
             }
            },
            "type": "bar"
           }
          ],
          "barpolar": [
           {
            "marker": {
             "line": {
              "color": "#E5ECF6",
              "width": 0.5
             },
             "pattern": {
              "fillmode": "overlay",
              "size": 10,
              "solidity": 0.2
             }
            },
            "type": "barpolar"
           }
          ],
          "carpet": [
           {
            "aaxis": {
             "endlinecolor": "#2a3f5f",
             "gridcolor": "white",
             "linecolor": "white",
             "minorgridcolor": "white",
             "startlinecolor": "#2a3f5f"
            },
            "baxis": {
             "endlinecolor": "#2a3f5f",
             "gridcolor": "white",
             "linecolor": "white",
             "minorgridcolor": "white",
             "startlinecolor": "#2a3f5f"
            },
            "type": "carpet"
           }
          ],
          "choropleth": [
           {
            "colorbar": {
             "outlinewidth": 0,
             "ticks": ""
            },
            "type": "choropleth"
           }
          ],
          "contour": [
           {
            "colorbar": {
             "outlinewidth": 0,
             "ticks": ""
            },
            "colorscale": [
             [
              0,
              "#0d0887"
             ],
             [
              0.1111111111111111,
              "#46039f"
             ],
             [
              0.2222222222222222,
              "#7201a8"
             ],
             [
              0.3333333333333333,
              "#9c179e"
             ],
             [
              0.4444444444444444,
              "#bd3786"
             ],
             [
              0.5555555555555556,
              "#d8576b"
             ],
             [
              0.6666666666666666,
              "#ed7953"
             ],
             [
              0.7777777777777778,
              "#fb9f3a"
             ],
             [
              0.8888888888888888,
              "#fdca26"
             ],
             [
              1,
              "#f0f921"
             ]
            ],
            "type": "contour"
           }
          ],
          "contourcarpet": [
           {
            "colorbar": {
             "outlinewidth": 0,
             "ticks": ""
            },
            "type": "contourcarpet"
           }
          ],
          "heatmap": [
           {
            "colorbar": {
             "outlinewidth": 0,
             "ticks": ""
            },
            "colorscale": [
             [
              0,
              "#0d0887"
             ],
             [
              0.1111111111111111,
              "#46039f"
             ],
             [
              0.2222222222222222,
              "#7201a8"
             ],
             [
              0.3333333333333333,
              "#9c179e"
             ],
             [
              0.4444444444444444,
              "#bd3786"
             ],
             [
              0.5555555555555556,
              "#d8576b"
             ],
             [
              0.6666666666666666,
              "#ed7953"
             ],
             [
              0.7777777777777778,
              "#fb9f3a"
             ],
             [
              0.8888888888888888,
              "#fdca26"
             ],
             [
              1,
              "#f0f921"
             ]
            ],
            "type": "heatmap"
           }
          ],
          "heatmapgl": [
           {
            "colorbar": {
             "outlinewidth": 0,
             "ticks": ""
            },
            "colorscale": [
             [
              0,
              "#0d0887"
             ],
             [
              0.1111111111111111,
              "#46039f"
             ],
             [
              0.2222222222222222,
              "#7201a8"
             ],
             [
              0.3333333333333333,
              "#9c179e"
             ],
             [
              0.4444444444444444,
              "#bd3786"
             ],
             [
              0.5555555555555556,
              "#d8576b"
             ],
             [
              0.6666666666666666,
              "#ed7953"
             ],
             [
              0.7777777777777778,
              "#fb9f3a"
             ],
             [
              0.8888888888888888,
              "#fdca26"
             ],
             [
              1,
              "#f0f921"
             ]
            ],
            "type": "heatmapgl"
           }
          ],
          "histogram": [
           {
            "marker": {
             "pattern": {
              "fillmode": "overlay",
              "size": 10,
              "solidity": 0.2
             }
            },
            "type": "histogram"
           }
          ],
          "histogram2d": [
           {
            "colorbar": {
             "outlinewidth": 0,
             "ticks": ""
            },
            "colorscale": [
             [
              0,
              "#0d0887"
             ],
             [
              0.1111111111111111,
              "#46039f"
             ],
             [
              0.2222222222222222,
              "#7201a8"
             ],
             [
              0.3333333333333333,
              "#9c179e"
             ],
             [
              0.4444444444444444,
              "#bd3786"
             ],
             [
              0.5555555555555556,
              "#d8576b"
             ],
             [
              0.6666666666666666,
              "#ed7953"
             ],
             [
              0.7777777777777778,
              "#fb9f3a"
             ],
             [
              0.8888888888888888,
              "#fdca26"
             ],
             [
              1,
              "#f0f921"
             ]
            ],
            "type": "histogram2d"
           }
          ],
          "histogram2dcontour": [
           {
            "colorbar": {
             "outlinewidth": 0,
             "ticks": ""
            },
            "colorscale": [
             [
              0,
              "#0d0887"
             ],
             [
              0.1111111111111111,
              "#46039f"
             ],
             [
              0.2222222222222222,
              "#7201a8"
             ],
             [
              0.3333333333333333,
              "#9c179e"
             ],
             [
              0.4444444444444444,
              "#bd3786"
             ],
             [
              0.5555555555555556,
              "#d8576b"
             ],
             [
              0.6666666666666666,
              "#ed7953"
             ],
             [
              0.7777777777777778,
              "#fb9f3a"
             ],
             [
              0.8888888888888888,
              "#fdca26"
             ],
             [
              1,
              "#f0f921"
             ]
            ],
            "type": "histogram2dcontour"
           }
          ],
          "mesh3d": [
           {
            "colorbar": {
             "outlinewidth": 0,
             "ticks": ""
            },
            "type": "mesh3d"
           }
          ],
          "parcoords": [
           {
            "line": {
             "colorbar": {
              "outlinewidth": 0,
              "ticks": ""
             }
            },
            "type": "parcoords"
           }
          ],
          "pie": [
           {
            "automargin": true,
            "type": "pie"
           }
          ],
          "scatter": [
           {
            "fillpattern": {
             "fillmode": "overlay",
             "size": 10,
             "solidity": 0.2
            },
            "type": "scatter"
           }
          ],
          "scatter3d": [
           {
            "line": {
             "colorbar": {
              "outlinewidth": 0,
              "ticks": ""
             }
            },
            "marker": {
             "colorbar": {
              "outlinewidth": 0,
              "ticks": ""
             }
            },
            "type": "scatter3d"
           }
          ],
          "scattercarpet": [
           {
            "marker": {
             "colorbar": {
              "outlinewidth": 0,
              "ticks": ""
             }
            },
            "type": "scattercarpet"
           }
          ],
          "scattergeo": [
           {
            "marker": {
             "colorbar": {
              "outlinewidth": 0,
              "ticks": ""
             }
            },
            "type": "scattergeo"
           }
          ],
          "scattergl": [
           {
            "marker": {
             "colorbar": {
              "outlinewidth": 0,
              "ticks": ""
             }
            },
            "type": "scattergl"
           }
          ],
          "scattermapbox": [
           {
            "marker": {
             "colorbar": {
              "outlinewidth": 0,
              "ticks": ""
             }
            },
            "type": "scattermapbox"
           }
          ],
          "scatterpolar": [
           {
            "marker": {
             "colorbar": {
              "outlinewidth": 0,
              "ticks": ""
             }
            },
            "type": "scatterpolar"
           }
          ],
          "scatterpolargl": [
           {
            "marker": {
             "colorbar": {
              "outlinewidth": 0,
              "ticks": ""
             }
            },
            "type": "scatterpolargl"
           }
          ],
          "scatterternary": [
           {
            "marker": {
             "colorbar": {
              "outlinewidth": 0,
              "ticks": ""
             }
            },
            "type": "scatterternary"
           }
          ],
          "surface": [
           {
            "colorbar": {
             "outlinewidth": 0,
             "ticks": ""
            },
            "colorscale": [
             [
              0,
              "#0d0887"
             ],
             [
              0.1111111111111111,
              "#46039f"
             ],
             [
              0.2222222222222222,
              "#7201a8"
             ],
             [
              0.3333333333333333,
              "#9c179e"
             ],
             [
              0.4444444444444444,
              "#bd3786"
             ],
             [
              0.5555555555555556,
              "#d8576b"
             ],
             [
              0.6666666666666666,
              "#ed7953"
             ],
             [
              0.7777777777777778,
              "#fb9f3a"
             ],
             [
              0.8888888888888888,
              "#fdca26"
             ],
             [
              1,
              "#f0f921"
             ]
            ],
            "type": "surface"
           }
          ],
          "table": [
           {
            "cells": {
             "fill": {
              "color": "#EBF0F8"
             },
             "line": {
              "color": "white"
             }
            },
            "header": {
             "fill": {
              "color": "#C8D4E3"
             },
             "line": {
              "color": "white"
             }
            },
            "type": "table"
           }
          ]
         },
         "layout": {
          "annotationdefaults": {
           "arrowcolor": "#2a3f5f",
           "arrowhead": 0,
           "arrowwidth": 1
          },
          "autotypenumbers": "strict",
          "coloraxis": {
           "colorbar": {
            "outlinewidth": 0,
            "ticks": ""
           }
          },
          "colorscale": {
           "diverging": [
            [
             0,
             "#8e0152"
            ],
            [
             0.1,
             "#c51b7d"
            ],
            [
             0.2,
             "#de77ae"
            ],
            [
             0.3,
             "#f1b6da"
            ],
            [
             0.4,
             "#fde0ef"
            ],
            [
             0.5,
             "#f7f7f7"
            ],
            [
             0.6,
             "#e6f5d0"
            ],
            [
             0.7,
             "#b8e186"
            ],
            [
             0.8,
             "#7fbc41"
            ],
            [
             0.9,
             "#4d9221"
            ],
            [
             1,
             "#276419"
            ]
           ],
           "sequential": [
            [
             0,
             "#0d0887"
            ],
            [
             0.1111111111111111,
             "#46039f"
            ],
            [
             0.2222222222222222,
             "#7201a8"
            ],
            [
             0.3333333333333333,
             "#9c179e"
            ],
            [
             0.4444444444444444,
             "#bd3786"
            ],
            [
             0.5555555555555556,
             "#d8576b"
            ],
            [
             0.6666666666666666,
             "#ed7953"
            ],
            [
             0.7777777777777778,
             "#fb9f3a"
            ],
            [
             0.8888888888888888,
             "#fdca26"
            ],
            [
             1,
             "#f0f921"
            ]
           ],
           "sequentialminus": [
            [
             0,
             "#0d0887"
            ],
            [
             0.1111111111111111,
             "#46039f"
            ],
            [
             0.2222222222222222,
             "#7201a8"
            ],
            [
             0.3333333333333333,
             "#9c179e"
            ],
            [
             0.4444444444444444,
             "#bd3786"
            ],
            [
             0.5555555555555556,
             "#d8576b"
            ],
            [
             0.6666666666666666,
             "#ed7953"
            ],
            [
             0.7777777777777778,
             "#fb9f3a"
            ],
            [
             0.8888888888888888,
             "#fdca26"
            ],
            [
             1,
             "#f0f921"
            ]
           ]
          },
          "colorway": [
           "#636efa",
           "#EF553B",
           "#00cc96",
           "#ab63fa",
           "#FFA15A",
           "#19d3f3",
           "#FF6692",
           "#B6E880",
           "#FF97FF",
           "#FECB52"
          ],
          "font": {
           "color": "#2a3f5f"
          },
          "geo": {
           "bgcolor": "white",
           "lakecolor": "white",
           "landcolor": "#E5ECF6",
           "showlakes": true,
           "showland": true,
           "subunitcolor": "white"
          },
          "hoverlabel": {
           "align": "left"
          },
          "hovermode": "closest",
          "mapbox": {
           "style": "light"
          },
          "paper_bgcolor": "white",
          "plot_bgcolor": "#E5ECF6",
          "polar": {
           "angularaxis": {
            "gridcolor": "white",
            "linecolor": "white",
            "ticks": ""
           },
           "bgcolor": "#E5ECF6",
           "radialaxis": {
            "gridcolor": "white",
            "linecolor": "white",
            "ticks": ""
           }
          },
          "scene": {
           "xaxis": {
            "backgroundcolor": "#E5ECF6",
            "gridcolor": "white",
            "gridwidth": 2,
            "linecolor": "white",
            "showbackground": true,
            "ticks": "",
            "zerolinecolor": "white"
           },
           "yaxis": {
            "backgroundcolor": "#E5ECF6",
            "gridcolor": "white",
            "gridwidth": 2,
            "linecolor": "white",
            "showbackground": true,
            "ticks": "",
            "zerolinecolor": "white"
           },
           "zaxis": {
            "backgroundcolor": "#E5ECF6",
            "gridcolor": "white",
            "gridwidth": 2,
            "linecolor": "white",
            "showbackground": true,
            "ticks": "",
            "zerolinecolor": "white"
           }
          },
          "shapedefaults": {
           "line": {
            "color": "#2a3f5f"
           }
          },
          "ternary": {
           "aaxis": {
            "gridcolor": "white",
            "linecolor": "white",
            "ticks": ""
           },
           "baxis": {
            "gridcolor": "white",
            "linecolor": "white",
            "ticks": ""
           },
           "bgcolor": "#E5ECF6",
           "caxis": {
            "gridcolor": "white",
            "linecolor": "white",
            "ticks": ""
           }
          },
          "title": {
           "x": 0.05
          },
          "xaxis": {
           "automargin": true,
           "gridcolor": "white",
           "linecolor": "white",
           "ticks": "",
           "title": {
            "standoff": 15
           },
           "zerolinecolor": "white",
           "zerolinewidth": 2
          },
          "yaxis": {
           "automargin": true,
           "gridcolor": "white",
           "linecolor": "white",
           "ticks": "",
           "title": {
            "standoff": 15
           },
           "zerolinecolor": "white",
           "zerolinewidth": 2
          }
         }
        },
        "xaxis": {
         "autorange": true,
         "range": [
          -0.6006310712846132,
          1.100631022844535
         ],
         "showgrid": false,
         "showticklabels": false,
         "type": "linear",
         "zeroline": false
        },
        "yaxis": {
         "autorange": true,
         "range": [
          -1.0008640574220262,
          1.0008640074557018
         ],
         "showgrid": false,
         "showticklabels": false,
         "type": "linear",
         "zeroline": false
        }
       }
      },
      "image/png": "[encoded data removed]",
      "text/html": [
       "<div>                            <div id=\"e07dfd9a-2322-4cc6-bd91-911744500ff1\" class=\"plotly-graph-div\" style=\"height:525px; width:100%;\"></div>            <script type=\"text/javascript\">                require([\"plotly\"], function(Plotly) {                    window.PLOTLYENV=window.PLOTLYENV || {};                                    if (document.getElementById(\"e07dfd9a-2322-4cc6-bd91-911744500ff1\")) {                    Plotly.newPlot(                        \"e07dfd9a-2322-4cc6-bd91-911744500ff1\",                        [{\"hoverinfo\":\"none\",\"line\":{\"color\":\"#888\",\"width\":2},\"mode\":\"lines\",\"x\":[0.9999999999999999,-0.500000048440078,null,-0.500000048440078,-0.4999999515599219,null,-0.4999999515599219,0.9999999999999999,null],\"y\":[4.996632459638968e-08,0.8660253808632437,null,0.8660253808632437,-0.8660254308295682,null,-0.8660254308295682,4.996632459638968e-08,null],\"type\":\"scatter\"},{\"hoverinfo\":\"text\",\"hovertext\":[\"name: John Doe<br>age: 30\",\"name: Jane Doe<br>age: 25\",\"name: Alice Smith<br>age: 28\"],\"marker\":{\"color\":[],\"colorscale\":[[0.0,\"rgb(255,255,217)\"],[0.125,\"rgb(237,248,177)\"],[0.25,\"rgb(199,233,180)\"],[0.375,\"rgb(127,205,187)\"],[0.5,\"rgb(65,182,196)\"],[0.625,\"rgb(29,145,192)\"],[0.75,\"rgb(34,94,168)\"],[0.875,\"rgb(37,52,148)\"],[1.0,\"rgb(8,29,88)\"]],\"line\":{\"width\":2},\"showscale\":true,\"size\":10},\"mode\":\"markers+text\",\"text\":[\"John Doe\",\"Jane Doe\",\"Alice Smith\"],\"textposition\":\"bottom center\",\"x\":[0.9999999999999999,-0.500000048440078,-0.4999999515599219],\"y\":[4.996632459638968e-08,0.8660253808632437,-0.8660254308295682],\"type\":\"scatter\"},{\"hoverinfo\":\"text\",\"hoverlabel\":{\"namelength\":-1},\"marker\":{\"color\":\"rgba(0,0,0,0)\",\"size\":1},\"mode\":\"markers\",\"text\":[\"relationship: spouse<br>since: 2010\",\"relationship: colleague<br>since: 2015\",\"relationship: friend<br>since: 2008\"],\"x\":[0.24999997577996097,-0.4999999999999999,0.250000024220039],\"y\":[0.43301271541478414,-2.4983162261182912e-08,-0.43301269043162177],\"type\":\"scatter\"}],                        {\"hovermode\":\"closest\",\"margin\":{\"b\":0,\"l\":0,\"r\":0,\"t\":0},\"showlegend\":false,\"xaxis\":{\"showgrid\":false,\"showticklabels\":false,\"zeroline\":false},\"yaxis\":{\"showgrid\":false,\"showticklabels\":false,\"zeroline\":false},\"template\":{\"data\":{\"histogram2dcontour\":[{\"type\":\"histogram2dcontour\",\"colorbar\":{\"outlinewidth\":0,\"ticks\":\"\"},\"colorscale\":[[0.0,\"#0d0887\"],[0.1111111111111111,\"#46039f\"],[0.2222222222222222,\"#7201a8\"],[0.3333333333333333,\"#9c179e\"],[0.4444444444444444,\"#bd3786\"],[0.5555555555555556,\"#d8576b\"],[0.6666666666666666,\"#ed7953\"],[0.7777777777777778,\"#fb9f3a\"],[0.8888888888888888,\"#fdca26\"],[1.0,\"#f0f921\"]]}],\"choropleth\":[{\"type\":\"choropleth\",\"colorbar\":{\"outlinewidth\":0,\"ticks\":\"\"}}],\"histogram2d\":[{\"type\":\"histogram2d\",\"colorbar\":{\"outlinewidth\":0,\"ticks\":\"\"},\"colorscale\":[[0.0,\"#0d0887\"],[0.1111111111111111,\"#46039f\"],[0.2222222222222222,\"#7201a8\"],[0.3333333333333333,\"#9c179e\"],[0.4444444444444444,\"#bd3786\"],[0.5555555555555556,\"#d8576b\"],[0.6666666666666666,\"#ed7953\"],[0.7777777777777778,\"#fb9f3a\"],[0.8888888888888888,\"#fdca26\"],[1.0,\"#f0f921\"]]}],\"heatmap\":[{\"type\":\"heatmap\",\"colorbar\":{\"outlinewidth\":0,\"ticks\":\"\"},\"colorscale\":[[0.0,\"#0d0887\"],[0.1111111111111111,\"#46039f\"],[0.2222222222222222,\"#7201a8\"],[0.3333333333333333,\"#9c179e\"],[0.4444444444444444,\"#bd3786\"],[0.5555555555555556,\"#d8576b\"],[0.6666666666666666,\"#ed7953\"],[0.7777777777777778,\"#fb9f3a\"],[0.8888888888888888,\"#fdca26\"],[1.0,\"#f0f921\"]]}],\"heatmapgl\":[{\"type\":\"heatmapgl\",\"colorbar\":{\"outlinewidth\":0,\"ticks\":\"\"},\"colorscale\":[[0.0,\"#0d0887\"],[0.1111111111111111,\"#46039f\"],[0.2222222222222222,\"#7201a8\"],[0.3333333333333333,\"#9c179e\"],[0.4444444444444444,\"#bd3786\"],[0.5555555555555556,\"#d8576b\"],[0.6666666666666666,\"#ed7953\"],[0.7777777777777778,\"#fb9f3a\"],[0.8888888888888888,\"#fdca26\"],[1.0,\"#f0f921\"]]}],\"contourcarpet\":[{\"type\":\"contourcarpet\",\"colorbar\":{\"outlinewidth\":0,\"ticks\":\"\"}}],\"contour\":[{\"type\":\"contour\",\"colorbar\":{\"outlinewidth\":0,\"ticks\":\"\"},\"colorscale\":[[0.0,\"#0d0887\"],[0.1111111111111111,\"#46039f\"],[0.2222222222222222,\"#7201a8\"],[0.3333333333333333,\"#9c179e\"],[0.4444444444444444,\"#bd3786\"],[0.5555555555555556,\"#d8576b\"],[0.6666666666666666,\"#ed7953\"],[0.7777777777777778,\"#fb9f3a\"],[0.8888888888888888,\"#fdca26\"],[1.0,\"#f0f921\"]]}],\"surface\":[{\"type\":\"surface\",\"colorbar\":{\"outlinewidth\":0,\"ticks\":\"\"},\"colorscale\":[[0.0,\"#0d0887\"],[0.1111111111111111,\"#46039f\"],[0.2222222222222222,\"#7201a8\"],[0.3333333333333333,\"#9c179e\"],[0.4444444444444444,\"#bd3786\"],[0.5555555555555556,\"#d8576b\"],[0.6666666666666666,\"#ed7953\"],[0.7777777777777778,\"#fb9f3a\"],[0.8888888888888888,\"#fdca26\"],[1.0,\"#f0f921\"]]}],\"mesh3d\":[{\"type\":\"mesh3d\",\"colorbar\":{\"outlinewidth\":0,\"ticks\":\"\"}}],\"scatter\":[{\"fillpattern\":{\"fillmode\":\"overlay\",\"size\":10,\"solidity\":0.2},\"type\":\"scatter\"}],\"parcoords\":[{\"type\":\"parcoords\",\"line\":{\"colorbar\":{\"outlinewidth\":0,\"ticks\":\"\"}}}],\"scatterpolargl\":[{\"type\":\"scatterpolargl\",\"marker\":{\"colorbar\":{\"outlinewidth\":0,\"ticks\":\"\"}}}],\"bar\":[{\"error_x\":{\"color\":\"#2a3f5f\"},\"error_y\":{\"color\":\"#2a3f5f\"},\"marker\":{\"line\":{\"color\":\"#E5ECF6\",\"width\":0.5},\"pattern\":{\"fillmode\":\"overlay\",\"size\":10,\"solidity\":0.2}},\"type\":\"bar\"}],\"scattergeo\":[{\"type\":\"scattergeo\",\"marker\":{\"colorbar\":{\"outlinewidth\":0,\"ticks\":\"\"}}}],\"scatterpolar\":[{\"type\":\"scatterpolar\",\"marker\":{\"colorbar\":{\"outlinewidth\":0,\"ticks\":\"\"}}}],\"histogram\":[{\"marker\":{\"pattern\":{\"fillmode\":\"overlay\",\"size\":10,\"solidity\":0.2}},\"type\":\"histogram\"}],\"scattergl\":[{\"type\":\"scattergl\",\"marker\":{\"colorbar\":{\"outlinewidth\":0,\"ticks\":\"\"}}}],\"scatter3d\":[{\"type\":\"scatter3d\",\"line\":{\"colorbar\":{\"outlinewidth\":0,\"ticks\":\"\"}},\"marker\":{\"colorbar\":{\"outlinewidth\":0,\"ticks\":\"\"}}}],\"scattermapbox\":[{\"type\":\"scattermapbox\",\"marker\":{\"colorbar\":{\"outlinewidth\":0,\"ticks\":\"\"}}}],\"scatterternary\":[{\"type\":\"scatterternary\",\"marker\":{\"colorbar\":{\"outlinewidth\":0,\"ticks\":\"\"}}}],\"scattercarpet\":[{\"type\":\"scattercarpet\",\"marker\":{\"colorbar\":{\"outlinewidth\":0,\"ticks\":\"\"}}}],\"carpet\":[{\"aaxis\":{\"endlinecolor\":\"#2a3f5f\",\"gridcolor\":\"white\",\"linecolor\":\"white\",\"minorgridcolor\":\"white\",\"startlinecolor\":\"#2a3f5f\"},\"baxis\":{\"endlinecolor\":\"#2a3f5f\",\"gridcolor\":\"white\",\"linecolor\":\"white\",\"minorgridcolor\":\"white\",\"startlinecolor\":\"#2a3f5f\"},\"type\":\"carpet\"}],\"table\":[{\"cells\":{\"fill\":{\"color\":\"#EBF0F8\"},\"line\":{\"color\":\"white\"}},\"header\":{\"fill\":{\"color\":\"#C8D4E3\"},\"line\":{\"color\":\"white\"}},\"type\":\"table\"}],\"barpolar\":[{\"marker\":{\"line\":{\"color\":\"#E5ECF6\",\"width\":0.5},\"pattern\":{\"fillmode\":\"overlay\",\"size\":10,\"solidity\":0.2}},\"type\":\"barpolar\"}],\"pie\":[{\"automargin\":true,\"type\":\"pie\"}]},\"layout\":{\"autotypenumbers\":\"strict\",\"colorway\":[\"#636efa\",\"#EF553B\",\"#00cc96\",\"#ab63fa\",\"#FFA15A\",\"#19d3f3\",\"#FF6692\",\"#B6E880\",\"#FF97FF\",\"#FECB52\"],\"font\":{\"color\":\"#2a3f5f\"},\"hovermode\":\"closest\",\"hoverlabel\":{\"align\":\"left\"},\"paper_bgcolor\":\"white\",\"plot_bgcolor\":\"#E5ECF6\",\"polar\":{\"bgcolor\":\"#E5ECF6\",\"angularaxis\":{\"gridcolor\":\"white\",\"linecolor\":\"white\",\"ticks\":\"\"},\"radialaxis\":{\"gridcolor\":\"white\",\"linecolor\":\"white\",\"ticks\":\"\"}},\"ternary\":{\"bgcolor\":\"#E5ECF6\",\"aaxis\":{\"gridcolor\":\"white\",\"linecolor\":\"white\",\"ticks\":\"\"},\"baxis\":{\"gridcolor\":\"white\",\"linecolor\":\"white\",\"ticks\":\"\"},\"caxis\":{\"gridcolor\":\"white\",\"linecolor\":\"white\",\"ticks\":\"\"}},\"coloraxis\":{\"colorbar\":{\"outlinewidth\":0,\"ticks\":\"\"}},\"colorscale\":{\"sequential\":[[0.0,\"#0d0887\"],[0.1111111111111111,\"#46039f\"],[0.2222222222222222,\"#7201a8\"],[0.3333333333333333,\"#9c179e\"],[0.4444444444444444,\"#bd3786\"],[0.5555555555555556,\"#d8576b\"],[0.6666666666666666,\"#ed7953\"],[0.7777777777777778,\"#fb9f3a\"],[0.8888888888888888,\"#fdca26\"],[1.0,\"#f0f921\"]],\"sequentialminus\":[[0.0,\"#0d0887\"],[0.1111111111111111,\"#46039f\"],[0.2222222222222222,\"#7201a8\"],[0.3333333333333333,\"#9c179e\"],[0.4444444444444444,\"#bd3786\"],[0.5555555555555556,\"#d8576b\"],[0.6666666666666666,\"#ed7953\"],[0.7777777777777778,\"#fb9f3a\"],[0.8888888888888888,\"#fdca26\"],[1.0,\"#f0f921\"]],\"diverging\":[[0,\"#8e0152\"],[0.1,\"#c51b7d\"],[0.2,\"#de77ae\"],[0.3,\"#f1b6da\"],[0.4,\"#fde0ef\"],[0.5,\"#f7f7f7\"],[0.6,\"#e6f5d0\"],[0.7,\"#b8e186\"],[0.8,\"#7fbc41\"],[0.9,\"#4d9221\"],[1,\"#276419\"]]},\"xaxis\":{\"gridcolor\":\"white\",\"linecolor\":\"white\",\"ticks\":\"\",\"title\":{\"standoff\":15},\"zerolinecolor\":\"white\",\"automargin\":true,\"zerolinewidth\":2},\"yaxis\":{\"gridcolor\":\"white\",\"linecolor\":\"white\",\"ticks\":\"\",\"title\":{\"standoff\":15},\"zerolinecolor\":\"white\",\"automargin\":true,\"zerolinewidth\":2},\"scene\":{\"xaxis\":{\"backgroundcolor\":\"#E5ECF6\",\"gridcolor\":\"white\",\"linecolor\":\"white\",\"showbackground\":true,\"ticks\":\"\",\"zerolinecolor\":\"white\",\"gridwidth\":2},\"yaxis\":{\"backgroundcolor\":\"#E5ECF6\",\"gridcolor\":\"white\",\"linecolor\":\"white\",\"showbackground\":true,\"ticks\":\"\",\"zerolinecolor\":\"white\",\"gridwidth\":2},\"zaxis\":{\"backgroundcolor\":\"#E5ECF6\",\"gridcolor\":\"white\",\"linecolor\":\"white\",\"showbackground\":true,\"ticks\":\"\",\"zerolinecolor\":\"white\",\"gridwidth\":2}},\"shapedefaults\":{\"line\":{\"color\":\"#2a3f5f\"}},\"annotationdefaults\":{\"arrowcolor\":\"#2a3f5f\",\"arrowhead\":0,\"arrowwidth\":1},\"geo\":{\"bgcolor\":\"white\",\"landcolor\":\"#E5ECF6\",\"subunitcolor\":\"white\",\"showland\":true,\"showlakes\":true,\"lakecolor\":\"white\"},\"title\":{\"x\":0.05},\"mapbox\":{\"style\":\"light\"}}}},                        {\"responsive\": true}                    ).then(function(){\n",
       "                            \n",
       "var gd = document.getElementById('e07dfd9a-2322-4cc6-bd91-911744500ff1');\n",
       "var x = new MutationObserver(function (mutations, observer) {{\n",
       "        var display = window.getComputedStyle(gd).display;\n",
       "        if (!display || display === 'none') {{\n",
       "            console.log([gd, 'removed!']);\n",
       "            Plotly.purge(gd);\n",
       "            observer.disconnect();\n",
       "        }}\n",
       "}});\n",
       "\n",
       "// Listen for the removal of the full notebook cells\n",
       "var notebookContainer = gd.closest('#notebook-container');\n",
       "if (notebookContainer) {{\n",
       "    x.observe(notebookContainer, {childList: true});\n",
       "}}\n",
       "\n",
       "// Listen for the clearing of the current output cell\n",
       "var outputEl = gd.closest('.output');\n",
       "if (outputEl) {{\n",
       "    x.observe(outputEl, {childList: true});\n",
       "}}\n",
       "\n",
       "                        })                };                });            </script>        </div>"
      ]
     },
     "metadata": {},
     "output_type": "display_data"
    }
   ],
   "source": [
    "# Use this function to visualize your graph\n",
    "visualize_knowledge_graph_interactive(kg)"
   ]
  },
  {
   "cell_type": "code",
   "execution_count": 90,
   "id": "933bc0c2-e15c-46f8-8d25-813805199200",
   "metadata": {},
   "outputs": [
    {
     "data": {
      "image/png": "[encoded data removed]",
      "text/plain": [
       "<Figure size 432x288 with 1 Axes>"
      ]
     },
     "metadata": {},
     "output_type": "display_data"
    }
   ],
   "source": [
    "# Assuming you've already defined the KnowledgeGraph class and the visualize_knowledge_graph function\n",
    "\n",
    "# Create a new instance of the KnowledgeGraph\n",
    "kg = KnowledgeGraph()\n",
    "\n",
    "# Add entities with more varied attributes\n",
    "kg.add_entity('entity1', {'name': 'John Doe', 'age': 30, 'occupation': 'Engineer'})\n",
    "kg.add_entity('entity2', {'name': 'Jane Doe', 'age': 25, 'occupation': 'Doctor'})\n",
    "kg.add_entity('entity3', {'name': 'Alice Smith', 'age': 28, 'occupation': 'Artist'})\n",
    "kg.add_entity('entity4', {'name': 'Bob Johnson', 'age': 35, 'occupation': 'Lawyer'})\n",
    "kg.add_entity('entity5', {'name': 'Charlie Brown', 'age': 40, 'occupation': 'Writer'})\n",
    "\n",
    "# Add relationships with varying attributes\n",
    "kg.add_relationship('entity1', 'entity2', {'relationship': 'spouse', 'since': '2010', 'status': 'married'})\n",
    "kg.add_relationship('entity2', 'entity3', {'relationship': 'colleague', 'since': '2015'})\n",
    "kg.add_relationship('entity3', 'entity1', {'relationship': 'friend', 'since': '2008'})\n",
    "kg.add_relationship('entity4', 'entity5', {'relationship': 'partner', 'since': '2012'})\n",
    "kg.add_relationship('entity1', 'entity4', {'relationship': 'cousin', 'since': '2000'})\n",
    "kg.add_relationship('entity2', 'entity5', {'relationship': 'friend', 'since': '2013'})\n",
    "kg.add_relationship('entity3', 'entity4', {'relationship': 'acquaintance', 'since': '2017'})\n",
    "\n",
    "# Visualize the updated knowledge graph\n",
    "visualize_knowledge_graph(kg)\n"
   ]
  },
  {
   "cell_type": "code",
   "execution_count": 91,
   "id": "db0caeb0-5d57-4972-9322-909578db99fd",
   "metadata": {},
   "outputs": [
    {
     "data": {
      "application/vnd.plotly.v1+json": {
       "config": {
        "plotlyServerURL": "https://plot.ly"
       },
       "data": [
        {
         "line": {
          "color": "#888",
          "width": 2
         },
         "mode": "lines",
         "type": "scatter",
         "x": [
          -0.034244823333246806,
          0.8087110936634732,
          null,
          -0.034244823333246806,
          -0.764574634445979,
          null,
          0.8087110936634732,
          -1,
          null,
          0.8087110936634732,
          0.9901083641157523,
          null,
          -1,
          -0.034244823333246806,
          null,
          -1,
          -0.764574634445979,
          null,
          -0.764574634445979,
          0.9901083641157523,
          null
         ],
         "y": [
          -0.22359277886012585,
          0.9438069803440798,
          null,
          -0.22359277886012585,
          -0.8486631668544818,
          null,
          0.9438069803440798,
          0.7787852182047872,
          null,
          0.9438069803440798,
          -0.6503362528342593,
          null,
          0.7787852182047872,
          -0.22359277886012585,
          null,
          0.7787852182047872,
          -0.8486631668544818,
          null,
          -0.8486631668544818,
          -0.6503362528342593,
          null
         ]
        },
        {
         "hoverinfo": "text",
         "hovertext": [
          "type: {'name': 'John Doe', 'age': 30, 'occupation': 'Engineer'}<br>name: Unnamed Entity",
          "type: {'name': 'Jane Doe', 'age': 25, 'occupation': 'Doctor'}<br>name: Unnamed Entity",
          "type: {'name': 'Alice Smith', 'age': 28, 'occupation': 'Artist'}<br>name: Unnamed Entity",
          "type: {'name': 'Bob Johnson', 'age': 35, 'occupation': 'Lawyer'}<br>name: Unnamed Entity",
          "type: {'name': 'Charlie Brown', 'age': 40, 'occupation': 'Writer'}<br>name: Unnamed Entity"
         ],
         "marker": {
          "colorscale": [
           [
            0,
            "rgb(255,255,217)"
           ],
           [
            0.125,
            "rgb(237,248,177)"
           ],
           [
            0.25,
            "rgb(199,233,180)"
           ],
           [
            0.375,
            "rgb(127,205,187)"
           ],
           [
            0.5,
            "rgb(65,182,196)"
           ],
           [
            0.625,
            "rgb(29,145,192)"
           ],
           [
            0.75,
            "rgb(34,94,168)"
           ],
           [
            0.875,
            "rgb(37,52,148)"
           ],
           [
            1,
            "rgb(8,29,88)"
           ]
          ],
          "showscale": true,
          "size": 10
         },
         "mode": "markers+text",
         "text": [
          "Unnamed Entity",
          "Unnamed Entity",
          "Unnamed Entity",
          "Unnamed Entity",
          "Unnamed Entity"
         ],
         "textposition": "bottom center",
         "type": "scatter",
         "x": [
          -0.034244823333246806,
          0.8087110936634732,
          -1,
          -0.764574634445979,
          0.9901083641157523
         ],
         "y": [
          -0.22359277886012585,
          0.9438069803440798,
          0.7787852182047872,
          -0.8486631668544818,
          -0.6503362528342593
         ]
        },
        {
         "hoverinfo": "text",
         "marker": {
          "color": "rgba(0, 0, 0, 0)",
          "size": 1
         },
         "mode": "markers",
         "text": [
          "relationship_type: {'relationship': 'spouse', 'since': '2010', 'status': 'married'}",
          "relationship_type: {'relationship': 'cousin', 'since': '2000'}",
          "relationship_type: {'relationship': 'colleague', 'since': '2015'}",
          "relationship_type: {'relationship': 'friend', 'since': '2013'}",
          "relationship_type: {'relationship': 'friend', 'since': '2008'}",
          "relationship_type: {'relationship': 'acquaintance', 'since': '2017'}",
          "relationship_type: {'relationship': 'partner', 'since': '2012'}"
         ],
         "type": "scatter",
         "x": [
          0.38723313516511315,
          -0.3994097288896129,
          -0.09564445316826342,
          0.8994097288896128,
          -0.5171224116666234,
          -0.8822873172229895,
          0.11276686483488668
         ],
         "y": [
          0.360107100741977,
          -0.5361279728573038,
          0.8612960992744335,
          0.14673536375491025,
          0.27759621967233067,
          -0.03493897432484733,
          -0.7494997098443705
         ]
        }
       ],
       "layout": {
        "autosize": true,
        "hovermode": "closest",
        "margin": {
         "b": 0,
         "l": 0,
         "r": 0,
         "t": 0
        },
        "showlegend": false,
        "template": {
         "data": {
          "bar": [
           {
            "error_x": {
             "color": "#2a3f5f"
            },
            "error_y": {
             "color": "#2a3f5f"
            },
            "marker": {
             "line": {
              "color": "#E5ECF6",
              "width": 0.5
             },
             "pattern": {
              "fillmode": "overlay",
              "size": 10,
              "solidity": 0.2
             }
            },
            "type": "bar"
           }
          ],
          "barpolar": [
           {
            "marker": {
             "line": {
              "color": "#E5ECF6",
              "width": 0.5
             },
             "pattern": {
              "fillmode": "overlay",
              "size": 10,
              "solidity": 0.2
             }
            },
            "type": "barpolar"
           }
          ],
          "carpet": [
           {
            "aaxis": {
             "endlinecolor": "#2a3f5f",
             "gridcolor": "white",
             "linecolor": "white",
             "minorgridcolor": "white",
             "startlinecolor": "#2a3f5f"
            },
            "baxis": {
             "endlinecolor": "#2a3f5f",
             "gridcolor": "white",
             "linecolor": "white",
             "minorgridcolor": "white",
             "startlinecolor": "#2a3f5f"
            },
            "type": "carpet"
           }
          ],
          "choropleth": [
           {
            "colorbar": {
             "outlinewidth": 0,
             "ticks": ""
            },
            "type": "choropleth"
           }
          ],
          "contour": [
           {
            "colorbar": {
             "outlinewidth": 0,
             "ticks": ""
            },
            "colorscale": [
             [
              0,
              "#0d0887"
             ],
             [
              0.1111111111111111,
              "#46039f"
             ],
             [
              0.2222222222222222,
              "#7201a8"
             ],
             [
              0.3333333333333333,
              "#9c179e"
             ],
             [
              0.4444444444444444,
              "#bd3786"
             ],
             [
              0.5555555555555556,
              "#d8576b"
             ],
             [
              0.6666666666666666,
              "#ed7953"
             ],
             [
              0.7777777777777778,
              "#fb9f3a"
             ],
             [
              0.8888888888888888,
              "#fdca26"
             ],
             [
              1,
              "#f0f921"
             ]
            ],
            "type": "contour"
           }
          ],
          "contourcarpet": [
           {
            "colorbar": {
             "outlinewidth": 0,
             "ticks": ""
            },
            "type": "contourcarpet"
           }
          ],
          "heatmap": [
           {
            "colorbar": {
             "outlinewidth": 0,
             "ticks": ""
            },
            "colorscale": [
             [
              0,
              "#0d0887"
             ],
             [
              0.1111111111111111,
              "#46039f"
             ],
             [
              0.2222222222222222,
              "#7201a8"
             ],
             [
              0.3333333333333333,
              "#9c179e"
             ],
             [
              0.4444444444444444,
              "#bd3786"
             ],
             [
              0.5555555555555556,
              "#d8576b"
             ],
             [
              0.6666666666666666,
              "#ed7953"
             ],
             [
              0.7777777777777778,
              "#fb9f3a"
             ],
             [
              0.8888888888888888,
              "#fdca26"
             ],
             [
              1,
              "#f0f921"
             ]
            ],
            "type": "heatmap"
           }
          ],
          "heatmapgl": [
           {
            "colorbar": {
             "outlinewidth": 0,
             "ticks": ""
            },
            "colorscale": [
             [
              0,
              "#0d0887"
             ],
             [
              0.1111111111111111,
              "#46039f"
             ],
             [
              0.2222222222222222,
              "#7201a8"
             ],
             [
              0.3333333333333333,
              "#9c179e"
             ],
             [
              0.4444444444444444,
              "#bd3786"
             ],
             [
              0.5555555555555556,
              "#d8576b"
             ],
             [
              0.6666666666666666,
              "#ed7953"
             ],
             [
              0.7777777777777778,
              "#fb9f3a"
             ],
             [
              0.8888888888888888,
              "#fdca26"
             ],
             [
              1,
              "#f0f921"
             ]
            ],
            "type": "heatmapgl"
           }
          ],
          "histogram": [
           {
            "marker": {
             "pattern": {
              "fillmode": "overlay",
              "size": 10,
              "solidity": 0.2
             }
            },
            "type": "histogram"
           }
          ],
          "histogram2d": [
           {
            "colorbar": {
             "outlinewidth": 0,
             "ticks": ""
            },
            "colorscale": [
             [
              0,
              "#0d0887"
             ],
             [
              0.1111111111111111,
              "#46039f"
             ],
             [
              0.2222222222222222,
              "#7201a8"
             ],
             [
              0.3333333333333333,
              "#9c179e"
             ],
             [
              0.4444444444444444,
              "#bd3786"
             ],
             [
              0.5555555555555556,
              "#d8576b"
             ],
             [
              0.6666666666666666,
              "#ed7953"
             ],
             [
              0.7777777777777778,
              "#fb9f3a"
             ],
             [
              0.8888888888888888,
              "#fdca26"
             ],
             [
              1,
              "#f0f921"
             ]
            ],
            "type": "histogram2d"
           }
          ],
          "histogram2dcontour": [
           {
            "colorbar": {
             "outlinewidth": 0,
             "ticks": ""
            },
            "colorscale": [
             [
              0,
              "#0d0887"
             ],
             [
              0.1111111111111111,
              "#46039f"
             ],
             [
              0.2222222222222222,
              "#7201a8"
             ],
             [
              0.3333333333333333,
              "#9c179e"
             ],
             [
              0.4444444444444444,
              "#bd3786"
             ],
             [
              0.5555555555555556,
              "#d8576b"
             ],
             [
              0.6666666666666666,
              "#ed7953"
             ],
             [
              0.7777777777777778,
              "#fb9f3a"
             ],
             [
              0.8888888888888888,
              "#fdca26"
             ],
             [
              1,
              "#f0f921"
             ]
            ],
            "type": "histogram2dcontour"
           }
          ],
          "mesh3d": [
           {
            "colorbar": {
             "outlinewidth": 0,
             "ticks": ""
            },
            "type": "mesh3d"
           }
          ],
          "parcoords": [
           {
            "line": {
             "colorbar": {
              "outlinewidth": 0,
              "ticks": ""
             }
            },
            "type": "parcoords"
           }
          ],
          "pie": [
           {
            "automargin": true,
            "type": "pie"
           }
          ],
          "scatter": [
           {
            "fillpattern": {
             "fillmode": "overlay",
             "size": 10,
             "solidity": 0.2
            },
            "type": "scatter"
           }
          ],
          "scatter3d": [
           {
            "line": {
             "colorbar": {
              "outlinewidth": 0,
              "ticks": ""
             }
            },
            "marker": {
             "colorbar": {
              "outlinewidth": 0,
              "ticks": ""
             }
            },
            "type": "scatter3d"
           }
          ],
          "scattercarpet": [
           {
            "marker": {
             "colorbar": {
              "outlinewidth": 0,
              "ticks": ""
             }
            },
            "type": "scattercarpet"
           }
          ],
          "scattergeo": [
           {
            "marker": {
             "colorbar": {
              "outlinewidth": 0,
              "ticks": ""
             }
            },
            "type": "scattergeo"
           }
          ],
          "scattergl": [
           {
            "marker": {
             "colorbar": {
              "outlinewidth": 0,
              "ticks": ""
             }
            },
            "type": "scattergl"
           }
          ],
          "scattermapbox": [
           {
            "marker": {
             "colorbar": {
              "outlinewidth": 0,
              "ticks": ""
             }
            },
            "type": "scattermapbox"
           }
          ],
          "scatterpolar": [
           {
            "marker": {
             "colorbar": {
              "outlinewidth": 0,
              "ticks": ""
             }
            },
            "type": "scatterpolar"
           }
          ],
          "scatterpolargl": [
           {
            "marker": {
             "colorbar": {
              "outlinewidth": 0,
              "ticks": ""
             }
            },
            "type": "scatterpolargl"
           }
          ],
          "scatterternary": [
           {
            "marker": {
             "colorbar": {
              "outlinewidth": 0,
              "ticks": ""
             }
            },
            "type": "scatterternary"
           }
          ],
          "surface": [
           {
            "colorbar": {
             "outlinewidth": 0,
             "ticks": ""
            },
            "colorscale": [
             [
              0,
              "#0d0887"
             ],
             [
              0.1111111111111111,
              "#46039f"
             ],
             [
              0.2222222222222222,
              "#7201a8"
             ],
             [
              0.3333333333333333,
              "#9c179e"
             ],
             [
              0.4444444444444444,
              "#bd3786"
             ],
             [
              0.5555555555555556,
              "#d8576b"
             ],
             [
              0.6666666666666666,
              "#ed7953"
             ],
             [
              0.7777777777777778,
              "#fb9f3a"
             ],
             [
              0.8888888888888888,
              "#fdca26"
             ],
             [
              1,
              "#f0f921"
             ]
            ],
            "type": "surface"
           }
          ],
          "table": [
           {
            "cells": {
             "fill": {
              "color": "#EBF0F8"
             },
             "line": {
              "color": "white"
             }
            },
            "header": {
             "fill": {
              "color": "#C8D4E3"
             },
             "line": {
              "color": "white"
             }
            },
            "type": "table"
           }
          ]
         },
         "layout": {
          "annotationdefaults": {
           "arrowcolor": "#2a3f5f",
           "arrowhead": 0,
           "arrowwidth": 1
          },
          "autotypenumbers": "strict",
          "coloraxis": {
           "colorbar": {
            "outlinewidth": 0,
            "ticks": ""
           }
          },
          "colorscale": {
           "diverging": [
            [
             0,
             "#8e0152"
            ],
            [
             0.1,
             "#c51b7d"
            ],
            [
             0.2,
             "#de77ae"
            ],
            [
             0.3,
             "#f1b6da"
            ],
            [
             0.4,
             "#fde0ef"
            ],
            [
             0.5,
             "#f7f7f7"
            ],
            [
             0.6,
             "#e6f5d0"
            ],
            [
             0.7,
             "#b8e186"
            ],
            [
             0.8,
             "#7fbc41"
            ],
            [
             0.9,
             "#4d9221"
            ],
            [
             1,
             "#276419"
            ]
           ],
           "sequential": [
            [
             0,
             "#0d0887"
            ],
            [
             0.1111111111111111,
             "#46039f"
            ],
            [
             0.2222222222222222,
             "#7201a8"
            ],
            [
             0.3333333333333333,
             "#9c179e"
            ],
            [
             0.4444444444444444,
             "#bd3786"
            ],
            [
             0.5555555555555556,
             "#d8576b"
            ],
            [
             0.6666666666666666,
             "#ed7953"
            ],
            [
             0.7777777777777778,
             "#fb9f3a"
            ],
            [
             0.8888888888888888,
             "#fdca26"
            ],
            [
             1,
             "#f0f921"
            ]
           ],
           "sequentialminus": [
            [
             0,
             "#0d0887"
            ],
            [
             0.1111111111111111,
             "#46039f"
            ],
            [
             0.2222222222222222,
             "#7201a8"
            ],
            [
             0.3333333333333333,
             "#9c179e"
            ],
            [
             0.4444444444444444,
             "#bd3786"
            ],
            [
             0.5555555555555556,
             "#d8576b"
            ],
            [
             0.6666666666666666,
             "#ed7953"
            ],
            [
             0.7777777777777778,
             "#fb9f3a"
            ],
            [
             0.8888888888888888,
             "#fdca26"
            ],
            [
             1,
             "#f0f921"
            ]
           ]
          },
          "colorway": [
           "#636efa",
           "#EF553B",
           "#00cc96",
           "#ab63fa",
           "#FFA15A",
           "#19d3f3",
           "#FF6692",
           "#B6E880",
           "#FF97FF",
           "#FECB52"
          ],
          "font": {
           "color": "#2a3f5f"
          },
          "geo": {
           "bgcolor": "white",
           "lakecolor": "white",
           "landcolor": "#E5ECF6",
           "showlakes": true,
           "showland": true,
           "subunitcolor": "white"
          },
          "hoverlabel": {
           "align": "left"
          },
          "hovermode": "closest",
          "mapbox": {
           "style": "light"
          },
          "paper_bgcolor": "white",
          "plot_bgcolor": "#E5ECF6",
          "polar": {
           "angularaxis": {
            "gridcolor": "white",
            "linecolor": "white",
            "ticks": ""
           },
           "bgcolor": "#E5ECF6",
           "radialaxis": {
            "gridcolor": "white",
            "linecolor": "white",
            "ticks": ""
           }
          },
          "scene": {
           "xaxis": {
            "backgroundcolor": "#E5ECF6",
            "gridcolor": "white",
            "gridwidth": 2,
            "linecolor": "white",
            "showbackground": true,
            "ticks": "",
            "zerolinecolor": "white"
           },
           "yaxis": {
            "backgroundcolor": "#E5ECF6",
            "gridcolor": "white",
            "gridwidth": 2,
            "linecolor": "white",
            "showbackground": true,
            "ticks": "",
            "zerolinecolor": "white"
           },
           "zaxis": {
            "backgroundcolor": "#E5ECF6",
            "gridcolor": "white",
            "gridwidth": 2,
            "linecolor": "white",
            "showbackground": true,
            "ticks": "",
            "zerolinecolor": "white"
           }
          },
          "shapedefaults": {
           "line": {
            "color": "#2a3f5f"
           }
          },
          "ternary": {
           "aaxis": {
            "gridcolor": "white",
            "linecolor": "white",
            "ticks": ""
           },
           "baxis": {
            "gridcolor": "white",
            "linecolor": "white",
            "ticks": ""
           },
           "bgcolor": "#E5ECF6",
           "caxis": {
            "gridcolor": "white",
            "linecolor": "white",
            "ticks": ""
           }
          },
          "title": {
           "x": 0.05
          },
          "xaxis": {
           "automargin": true,
           "gridcolor": "white",
           "linecolor": "white",
           "ticks": "",
           "title": {
            "standoff": 15
           },
           "zerolinecolor": "white",
           "zerolinewidth": 2
          },
          "yaxis": {
           "automargin": true,
           "gridcolor": "white",
           "linecolor": "white",
           "ticks": "",
           "title": {
            "standoff": 15
           },
           "zerolinecolor": "white",
           "zerolinewidth": 2
          }
         }
        },
        "xaxis": {
         "autorange": true,
         "range": [
          -1.133206499547974,
          1.1233148636637262
         ],
         "showgrid": false,
         "showticklabels": false,
         "type": "linear",
         "zeroline": false
        },
        "yaxis": {
         "autorange": true,
         "range": [
          -0.9882053853763603,
          1.0833491988659583
         ],
         "showgrid": false,
         "showticklabels": false,
         "type": "linear",
         "zeroline": false
        }
       }
      },
      "image/png": "[encoded data removed]",
      "text/html": [
       "<div>                            <div id=\"4d445070-1879-4d9c-99e3-3ad65856a1ed\" class=\"plotly-graph-div\" style=\"height:525px; width:100%;\"></div>            <script type=\"text/javascript\">                require([\"plotly\"], function(Plotly) {                    window.PLOTLYENV=window.PLOTLYENV || {};                                    if (document.getElementById(\"4d445070-1879-4d9c-99e3-3ad65856a1ed\")) {                    Plotly.newPlot(                        \"4d445070-1879-4d9c-99e3-3ad65856a1ed\",                        [{\"line\":{\"color\":\"#888\",\"width\":2},\"mode\":\"lines\",\"x\":[-0.034244823333246806,0.8087110936634732,null,-0.034244823333246806,-0.764574634445979,null,0.8087110936634732,-1.0,null,0.8087110936634732,0.9901083641157523,null,-1.0,-0.034244823333246806,null,-1.0,-0.764574634445979,null,-0.764574634445979,0.9901083641157523,null],\"y\":[-0.22359277886012585,0.9438069803440798,null,-0.22359277886012585,-0.8486631668544818,null,0.9438069803440798,0.7787852182047872,null,0.9438069803440798,-0.6503362528342593,null,0.7787852182047872,-0.22359277886012585,null,0.7787852182047872,-0.8486631668544818,null,-0.8486631668544818,-0.6503362528342593,null],\"type\":\"scatter\"},{\"hoverinfo\":\"text\",\"hovertext\":[\"type: {'name': 'John Doe', 'age': 30, 'occupation': 'Engineer'}<br>name: Unnamed Entity\",\"type: {'name': 'Jane Doe', 'age': 25, 'occupation': 'Doctor'}<br>name: Unnamed Entity\",\"type: {'name': 'Alice Smith', 'age': 28, 'occupation': 'Artist'}<br>name: Unnamed Entity\",\"type: {'name': 'Bob Johnson', 'age': 35, 'occupation': 'Lawyer'}<br>name: Unnamed Entity\",\"type: {'name': 'Charlie Brown', 'age': 40, 'occupation': 'Writer'}<br>name: Unnamed Entity\"],\"marker\":{\"colorscale\":[[0.0,\"rgb(255,255,217)\"],[0.125,\"rgb(237,248,177)\"],[0.25,\"rgb(199,233,180)\"],[0.375,\"rgb(127,205,187)\"],[0.5,\"rgb(65,182,196)\"],[0.625,\"rgb(29,145,192)\"],[0.75,\"rgb(34,94,168)\"],[0.875,\"rgb(37,52,148)\"],[1.0,\"rgb(8,29,88)\"]],\"showscale\":true,\"size\":10},\"mode\":\"markers+text\",\"text\":[\"Unnamed Entity\",\"Unnamed Entity\",\"Unnamed Entity\",\"Unnamed Entity\",\"Unnamed Entity\"],\"textposition\":\"bottom center\",\"x\":[-0.034244823333246806,0.8087110936634732,-1.0,-0.764574634445979,0.9901083641157523],\"y\":[-0.22359277886012585,0.9438069803440798,0.7787852182047872,-0.8486631668544818,-0.6503362528342593],\"type\":\"scatter\"},{\"hoverinfo\":\"text\",\"marker\":{\"color\":\"rgba(0,0,0,0)\",\"size\":1},\"mode\":\"markers\",\"text\":[\"relationship_type: {'relationship': 'spouse', 'since': '2010', 'status': 'married'}\",\"relationship_type: {'relationship': 'cousin', 'since': '2000'}\",\"relationship_type: {'relationship': 'colleague', 'since': '2015'}\",\"relationship_type: {'relationship': 'friend', 'since': '2013'}\",\"relationship_type: {'relationship': 'friend', 'since': '2008'}\",\"relationship_type: {'relationship': 'acquaintance', 'since': '2017'}\",\"relationship_type: {'relationship': 'partner', 'since': '2012'}\"],\"x\":[0.38723313516511315,-0.3994097288896129,-0.09564445316826342,0.8994097288896128,-0.5171224116666234,-0.8822873172229895,0.11276686483488668],\"y\":[0.360107100741977,-0.5361279728573038,0.8612960992744335,0.14673536375491025,0.27759621967233067,-0.03493897432484733,-0.7494997098443705],\"type\":\"scatter\"}],                        {\"hovermode\":\"closest\",\"margin\":{\"b\":0,\"l\":0,\"r\":0,\"t\":0},\"showlegend\":false,\"xaxis\":{\"showgrid\":false,\"showticklabels\":false,\"zeroline\":false},\"yaxis\":{\"showgrid\":false,\"showticklabels\":false,\"zeroline\":false},\"template\":{\"data\":{\"histogram2dcontour\":[{\"type\":\"histogram2dcontour\",\"colorbar\":{\"outlinewidth\":0,\"ticks\":\"\"},\"colorscale\":[[0.0,\"#0d0887\"],[0.1111111111111111,\"#46039f\"],[0.2222222222222222,\"#7201a8\"],[0.3333333333333333,\"#9c179e\"],[0.4444444444444444,\"#bd3786\"],[0.5555555555555556,\"#d8576b\"],[0.6666666666666666,\"#ed7953\"],[0.7777777777777778,\"#fb9f3a\"],[0.8888888888888888,\"#fdca26\"],[1.0,\"#f0f921\"]]}],\"choropleth\":[{\"type\":\"choropleth\",\"colorbar\":{\"outlinewidth\":0,\"ticks\":\"\"}}],\"histogram2d\":[{\"type\":\"histogram2d\",\"colorbar\":{\"outlinewidth\":0,\"ticks\":\"\"},\"colorscale\":[[0.0,\"#0d0887\"],[0.1111111111111111,\"#46039f\"],[0.2222222222222222,\"#7201a8\"],[0.3333333333333333,\"#9c179e\"],[0.4444444444444444,\"#bd3786\"],[0.5555555555555556,\"#d8576b\"],[0.6666666666666666,\"#ed7953\"],[0.7777777777777778,\"#fb9f3a\"],[0.8888888888888888,\"#fdca26\"],[1.0,\"#f0f921\"]]}],\"heatmap\":[{\"type\":\"heatmap\",\"colorbar\":{\"outlinewidth\":0,\"ticks\":\"\"},\"colorscale\":[[0.0,\"#0d0887\"],[0.1111111111111111,\"#46039f\"],[0.2222222222222222,\"#7201a8\"],[0.3333333333333333,\"#9c179e\"],[0.4444444444444444,\"#bd3786\"],[0.5555555555555556,\"#d8576b\"],[0.6666666666666666,\"#ed7953\"],[0.7777777777777778,\"#fb9f3a\"],[0.8888888888888888,\"#fdca26\"],[1.0,\"#f0f921\"]]}],\"heatmapgl\":[{\"type\":\"heatmapgl\",\"colorbar\":{\"outlinewidth\":0,\"ticks\":\"\"},\"colorscale\":[[0.0,\"#0d0887\"],[0.1111111111111111,\"#46039f\"],[0.2222222222222222,\"#7201a8\"],[0.3333333333333333,\"#9c179e\"],[0.4444444444444444,\"#bd3786\"],[0.5555555555555556,\"#d8576b\"],[0.6666666666666666,\"#ed7953\"],[0.7777777777777778,\"#fb9f3a\"],[0.8888888888888888,\"#fdca26\"],[1.0,\"#f0f921\"]]}],\"contourcarpet\":[{\"type\":\"contourcarpet\",\"colorbar\":{\"outlinewidth\":0,\"ticks\":\"\"}}],\"contour\":[{\"type\":\"contour\",\"colorbar\":{\"outlinewidth\":0,\"ticks\":\"\"},\"colorscale\":[[0.0,\"#0d0887\"],[0.1111111111111111,\"#46039f\"],[0.2222222222222222,\"#7201a8\"],[0.3333333333333333,\"#9c179e\"],[0.4444444444444444,\"#bd3786\"],[0.5555555555555556,\"#d8576b\"],[0.6666666666666666,\"#ed7953\"],[0.7777777777777778,\"#fb9f3a\"],[0.8888888888888888,\"#fdca26\"],[1.0,\"#f0f921\"]]}],\"surface\":[{\"type\":\"surface\",\"colorbar\":{\"outlinewidth\":0,\"ticks\":\"\"},\"colorscale\":[[0.0,\"#0d0887\"],[0.1111111111111111,\"#46039f\"],[0.2222222222222222,\"#7201a8\"],[0.3333333333333333,\"#9c179e\"],[0.4444444444444444,\"#bd3786\"],[0.5555555555555556,\"#d8576b\"],[0.6666666666666666,\"#ed7953\"],[0.7777777777777778,\"#fb9f3a\"],[0.8888888888888888,\"#fdca26\"],[1.0,\"#f0f921\"]]}],\"mesh3d\":[{\"type\":\"mesh3d\",\"colorbar\":{\"outlinewidth\":0,\"ticks\":\"\"}}],\"scatter\":[{\"fillpattern\":{\"fillmode\":\"overlay\",\"size\":10,\"solidity\":0.2},\"type\":\"scatter\"}],\"parcoords\":[{\"type\":\"parcoords\",\"line\":{\"colorbar\":{\"outlinewidth\":0,\"ticks\":\"\"}}}],\"scatterpolargl\":[{\"type\":\"scatterpolargl\",\"marker\":{\"colorbar\":{\"outlinewidth\":0,\"ticks\":\"\"}}}],\"bar\":[{\"error_x\":{\"color\":\"#2a3f5f\"},\"error_y\":{\"color\":\"#2a3f5f\"},\"marker\":{\"line\":{\"color\":\"#E5ECF6\",\"width\":0.5},\"pattern\":{\"fillmode\":\"overlay\",\"size\":10,\"solidity\":0.2}},\"type\":\"bar\"}],\"scattergeo\":[{\"type\":\"scattergeo\",\"marker\":{\"colorbar\":{\"outlinewidth\":0,\"ticks\":\"\"}}}],\"scatterpolar\":[{\"type\":\"scatterpolar\",\"marker\":{\"colorbar\":{\"outlinewidth\":0,\"ticks\":\"\"}}}],\"histogram\":[{\"marker\":{\"pattern\":{\"fillmode\":\"overlay\",\"size\":10,\"solidity\":0.2}},\"type\":\"histogram\"}],\"scattergl\":[{\"type\":\"scattergl\",\"marker\":{\"colorbar\":{\"outlinewidth\":0,\"ticks\":\"\"}}}],\"scatter3d\":[{\"type\":\"scatter3d\",\"line\":{\"colorbar\":{\"outlinewidth\":0,\"ticks\":\"\"}},\"marker\":{\"colorbar\":{\"outlinewidth\":0,\"ticks\":\"\"}}}],\"scattermapbox\":[{\"type\":\"scattermapbox\",\"marker\":{\"colorbar\":{\"outlinewidth\":0,\"ticks\":\"\"}}}],\"scatterternary\":[{\"type\":\"scatterternary\",\"marker\":{\"colorbar\":{\"outlinewidth\":0,\"ticks\":\"\"}}}],\"scattercarpet\":[{\"type\":\"scattercarpet\",\"marker\":{\"colorbar\":{\"outlinewidth\":0,\"ticks\":\"\"}}}],\"carpet\":[{\"aaxis\":{\"endlinecolor\":\"#2a3f5f\",\"gridcolor\":\"white\",\"linecolor\":\"white\",\"minorgridcolor\":\"white\",\"startlinecolor\":\"#2a3f5f\"},\"baxis\":{\"endlinecolor\":\"#2a3f5f\",\"gridcolor\":\"white\",\"linecolor\":\"white\",\"minorgridcolor\":\"white\",\"startlinecolor\":\"#2a3f5f\"},\"type\":\"carpet\"}],\"table\":[{\"cells\":{\"fill\":{\"color\":\"#EBF0F8\"},\"line\":{\"color\":\"white\"}},\"header\":{\"fill\":{\"color\":\"#C8D4E3\"},\"line\":{\"color\":\"white\"}},\"type\":\"table\"}],\"barpolar\":[{\"marker\":{\"line\":{\"color\":\"#E5ECF6\",\"width\":0.5},\"pattern\":{\"fillmode\":\"overlay\",\"size\":10,\"solidity\":0.2}},\"type\":\"barpolar\"}],\"pie\":[{\"automargin\":true,\"type\":\"pie\"}]},\"layout\":{\"autotypenumbers\":\"strict\",\"colorway\":[\"#636efa\",\"#EF553B\",\"#00cc96\",\"#ab63fa\",\"#FFA15A\",\"#19d3f3\",\"#FF6692\",\"#B6E880\",\"#FF97FF\",\"#FECB52\"],\"font\":{\"color\":\"#2a3f5f\"},\"hovermode\":\"closest\",\"hoverlabel\":{\"align\":\"left\"},\"paper_bgcolor\":\"white\",\"plot_bgcolor\":\"#E5ECF6\",\"polar\":{\"bgcolor\":\"#E5ECF6\",\"angularaxis\":{\"gridcolor\":\"white\",\"linecolor\":\"white\",\"ticks\":\"\"},\"radialaxis\":{\"gridcolor\":\"white\",\"linecolor\":\"white\",\"ticks\":\"\"}},\"ternary\":{\"bgcolor\":\"#E5ECF6\",\"aaxis\":{\"gridcolor\":\"white\",\"linecolor\":\"white\",\"ticks\":\"\"},\"baxis\":{\"gridcolor\":\"white\",\"linecolor\":\"white\",\"ticks\":\"\"},\"caxis\":{\"gridcolor\":\"white\",\"linecolor\":\"white\",\"ticks\":\"\"}},\"coloraxis\":{\"colorbar\":{\"outlinewidth\":0,\"ticks\":\"\"}},\"colorscale\":{\"sequential\":[[0.0,\"#0d0887\"],[0.1111111111111111,\"#46039f\"],[0.2222222222222222,\"#7201a8\"],[0.3333333333333333,\"#9c179e\"],[0.4444444444444444,\"#bd3786\"],[0.5555555555555556,\"#d8576b\"],[0.6666666666666666,\"#ed7953\"],[0.7777777777777778,\"#fb9f3a\"],[0.8888888888888888,\"#fdca26\"],[1.0,\"#f0f921\"]],\"sequentialminus\":[[0.0,\"#0d0887\"],[0.1111111111111111,\"#46039f\"],[0.2222222222222222,\"#7201a8\"],[0.3333333333333333,\"#9c179e\"],[0.4444444444444444,\"#bd3786\"],[0.5555555555555556,\"#d8576b\"],[0.6666666666666666,\"#ed7953\"],[0.7777777777777778,\"#fb9f3a\"],[0.8888888888888888,\"#fdca26\"],[1.0,\"#f0f921\"]],\"diverging\":[[0,\"#8e0152\"],[0.1,\"#c51b7d\"],[0.2,\"#de77ae\"],[0.3,\"#f1b6da\"],[0.4,\"#fde0ef\"],[0.5,\"#f7f7f7\"],[0.6,\"#e6f5d0\"],[0.7,\"#b8e186\"],[0.8,\"#7fbc41\"],[0.9,\"#4d9221\"],[1,\"#276419\"]]},\"xaxis\":{\"gridcolor\":\"white\",\"linecolor\":\"white\",\"ticks\":\"\",\"title\":{\"standoff\":15},\"zerolinecolor\":\"white\",\"automargin\":true,\"zerolinewidth\":2},\"yaxis\":{\"gridcolor\":\"white\",\"linecolor\":\"white\",\"ticks\":\"\",\"title\":{\"standoff\":15},\"zerolinecolor\":\"white\",\"automargin\":true,\"zerolinewidth\":2},\"scene\":{\"xaxis\":{\"backgroundcolor\":\"#E5ECF6\",\"gridcolor\":\"white\",\"linecolor\":\"white\",\"showbackground\":true,\"ticks\":\"\",\"zerolinecolor\":\"white\",\"gridwidth\":2},\"yaxis\":{\"backgroundcolor\":\"#E5ECF6\",\"gridcolor\":\"white\",\"linecolor\":\"white\",\"showbackground\":true,\"ticks\":\"\",\"zerolinecolor\":\"white\",\"gridwidth\":2},\"zaxis\":{\"backgroundcolor\":\"#E5ECF6\",\"gridcolor\":\"white\",\"linecolor\":\"white\",\"showbackground\":true,\"ticks\":\"\",\"zerolinecolor\":\"white\",\"gridwidth\":2}},\"shapedefaults\":{\"line\":{\"color\":\"#2a3f5f\"}},\"annotationdefaults\":{\"arrowcolor\":\"#2a3f5f\",\"arrowhead\":0,\"arrowwidth\":1},\"geo\":{\"bgcolor\":\"white\",\"landcolor\":\"#E5ECF6\",\"subunitcolor\":\"white\",\"showland\":true,\"showlakes\":true,\"lakecolor\":\"white\"},\"title\":{\"x\":0.05},\"mapbox\":{\"style\":\"light\"}}}},                        {\"responsive\": true}                    ).then(function(){\n",
       "                            \n",
       "var gd = document.getElementById('4d445070-1879-4d9c-99e3-3ad65856a1ed');\n",
       "var x = new MutationObserver(function (mutations, observer) {{\n",
       "        var display = window.getComputedStyle(gd).display;\n",
       "        if (!display || display === 'none') {{\n",
       "            console.log([gd, 'removed!']);\n",
       "            Plotly.purge(gd);\n",
       "            observer.disconnect();\n",
       "        }}\n",
       "}});\n",
       "\n",
       "// Listen for the removal of the full notebook cells\n",
       "var notebookContainer = gd.closest('#notebook-container');\n",
       "if (notebookContainer) {{\n",
       "    x.observe(notebookContainer, {childList: true});\n",
       "}}\n",
       "\n",
       "// Listen for the clearing of the current output cell\n",
       "var outputEl = gd.closest('.output');\n",
       "if (outputEl) {{\n",
       "    x.observe(outputEl, {childList: true});\n",
       "}}\n",
       "\n",
       "                        })                };                });            </script>        </div>"
      ]
     },
     "metadata": {},
     "output_type": "display_data"
    }
   ],
   "source": [
    "# Use this function to visualize your graph\n",
    "visualize_knowledge_graph_interactive(kg)"
   ]
  },
  {
   "cell_type": "code",
   "execution_count": 76,
   "id": "4ff04288-c695-42bb-af84-36fadf1a6447",
   "metadata": {},
   "outputs": [],
   "source": []
  },
  {
   "cell_type": "code",
   "execution_count": 104,
   "id": "8e14fd08-c268-457b-a37a-3f60e1714982",
   "metadata": {},
   "outputs": [
    {
     "name": "stdout",
     "output_type": "stream",
     "text": [
      "Missing Labels: {}\n",
      "Case Details: {'name': 'metainfo', '案号': 'XYZ123', '案件名称': 'Loan Dispute', '借款次数情况': '3', '案件复杂情况': 'High', '是否存在错判情况': 'No', '是否存在判决书笔误': 'Yes'}\n"
     ]
    }
   ],
   "source": [
    "# Initialize the knowledge graph\n",
    "kg = KnowledgeGraph()\n",
    "\n",
    "# Adding case information\n",
    "case_info = {\n",
    "    \"name\": \"metainfo\",\n",
    "    \"案号\": \"XYZ123\",\n",
    "    \"案件名称\": \"Loan Dispute\",\n",
    "    \"借款次数情况\": \"3\",\n",
    "    \"案件复杂情况\": \"High\",\n",
    "    \"是否存在错判情况\": \"No\",\n",
    "    \"是否存在判决书笔误\": \"Yes\"\n",
    "}\n",
    "kg.add_entity('case1', case_info)\n",
    "\n",
    "# Adding participants\n",
    "participants_info = {\n",
    "    \"法院\": {\"name\": \"Local Court\"},\n",
    "    \"出借人（原告）\": {\"name\": \"John Doe\"},\n",
    "    \"借款人（被告）\": {\"name\": \"Jane Doe\"},\n",
    "    \"担保人（被告）\": {\"name\": \"Alice Smith\"},\n",
    "    \"其他诉讼参与人\": {\"name\": \"Other Party\"}\n",
    "}\n",
    "\n",
    "for role, info in participants_info.items():\n",
    "    kg.add_entity(role, info)\n",
    "\n",
    "# Adding relationships\n",
    "kg.add_relationship('case1', '法院', {'relationship': 'handled_by'})\n",
    "kg.add_relationship('case1', '出借人（原告）', {'relationship': 'complaint_from'})\n",
    "kg.add_relationship('case1', '借款人（被告）', {'relationship': 'defendant'})\n",
    "kg.add_relationship('case1', '担保人（被告）', {'relationship': 'guarantor'})\n",
    "kg.add_relationship('case1', '其他诉讼参与人', {'relationship': 'involved'})\n",
    "\n",
    "# Optional: Updating entities with new information\n",
    "kg.update_entity('出借人（原告）', {'新信息': 'Updated Info'})\n",
    "\n",
    "# Retrieve entities with missing labels (if any)\n",
    "missing_labels = kg.get_unfilled_labels()\n",
    "print(\"Missing Labels:\", missing_labels)\n",
    "\n",
    "# Retrieve a specific entity's details\n",
    "case_details = kg.get_entity('case1')\n",
    "print(\"Case Details:\", case_details)\n"
   ]
  },
  {
   "cell_type": "code",
   "execution_count": 99,
   "id": "5a4fa2c5-c9d3-47ca-a82e-141ea5e6dce3",
   "metadata": {},
   "outputs": [
    {
     "data": {
      "image/png": "[encoded data removed]",
      "text/plain": [
       "<Figure size 432x288 with 1 Axes>"
      ]
     },
     "metadata": {},
     "output_type": "display_data"
    }
   ],
   "source": [
    "# Visualize the updated knowledge graph\n",
    "visualize_knowledge_graph(kg)"
   ]
  },
  {
   "cell_type": "code",
   "execution_count": 100,
   "id": "4c31502c-0007-49a6-b85e-4e9e0d5b732e",
   "metadata": {},
   "outputs": [],
   "source": [
    "def visualize_knowledge_graph_interactive(kg):\n",
    "    pos = nx.kamada_kawai_layout(kg.graph)\n",
    "\n",
    "    # For edges\n",
    "    edge_x, edge_y, edge_hovertext = [], [], []\n",
    "    for edge in kg.graph.edges(data=True):\n",
    "        x0, y0 = pos[edge[0]]\n",
    "        x1, y1 = pos[edge[1]]\n",
    "        edge_x.append((x0 + x1) / 2)\n",
    "        edge_y.append((y0 + y1) / 2)\n",
    "        edge_hovertext.append('<br>'.join([f\"{key}: {value}\" for key, value in edge[2].items()]))\n",
    "\n",
    "    edge_trace = go.Scatter(x=edge_x, y=edge_y, text=edge_hovertext,\n",
    "                            mode='markers', hoverinfo='text',\n",
    "                            marker=dict(size=1, color='rgba(0,0,0,0)'))\n",
    "\n",
    "    # For nodes\n",
    "    node_x = [pos[node][0] for node in kg.graph.nodes()]\n",
    "    node_y = [pos[node][1] for node in kg.graph.nodes()]\n",
    "    node_info = ['<br>'.join([f\"{key}: {value}\" for key, value in data.items()]) for node, data in kg.graph.nodes(data=True)]\n",
    "    node_trace = go.Scatter(x=node_x, y=node_y, mode='markers+text',\n",
    "                            text=[data.get('name', 'Unnamed Entity') for node, data in kg.graph.nodes(data=True)],\n",
    "                            marker=dict(showscale=True, colorscale='YlGnBu', size=10),\n",
    "                            textposition=\"bottom center\", hoverinfo='text', hovertext=node_info)\n",
    "\n",
    "    line_trace = go.Scatter(x=[x for sublist in [[pos[edge[0]][0], pos[edge[1]][0], None] for edge in kg.graph.edges()] for x in sublist],\n",
    "                            y=[y for sublist in [[pos[edge[0]][1], pos[edge[1]][1], None] for edge in kg.graph.edges()] for y in sublist],\n",
    "                            line=dict(width=2, color='#888'), mode='lines')\n",
    "\n",
    "    fig = go.Figure(data=[line_trace, node_trace, edge_trace], layout=go.Layout(showlegend=False, hovermode='closest', margin=dict(b=0, l=0, r=0, t=0),\n",
    "                                                                               xaxis=dict(showgrid=False, zeroline=False, showticklabels=False),\n",
    "                                                                               yaxis=dict(showgrid=False, zeroline=False, showticklabels=False)))\n",
    "    fig.show()\n"
   ]
  },
  {
   "cell_type": "code",
   "execution_count": 105,
   "id": "6abf6e43-127d-481e-8a51-ee3f2362eb49",
   "metadata": {},
   "outputs": [
    {
     "data": {
      "text/plain": [
       "['metainfo',\n",
       " 'Local Court',\n",
       " 'John Doe',\n",
       " 'Jane Doe',\n",
       " 'Alice Smith',\n",
       " 'Other Party']"
      ]
     },
     "execution_count": 105,
     "metadata": {},
     "output_type": "execute_result"
    }
   ],
   "source": [
    "[data.get('name', 'Unnamed Entity') for node, data in kg.graph.nodes(data=True)]"
   ]
  },
  {
   "cell_type": "code",
   "execution_count": 120,
   "id": "688f7633-5eb2-4d19-a27a-cf0509fe5115",
   "metadata": {},
   "outputs": [
    {
     "data": {
      "text/plain": [
       "[{'name': 'Case MetaInfo',\n",
       "  '案号': 'XYZ123',\n",
       "  '案件名称': 'Loan Dispute',\n",
       "  '借款次数情况': '3',\n",
       "  '案件复杂情况': 'High',\n",
       "  '是否存在错判情况': 'No',\n",
       "  '是否存在判决书笔误': 'Yes'},\n",
       " {'name': 'Court'},\n",
       " {'name': 'Lender'},\n",
       " {'name': 'Borrower'},\n",
       " {'name': 'Guarantor'},\n",
       " {'name': 'Other'},\n",
       " {'原告请求与法院裁定': '法院认为借款合法，需归还本金及利息', '借款金额': '100000', '借款利息': '5000'},\n",
       " {'证据原文': '合同文本、借款协议、银行转账记录'}]"
      ]
     },
     "execution_count": 120,
     "metadata": {},
     "output_type": "execute_result"
    }
   ],
   "source": [
    "[data for node, data in kg.graph.nodes(data=True)]"
   ]
  },
  {
   "cell_type": "code",
   "execution_count": 107,
   "id": "a0f9e423-8c5b-463a-b8ab-db3b19c00d5a",
   "metadata": {},
   "outputs": [
    {
     "data": {
      "application/vnd.plotly.v1+json": {
       "config": {
        "plotlyServerURL": "https://plot.ly"
       },
       "data": [
        {
         "line": {
          "color": "#888",
          "width": 2
         },
         "mode": "lines",
         "type": "scatter",
         "x": [
          0.2923008256309196,
          0.5468499074965282,
          null,
          0.2923008256309196,
          -0.32319921677271995,
          null,
          0.2923008256309196,
          -0.7396022771581426,
          null,
          0.2923008256309196,
          -0.3231990834085208,
          null,
          0.2923008256309196,
          0.5468498442119356,
          null
         ],
         "y": [
          -2.16120917711113e-08,
          1,
          null,
          -2.16120917711113e-08,
          0.8281961838562042,
          null,
          -2.16120917711113e-08,
          -5.367312355732788e-08,
          null,
          -2.16120917711113e-08,
          -0.82819618780264,
          null,
          -2.16120917711113e-08,
          -0.9999999207683491,
          null
         ]
        },
        {
         "hoverinfo": "text",
         "hovertext": [
          "name: metainfo<br>案号: XYZ123<br>案件名称: Loan Dispute<br>借款次数情况: 3<br>案件复杂情况: High<br>是否存在错判情况: No<br>是否存在判决书笔误: Yes",
          "name: Local Court",
          "name: John Doe<br>新信息: Updated Info",
          "name: Jane Doe",
          "name: Alice Smith",
          "name: Other Party"
         ],
         "marker": {
          "colorscale": [
           [
            0,
            "rgb(255,255,217)"
           ],
           [
            0.125,
            "rgb(237,248,177)"
           ],
           [
            0.25,
            "rgb(199,233,180)"
           ],
           [
            0.375,
            "rgb(127,205,187)"
           ],
           [
            0.5,
            "rgb(65,182,196)"
           ],
           [
            0.625,
            "rgb(29,145,192)"
           ],
           [
            0.75,
            "rgb(34,94,168)"
           ],
           [
            0.875,
            "rgb(37,52,148)"
           ],
           [
            1,
            "rgb(8,29,88)"
           ]
          ],
          "showscale": true,
          "size": 10
         },
         "mode": "markers+text",
         "text": [
          "metainfo",
          "Local Court",
          "John Doe",
          "Jane Doe",
          "Alice Smith",
          "Other Party"
         ],
         "textposition": "bottom center",
         "type": "scatter",
         "x": [
          0.2923008256309196,
          0.5468499074965282,
          -0.32319921677271995,
          -0.7396022771581426,
          -0.3231990834085208,
          0.5468498442119356
         ],
         "y": [
          -2.16120917711113e-08,
          1,
          0.8281961838562042,
          -5.367312355732788e-08,
          -0.82819618780264,
          -0.9999999207683491
         ]
        },
        {
         "hoverinfo": "text",
         "marker": {
          "color": "rgba(0, 0, 0, 0)",
          "size": 1
         },
         "mode": "markers",
         "text": [
          "relationship: handled_by",
          "relationship: complaint_from",
          "relationship: defendant",
          "relationship: guarantor",
          "relationship: involved"
         ],
         "type": "scatter",
         "x": [
          0.41957536656372385,
          -0.015449195570900187,
          -0.22365072576361153,
          -0.015449128888800623,
          0.4195753349214276
         ],
         "y": [
          0.4999999891939541,
          0.4140980811220562,
          -3.764260766421959e-08,
          -0.4140981047073659,
          -0.49999997119022044
         ]
        }
       ],
       "layout": {
        "autosize": true,
        "hovermode": "closest",
        "margin": {
         "b": 0,
         "l": 0,
         "r": 0,
         "t": 0
        },
        "showlegend": false,
        "template": {
         "data": {
          "bar": [
           {
            "error_x": {
             "color": "#2a3f5f"
            },
            "error_y": {
             "color": "#2a3f5f"
            },
            "marker": {
             "line": {
              "color": "#E5ECF6",
              "width": 0.5
             },
             "pattern": {
              "fillmode": "overlay",
              "size": 10,
              "solidity": 0.2
             }
            },
            "type": "bar"
           }
          ],
          "barpolar": [
           {
            "marker": {
             "line": {
              "color": "#E5ECF6",
              "width": 0.5
             },
             "pattern": {
              "fillmode": "overlay",
              "size": 10,
              "solidity": 0.2
             }
            },
            "type": "barpolar"
           }
          ],
          "carpet": [
           {
            "aaxis": {
             "endlinecolor": "#2a3f5f",
             "gridcolor": "white",
             "linecolor": "white",
             "minorgridcolor": "white",
             "startlinecolor": "#2a3f5f"
            },
            "baxis": {
             "endlinecolor": "#2a3f5f",
             "gridcolor": "white",
             "linecolor": "white",
             "minorgridcolor": "white",
             "startlinecolor": "#2a3f5f"
            },
            "type": "carpet"
           }
          ],
          "choropleth": [
           {
            "colorbar": {
             "outlinewidth": 0,
             "ticks": ""
            },
            "type": "choropleth"
           }
          ],
          "contour": [
           {
            "colorbar": {
             "outlinewidth": 0,
             "ticks": ""
            },
            "colorscale": [
             [
              0,
              "#0d0887"
             ],
             [
              0.1111111111111111,
              "#46039f"
             ],
             [
              0.2222222222222222,
              "#7201a8"
             ],
             [
              0.3333333333333333,
              "#9c179e"
             ],
             [
              0.4444444444444444,
              "#bd3786"
             ],
             [
              0.5555555555555556,
              "#d8576b"
             ],
             [
              0.6666666666666666,
              "#ed7953"
             ],
             [
              0.7777777777777778,
              "#fb9f3a"
             ],
             [
              0.8888888888888888,
              "#fdca26"
             ],
             [
              1,
              "#f0f921"
             ]
            ],
            "type": "contour"
           }
          ],
          "contourcarpet": [
           {
            "colorbar": {
             "outlinewidth": 0,
             "ticks": ""
            },
            "type": "contourcarpet"
           }
          ],
          "heatmap": [
           {
            "colorbar": {
             "outlinewidth": 0,
             "ticks": ""
            },
            "colorscale": [
             [
              0,
              "#0d0887"
             ],
             [
              0.1111111111111111,
              "#46039f"
             ],
             [
              0.2222222222222222,
              "#7201a8"
             ],
             [
              0.3333333333333333,
              "#9c179e"
             ],
             [
              0.4444444444444444,
              "#bd3786"
             ],
             [
              0.5555555555555556,
              "#d8576b"
             ],
             [
              0.6666666666666666,
              "#ed7953"
             ],
             [
              0.7777777777777778,
              "#fb9f3a"
             ],
             [
              0.8888888888888888,
              "#fdca26"
             ],
             [
              1,
              "#f0f921"
             ]
            ],
            "type": "heatmap"
           }
          ],
          "heatmapgl": [
           {
            "colorbar": {
             "outlinewidth": 0,
             "ticks": ""
            },
            "colorscale": [
             [
              0,
              "#0d0887"
             ],
             [
              0.1111111111111111,
              "#46039f"
             ],
             [
              0.2222222222222222,
              "#7201a8"
             ],
             [
              0.3333333333333333,
              "#9c179e"
             ],
             [
              0.4444444444444444,
              "#bd3786"
             ],
             [
              0.5555555555555556,
              "#d8576b"
             ],
             [
              0.6666666666666666,
              "#ed7953"
             ],
             [
              0.7777777777777778,
              "#fb9f3a"
             ],
             [
              0.8888888888888888,
              "#fdca26"
             ],
             [
              1,
              "#f0f921"
             ]
            ],
            "type": "heatmapgl"
           }
          ],
          "histogram": [
           {
            "marker": {
             "pattern": {
              "fillmode": "overlay",
              "size": 10,
              "solidity": 0.2
             }
            },
            "type": "histogram"
           }
          ],
          "histogram2d": [
           {
            "colorbar": {
             "outlinewidth": 0,
             "ticks": ""
            },
            "colorscale": [
             [
              0,
              "#0d0887"
             ],
             [
              0.1111111111111111,
              "#46039f"
             ],
             [
              0.2222222222222222,
              "#7201a8"
             ],
             [
              0.3333333333333333,
              "#9c179e"
             ],
             [
              0.4444444444444444,
              "#bd3786"
             ],
             [
              0.5555555555555556,
              "#d8576b"
             ],
             [
              0.6666666666666666,
              "#ed7953"
             ],
             [
              0.7777777777777778,
              "#fb9f3a"
             ],
             [
              0.8888888888888888,
              "#fdca26"
             ],
             [
              1,
              "#f0f921"
             ]
            ],
            "type": "histogram2d"
           }
          ],
          "histogram2dcontour": [
           {
            "colorbar": {
             "outlinewidth": 0,
             "ticks": ""
            },
            "colorscale": [
             [
              0,
              "#0d0887"
             ],
             [
              0.1111111111111111,
              "#46039f"
             ],
             [
              0.2222222222222222,
              "#7201a8"
             ],
             [
              0.3333333333333333,
              "#9c179e"
             ],
             [
              0.4444444444444444,
              "#bd3786"
             ],
             [
              0.5555555555555556,
              "#d8576b"
             ],
             [
              0.6666666666666666,
              "#ed7953"
             ],
             [
              0.7777777777777778,
              "#fb9f3a"
             ],
             [
              0.8888888888888888,
              "#fdca26"
             ],
             [
              1,
              "#f0f921"
             ]
            ],
            "type": "histogram2dcontour"
           }
          ],
          "mesh3d": [
           {
            "colorbar": {
             "outlinewidth": 0,
             "ticks": ""
            },
            "type": "mesh3d"
           }
          ],
          "parcoords": [
           {
            "line": {
             "colorbar": {
              "outlinewidth": 0,
              "ticks": ""
             }
            },
            "type": "parcoords"
           }
          ],
          "pie": [
           {
            "automargin": true,
            "type": "pie"
           }
          ],
          "scatter": [
           {
            "fillpattern": {
             "fillmode": "overlay",
             "size": 10,
             "solidity": 0.2
            },
            "type": "scatter"
           }
          ],
          "scatter3d": [
           {
            "line": {
             "colorbar": {
              "outlinewidth": 0,
              "ticks": ""
             }
            },
            "marker": {
             "colorbar": {
              "outlinewidth": 0,
              "ticks": ""
             }
            },
            "type": "scatter3d"
           }
          ],
          "scattercarpet": [
           {
            "marker": {
             "colorbar": {
              "outlinewidth": 0,
              "ticks": ""
             }
            },
            "type": "scattercarpet"
           }
          ],
          "scattergeo": [
           {
            "marker": {
             "colorbar": {
              "outlinewidth": 0,
              "ticks": ""
             }
            },
            "type": "scattergeo"
           }
          ],
          "scattergl": [
           {
            "marker": {
             "colorbar": {
              "outlinewidth": 0,
              "ticks": ""
             }
            },
            "type": "scattergl"
           }
          ],
          "scattermapbox": [
           {
            "marker": {
             "colorbar": {
              "outlinewidth": 0,
              "ticks": ""
             }
            },
            "type": "scattermapbox"
           }
          ],
          "scatterpolar": [
           {
            "marker": {
             "colorbar": {
              "outlinewidth": 0,
              "ticks": ""
             }
            },
            "type": "scatterpolar"
           }
          ],
          "scatterpolargl": [
           {
            "marker": {
             "colorbar": {
              "outlinewidth": 0,
              "ticks": ""
             }
            },
            "type": "scatterpolargl"
           }
          ],
          "scatterternary": [
           {
            "marker": {
             "colorbar": {
              "outlinewidth": 0,
              "ticks": ""
             }
            },
            "type": "scatterternary"
           }
          ],
          "surface": [
           {
            "colorbar": {
             "outlinewidth": 0,
             "ticks": ""
            },
            "colorscale": [
             [
              0,
              "#0d0887"
             ],
             [
              0.1111111111111111,
              "#46039f"
             ],
             [
              0.2222222222222222,
              "#7201a8"
             ],
             [
              0.3333333333333333,
              "#9c179e"
             ],
             [
              0.4444444444444444,
              "#bd3786"
             ],
             [
              0.5555555555555556,
              "#d8576b"
             ],
             [
              0.6666666666666666,
              "#ed7953"
             ],
             [
              0.7777777777777778,
              "#fb9f3a"
             ],
             [
              0.8888888888888888,
              "#fdca26"
             ],
             [
              1,
              "#f0f921"
             ]
            ],
            "type": "surface"
           }
          ],
          "table": [
           {
            "cells": {
             "fill": {
              "color": "#EBF0F8"
             },
             "line": {
              "color": "white"
             }
            },
            "header": {
             "fill": {
              "color": "#C8D4E3"
             },
             "line": {
              "color": "white"
             }
            },
            "type": "table"
           }
          ]
         },
         "layout": {
          "annotationdefaults": {
           "arrowcolor": "#2a3f5f",
           "arrowhead": 0,
           "arrowwidth": 1
          },
          "autotypenumbers": "strict",
          "coloraxis": {
           "colorbar": {
            "outlinewidth": 0,
            "ticks": ""
           }
          },
          "colorscale": {
           "diverging": [
            [
             0,
             "#8e0152"
            ],
            [
             0.1,
             "#c51b7d"
            ],
            [
             0.2,
             "#de77ae"
            ],
            [
             0.3,
             "#f1b6da"
            ],
            [
             0.4,
             "#fde0ef"
            ],
            [
             0.5,
             "#f7f7f7"
            ],
            [
             0.6,
             "#e6f5d0"
            ],
            [
             0.7,
             "#b8e186"
            ],
            [
             0.8,
             "#7fbc41"
            ],
            [
             0.9,
             "#4d9221"
            ],
            [
             1,
             "#276419"
            ]
           ],
           "sequential": [
            [
             0,
             "#0d0887"
            ],
            [
             0.1111111111111111,
             "#46039f"
            ],
            [
             0.2222222222222222,
             "#7201a8"
            ],
            [
             0.3333333333333333,
             "#9c179e"
            ],
            [
             0.4444444444444444,
             "#bd3786"
            ],
            [
             0.5555555555555556,
             "#d8576b"
            ],
            [
             0.6666666666666666,
             "#ed7953"
            ],
            [
             0.7777777777777778,
             "#fb9f3a"
            ],
            [
             0.8888888888888888,
             "#fdca26"
            ],
            [
             1,
             "#f0f921"
            ]
           ],
           "sequentialminus": [
            [
             0,
             "#0d0887"
            ],
            [
             0.1111111111111111,
             "#46039f"
            ],
            [
             0.2222222222222222,
             "#7201a8"
            ],
            [
             0.3333333333333333,
             "#9c179e"
            ],
            [
             0.4444444444444444,
             "#bd3786"
            ],
            [
             0.5555555555555556,
             "#d8576b"
            ],
            [
             0.6666666666666666,
             "#ed7953"
            ],
            [
             0.7777777777777778,
             "#fb9f3a"
            ],
            [
             0.8888888888888888,
             "#fdca26"
            ],
            [
             1,
             "#f0f921"
            ]
           ]
          },
          "colorway": [
           "#636efa",
           "#EF553B",
           "#00cc96",
           "#ab63fa",
           "#FFA15A",
           "#19d3f3",
           "#FF6692",
           "#B6E880",
           "#FF97FF",
           "#FECB52"
          ],
          "font": {
           "color": "#2a3f5f"
          },
          "geo": {
           "bgcolor": "white",
           "lakecolor": "white",
           "landcolor": "#E5ECF6",
           "showlakes": true,
           "showland": true,
           "subunitcolor": "white"
          },
          "hoverlabel": {
           "align": "left"
          },
          "hovermode": "closest",
          "mapbox": {
           "style": "light"
          },
          "paper_bgcolor": "white",
          "plot_bgcolor": "#E5ECF6",
          "polar": {
           "angularaxis": {
            "gridcolor": "white",
            "linecolor": "white",
            "ticks": ""
           },
           "bgcolor": "#E5ECF6",
           "radialaxis": {
            "gridcolor": "white",
            "linecolor": "white",
            "ticks": ""
           }
          },
          "scene": {
           "xaxis": {
            "backgroundcolor": "#E5ECF6",
            "gridcolor": "white",
            "gridwidth": 2,
            "linecolor": "white",
            "showbackground": true,
            "ticks": "",
            "zerolinecolor": "white"
           },
           "yaxis": {
            "backgroundcolor": "#E5ECF6",
            "gridcolor": "white",
            "gridwidth": 2,
            "linecolor": "white",
            "showbackground": true,
            "ticks": "",
            "zerolinecolor": "white"
           },
           "zaxis": {
            "backgroundcolor": "#E5ECF6",
            "gridcolor": "white",
            "gridwidth": 2,
            "linecolor": "white",
            "showbackground": true,
            "ticks": "",
            "zerolinecolor": "white"
           }
          },
          "shapedefaults": {
           "line": {
            "color": "#2a3f5f"
           }
          },
          "ternary": {
           "aaxis": {
            "gridcolor": "white",
            "linecolor": "white",
            "ticks": ""
           },
           "baxis": {
            "gridcolor": "white",
            "linecolor": "white",
            "ticks": ""
           },
           "bgcolor": "#E5ECF6",
           "caxis": {
            "gridcolor": "white",
            "linecolor": "white",
            "ticks": ""
           }
          },
          "title": {
           "x": 0.05
          },
          "xaxis": {
           "automargin": true,
           "gridcolor": "white",
           "linecolor": "white",
           "ticks": "",
           "title": {
            "standoff": 15
           },
           "zerolinecolor": "white",
           "zerolinewidth": 2
          },
          "yaxis": {
           "automargin": true,
           "gridcolor": "white",
           "linecolor": "white",
           "ticks": "",
           "title": {
            "standoff": 15
           },
           "zerolinecolor": "white",
           "zerolinewidth": 2
          }
         }
        },
        "xaxis": {
         "autorange": true,
         "range": [
          -0.8257100466864784,
          0.6329576770248639
         ],
         "showgrid": false,
         "showticklabels": false,
         "type": "linear",
         "zeroline": false
        },
        "yaxis": {
         "autorange": true,
         "range": [
          -1.1556981489501548,
          1.1556982281818056
         ],
         "showgrid": false,
         "showticklabels": false,
         "type": "linear",
         "zeroline": false
        }
       }
      },
      "image/png": "[encoded data removed]",
      "text/html": [
       "<div>                            <div id=\"7efc873a-4999-450f-b6ba-9a63f575c735\" class=\"plotly-graph-div\" style=\"height:525px; width:100%;\"></div>            <script type=\"text/javascript\">                require([\"plotly\"], function(Plotly) {                    window.PLOTLYENV=window.PLOTLYENV || {};                                    if (document.getElementById(\"7efc873a-4999-450f-b6ba-9a63f575c735\")) {                    Plotly.newPlot(                        \"7efc873a-4999-450f-b6ba-9a63f575c735\",                        [{\"line\":{\"color\":\"#888\",\"width\":2},\"mode\":\"lines\",\"x\":[0.2923008256309196,0.5468499074965282,null,0.2923008256309196,-0.32319921677271995,null,0.2923008256309196,-0.7396022771581426,null,0.2923008256309196,-0.3231990834085208,null,0.2923008256309196,0.5468498442119356,null],\"y\":[-2.16120917711113e-08,1.0,null,-2.16120917711113e-08,0.8281961838562042,null,-2.16120917711113e-08,-5.367312355732788e-08,null,-2.16120917711113e-08,-0.82819618780264,null,-2.16120917711113e-08,-0.9999999207683491,null],\"type\":\"scatter\"},{\"hoverinfo\":\"text\",\"hovertext\":[\"name: metainfo<br>\\u6848\\u53f7: XYZ123<br>\\u6848\\u4ef6\\u540d\\u79f0: Loan Dispute<br>\\u501f\\u6b3e\\u6b21\\u6570\\u60c5\\u51b5: 3<br>\\u6848\\u4ef6\\u590d\\u6742\\u60c5\\u51b5: High<br>\\u662f\\u5426\\u5b58\\u5728\\u9519\\u5224\\u60c5\\u51b5: No<br>\\u662f\\u5426\\u5b58\\u5728\\u5224\\u51b3\\u4e66\\u7b14\\u8bef: Yes\",\"name: Local Court\",\"name: John Doe<br>\\u65b0\\u4fe1\\u606f: Updated Info\",\"name: Jane Doe\",\"name: Alice Smith\",\"name: Other Party\"],\"marker\":{\"colorscale\":[[0.0,\"rgb(255,255,217)\"],[0.125,\"rgb(237,248,177)\"],[0.25,\"rgb(199,233,180)\"],[0.375,\"rgb(127,205,187)\"],[0.5,\"rgb(65,182,196)\"],[0.625,\"rgb(29,145,192)\"],[0.75,\"rgb(34,94,168)\"],[0.875,\"rgb(37,52,148)\"],[1.0,\"rgb(8,29,88)\"]],\"showscale\":true,\"size\":10},\"mode\":\"markers+text\",\"text\":[\"metainfo\",\"Local Court\",\"John Doe\",\"Jane Doe\",\"Alice Smith\",\"Other Party\"],\"textposition\":\"bottom center\",\"x\":[0.2923008256309196,0.5468499074965282,-0.32319921677271995,-0.7396022771581426,-0.3231990834085208,0.5468498442119356],\"y\":[-2.16120917711113e-08,1.0,0.8281961838562042,-5.367312355732788e-08,-0.82819618780264,-0.9999999207683491],\"type\":\"scatter\"},{\"hoverinfo\":\"text\",\"marker\":{\"color\":\"rgba(0,0,0,0)\",\"size\":1},\"mode\":\"markers\",\"text\":[\"relationship: handled_by\",\"relationship: complaint_from\",\"relationship: defendant\",\"relationship: guarantor\",\"relationship: involved\"],\"x\":[0.41957536656372385,-0.015449195570900187,-0.22365072576361153,-0.015449128888800623,0.4195753349214276],\"y\":[0.4999999891939541,0.4140980811220562,-3.764260766421959e-08,-0.4140981047073659,-0.49999997119022044],\"type\":\"scatter\"}],                        {\"hovermode\":\"closest\",\"margin\":{\"b\":0,\"l\":0,\"r\":0,\"t\":0},\"showlegend\":false,\"xaxis\":{\"showgrid\":false,\"showticklabels\":false,\"zeroline\":false},\"yaxis\":{\"showgrid\":false,\"showticklabels\":false,\"zeroline\":false},\"template\":{\"data\":{\"histogram2dcontour\":[{\"type\":\"histogram2dcontour\",\"colorbar\":{\"outlinewidth\":0,\"ticks\":\"\"},\"colorscale\":[[0.0,\"#0d0887\"],[0.1111111111111111,\"#46039f\"],[0.2222222222222222,\"#7201a8\"],[0.3333333333333333,\"#9c179e\"],[0.4444444444444444,\"#bd3786\"],[0.5555555555555556,\"#d8576b\"],[0.6666666666666666,\"#ed7953\"],[0.7777777777777778,\"#fb9f3a\"],[0.8888888888888888,\"#fdca26\"],[1.0,\"#f0f921\"]]}],\"choropleth\":[{\"type\":\"choropleth\",\"colorbar\":{\"outlinewidth\":0,\"ticks\":\"\"}}],\"histogram2d\":[{\"type\":\"histogram2d\",\"colorbar\":{\"outlinewidth\":0,\"ticks\":\"\"},\"colorscale\":[[0.0,\"#0d0887\"],[0.1111111111111111,\"#46039f\"],[0.2222222222222222,\"#7201a8\"],[0.3333333333333333,\"#9c179e\"],[0.4444444444444444,\"#bd3786\"],[0.5555555555555556,\"#d8576b\"],[0.6666666666666666,\"#ed7953\"],[0.7777777777777778,\"#fb9f3a\"],[0.8888888888888888,\"#fdca26\"],[1.0,\"#f0f921\"]]}],\"heatmap\":[{\"type\":\"heatmap\",\"colorbar\":{\"outlinewidth\":0,\"ticks\":\"\"},\"colorscale\":[[0.0,\"#0d0887\"],[0.1111111111111111,\"#46039f\"],[0.2222222222222222,\"#7201a8\"],[0.3333333333333333,\"#9c179e\"],[0.4444444444444444,\"#bd3786\"],[0.5555555555555556,\"#d8576b\"],[0.6666666666666666,\"#ed7953\"],[0.7777777777777778,\"#fb9f3a\"],[0.8888888888888888,\"#fdca26\"],[1.0,\"#f0f921\"]]}],\"heatmapgl\":[{\"type\":\"heatmapgl\",\"colorbar\":{\"outlinewidth\":0,\"ticks\":\"\"},\"colorscale\":[[0.0,\"#0d0887\"],[0.1111111111111111,\"#46039f\"],[0.2222222222222222,\"#7201a8\"],[0.3333333333333333,\"#9c179e\"],[0.4444444444444444,\"#bd3786\"],[0.5555555555555556,\"#d8576b\"],[0.6666666666666666,\"#ed7953\"],[0.7777777777777778,\"#fb9f3a\"],[0.8888888888888888,\"#fdca26\"],[1.0,\"#f0f921\"]]}],\"contourcarpet\":[{\"type\":\"contourcarpet\",\"colorbar\":{\"outlinewidth\":0,\"ticks\":\"\"}}],\"contour\":[{\"type\":\"contour\",\"colorbar\":{\"outlinewidth\":0,\"ticks\":\"\"},\"colorscale\":[[0.0,\"#0d0887\"],[0.1111111111111111,\"#46039f\"],[0.2222222222222222,\"#7201a8\"],[0.3333333333333333,\"#9c179e\"],[0.4444444444444444,\"#bd3786\"],[0.5555555555555556,\"#d8576b\"],[0.6666666666666666,\"#ed7953\"],[0.7777777777777778,\"#fb9f3a\"],[0.8888888888888888,\"#fdca26\"],[1.0,\"#f0f921\"]]}],\"surface\":[{\"type\":\"surface\",\"colorbar\":{\"outlinewidth\":0,\"ticks\":\"\"},\"colorscale\":[[0.0,\"#0d0887\"],[0.1111111111111111,\"#46039f\"],[0.2222222222222222,\"#7201a8\"],[0.3333333333333333,\"#9c179e\"],[0.4444444444444444,\"#bd3786\"],[0.5555555555555556,\"#d8576b\"],[0.6666666666666666,\"#ed7953\"],[0.7777777777777778,\"#fb9f3a\"],[0.8888888888888888,\"#fdca26\"],[1.0,\"#f0f921\"]]}],\"mesh3d\":[{\"type\":\"mesh3d\",\"colorbar\":{\"outlinewidth\":0,\"ticks\":\"\"}}],\"scatter\":[{\"fillpattern\":{\"fillmode\":\"overlay\",\"size\":10,\"solidity\":0.2},\"type\":\"scatter\"}],\"parcoords\":[{\"type\":\"parcoords\",\"line\":{\"colorbar\":{\"outlinewidth\":0,\"ticks\":\"\"}}}],\"scatterpolargl\":[{\"type\":\"scatterpolargl\",\"marker\":{\"colorbar\":{\"outlinewidth\":0,\"ticks\":\"\"}}}],\"bar\":[{\"error_x\":{\"color\":\"#2a3f5f\"},\"error_y\":{\"color\":\"#2a3f5f\"},\"marker\":{\"line\":{\"color\":\"#E5ECF6\",\"width\":0.5},\"pattern\":{\"fillmode\":\"overlay\",\"size\":10,\"solidity\":0.2}},\"type\":\"bar\"}],\"scattergeo\":[{\"type\":\"scattergeo\",\"marker\":{\"colorbar\":{\"outlinewidth\":0,\"ticks\":\"\"}}}],\"scatterpolar\":[{\"type\":\"scatterpolar\",\"marker\":{\"colorbar\":{\"outlinewidth\":0,\"ticks\":\"\"}}}],\"histogram\":[{\"marker\":{\"pattern\":{\"fillmode\":\"overlay\",\"size\":10,\"solidity\":0.2}},\"type\":\"histogram\"}],\"scattergl\":[{\"type\":\"scattergl\",\"marker\":{\"colorbar\":{\"outlinewidth\":0,\"ticks\":\"\"}}}],\"scatter3d\":[{\"type\":\"scatter3d\",\"line\":{\"colorbar\":{\"outlinewidth\":0,\"ticks\":\"\"}},\"marker\":{\"colorbar\":{\"outlinewidth\":0,\"ticks\":\"\"}}}],\"scattermapbox\":[{\"type\":\"scattermapbox\",\"marker\":{\"colorbar\":{\"outlinewidth\":0,\"ticks\":\"\"}}}],\"scatterternary\":[{\"type\":\"scatterternary\",\"marker\":{\"colorbar\":{\"outlinewidth\":0,\"ticks\":\"\"}}}],\"scattercarpet\":[{\"type\":\"scattercarpet\",\"marker\":{\"colorbar\":{\"outlinewidth\":0,\"ticks\":\"\"}}}],\"carpet\":[{\"aaxis\":{\"endlinecolor\":\"#2a3f5f\",\"gridcolor\":\"white\",\"linecolor\":\"white\",\"minorgridcolor\":\"white\",\"startlinecolor\":\"#2a3f5f\"},\"baxis\":{\"endlinecolor\":\"#2a3f5f\",\"gridcolor\":\"white\",\"linecolor\":\"white\",\"minorgridcolor\":\"white\",\"startlinecolor\":\"#2a3f5f\"},\"type\":\"carpet\"}],\"table\":[{\"cells\":{\"fill\":{\"color\":\"#EBF0F8\"},\"line\":{\"color\":\"white\"}},\"header\":{\"fill\":{\"color\":\"#C8D4E3\"},\"line\":{\"color\":\"white\"}},\"type\":\"table\"}],\"barpolar\":[{\"marker\":{\"line\":{\"color\":\"#E5ECF6\",\"width\":0.5},\"pattern\":{\"fillmode\":\"overlay\",\"size\":10,\"solidity\":0.2}},\"type\":\"barpolar\"}],\"pie\":[{\"automargin\":true,\"type\":\"pie\"}]},\"layout\":{\"autotypenumbers\":\"strict\",\"colorway\":[\"#636efa\",\"#EF553B\",\"#00cc96\",\"#ab63fa\",\"#FFA15A\",\"#19d3f3\",\"#FF6692\",\"#B6E880\",\"#FF97FF\",\"#FECB52\"],\"font\":{\"color\":\"#2a3f5f\"},\"hovermode\":\"closest\",\"hoverlabel\":{\"align\":\"left\"},\"paper_bgcolor\":\"white\",\"plot_bgcolor\":\"#E5ECF6\",\"polar\":{\"bgcolor\":\"#E5ECF6\",\"angularaxis\":{\"gridcolor\":\"white\",\"linecolor\":\"white\",\"ticks\":\"\"},\"radialaxis\":{\"gridcolor\":\"white\",\"linecolor\":\"white\",\"ticks\":\"\"}},\"ternary\":{\"bgcolor\":\"#E5ECF6\",\"aaxis\":{\"gridcolor\":\"white\",\"linecolor\":\"white\",\"ticks\":\"\"},\"baxis\":{\"gridcolor\":\"white\",\"linecolor\":\"white\",\"ticks\":\"\"},\"caxis\":{\"gridcolor\":\"white\",\"linecolor\":\"white\",\"ticks\":\"\"}},\"coloraxis\":{\"colorbar\":{\"outlinewidth\":0,\"ticks\":\"\"}},\"colorscale\":{\"sequential\":[[0.0,\"#0d0887\"],[0.1111111111111111,\"#46039f\"],[0.2222222222222222,\"#7201a8\"],[0.3333333333333333,\"#9c179e\"],[0.4444444444444444,\"#bd3786\"],[0.5555555555555556,\"#d8576b\"],[0.6666666666666666,\"#ed7953\"],[0.7777777777777778,\"#fb9f3a\"],[0.8888888888888888,\"#fdca26\"],[1.0,\"#f0f921\"]],\"sequentialminus\":[[0.0,\"#0d0887\"],[0.1111111111111111,\"#46039f\"],[0.2222222222222222,\"#7201a8\"],[0.3333333333333333,\"#9c179e\"],[0.4444444444444444,\"#bd3786\"],[0.5555555555555556,\"#d8576b\"],[0.6666666666666666,\"#ed7953\"],[0.7777777777777778,\"#fb9f3a\"],[0.8888888888888888,\"#fdca26\"],[1.0,\"#f0f921\"]],\"diverging\":[[0,\"#8e0152\"],[0.1,\"#c51b7d\"],[0.2,\"#de77ae\"],[0.3,\"#f1b6da\"],[0.4,\"#fde0ef\"],[0.5,\"#f7f7f7\"],[0.6,\"#e6f5d0\"],[0.7,\"#b8e186\"],[0.8,\"#7fbc41\"],[0.9,\"#4d9221\"],[1,\"#276419\"]]},\"xaxis\":{\"gridcolor\":\"white\",\"linecolor\":\"white\",\"ticks\":\"\",\"title\":{\"standoff\":15},\"zerolinecolor\":\"white\",\"automargin\":true,\"zerolinewidth\":2},\"yaxis\":{\"gridcolor\":\"white\",\"linecolor\":\"white\",\"ticks\":\"\",\"title\":{\"standoff\":15},\"zerolinecolor\":\"white\",\"automargin\":true,\"zerolinewidth\":2},\"scene\":{\"xaxis\":{\"backgroundcolor\":\"#E5ECF6\",\"gridcolor\":\"white\",\"linecolor\":\"white\",\"showbackground\":true,\"ticks\":\"\",\"zerolinecolor\":\"white\",\"gridwidth\":2},\"yaxis\":{\"backgroundcolor\":\"#E5ECF6\",\"gridcolor\":\"white\",\"linecolor\":\"white\",\"showbackground\":true,\"ticks\":\"\",\"zerolinecolor\":\"white\",\"gridwidth\":2},\"zaxis\":{\"backgroundcolor\":\"#E5ECF6\",\"gridcolor\":\"white\",\"linecolor\":\"white\",\"showbackground\":true,\"ticks\":\"\",\"zerolinecolor\":\"white\",\"gridwidth\":2}},\"shapedefaults\":{\"line\":{\"color\":\"#2a3f5f\"}},\"annotationdefaults\":{\"arrowcolor\":\"#2a3f5f\",\"arrowhead\":0,\"arrowwidth\":1},\"geo\":{\"bgcolor\":\"white\",\"landcolor\":\"#E5ECF6\",\"subunitcolor\":\"white\",\"showland\":true,\"showlakes\":true,\"lakecolor\":\"white\"},\"title\":{\"x\":0.05},\"mapbox\":{\"style\":\"light\"}}}},                        {\"responsive\": true}                    ).then(function(){\n",
       "                            \n",
       "var gd = document.getElementById('7efc873a-4999-450f-b6ba-9a63f575c735');\n",
       "var x = new MutationObserver(function (mutations, observer) {{\n",
       "        var display = window.getComputedStyle(gd).display;\n",
       "        if (!display || display === 'none') {{\n",
       "            console.log([gd, 'removed!']);\n",
       "            Plotly.purge(gd);\n",
       "            observer.disconnect();\n",
       "        }}\n",
       "}});\n",
       "\n",
       "// Listen for the removal of the full notebook cells\n",
       "var notebookContainer = gd.closest('#notebook-container');\n",
       "if (notebookContainer) {{\n",
       "    x.observe(notebookContainer, {childList: true});\n",
       "}}\n",
       "\n",
       "// Listen for the clearing of the current output cell\n",
       "var outputEl = gd.closest('.output');\n",
       "if (outputEl) {{\n",
       "    x.observe(outputEl, {childList: true});\n",
       "}}\n",
       "\n",
       "                        })                };                });            </script>        </div>"
      ]
     },
     "metadata": {},
     "output_type": "display_data"
    }
   ],
   "source": [
    "# Use this function to visualize your graph\n",
    "visualize_knowledge_graph_interactive(kg)"
   ]
  },
  {
   "cell_type": "code",
   "execution_count": 144,
   "id": "f97e5a73-c913-41fe-901b-6f7a7a07ac53",
   "metadata": {},
   "outputs": [
    {
     "name": "stdout",
     "output_type": "stream",
     "text": [
      "Case Details: {'name': 'Case MetaInfo', '案号': None, '案件名称': None}\n",
      "Missing Labels: {'example case': {'案号': None, '案件名称': None}, '借款次数情况': {'借款次数情况': None}, '案件复杂情况': {'案件复杂情况': None}, '是否存在错判情况': {'是否存在错判情况': None}, '是否存在判决书笔误': {'是否存在判决书笔误': None}, '出借人（原告）': {'借贷关系角色': None, '姓名': None, '出庭情况': None}, '借款人（被告）': {'借贷关系角色': None, '姓名': None, '出庭情况': None}, '担保人（被告）': {'借贷关系角色': None, '姓名': None, '出庭情况': None}, '其他诉讼参与人': {'借贷关系角色': None, '姓名': None, '出庭情况': None}}\n"
     ]
    }
   ],
   "source": [
    "kg = KnowledgeGraph()\n",
    "\n",
    "case_id = \"example case\"\n",
    "\n",
    "# Adding the Case\n",
    "case_attributes = {\n",
    "    \"name\": \"Case MetaInfo\",\n",
    "    \"案号\": None,\n",
    "    \"案件名称\": None,\n",
    "}\n",
    "\n",
    "case_eval_entities = {\n",
    "    \"借款次数情况\": {\"name\":\"借款次数情况\", \"借款次数情况\": None},\n",
    "    \"案件复杂情况\": {\"name\":\"案件复杂情况\", \"案件复杂情况\": None},\n",
    "    \"是否存在错判情况\": {\"name\":\"是否存在错判情况\", \"是否存在错判情况\": None},\n",
    "    \"是否存在判决书笔误\": {\"name\":\"是否存在判决书笔误\", \"是否存在判决书笔误\": None},\n",
    "}\n",
    "\n",
    "kg.add_entity(case_id, case_attributes)\n",
    "\n",
    "for name, attrs in case_eval_entities.items():\n",
    "    kg.add_entity(name, attrs)\n",
    "\n",
    "\n",
    "# Adding Participants\n",
    "participants = {\n",
    "    \"法院\": {\"name\": \"Court\"},\n",
    "    \"出借人（原告）\": {\"name\": \"出借人（原告）\", \"借贷关系角色\": None, \"姓名\": None, \"出庭情况\": None},\n",
    "    \"借款人（被告）\": {\"name\": \"借款人（被告）\", \"借贷关系角色\": None, \"姓名\": None, \"出庭情况\": None},\n",
    "    \"担保人（被告）\": {\"name\": \"担保人（被告）\", \"借贷关系角色\": None, \"姓名\": None, \"出庭情况\": None},\n",
    "    \"其他诉讼参与人\": {\"name\": \"其他诉讼参与人\", \"借贷关系角色\": None, \"姓名\": None, \"出庭情况\": None}\n",
    "}\n",
    "\n",
    "for name, attrs in participants.items():\n",
    "    kg.add_entity(name, attrs)\n",
    "\n",
    "# Adding relationships\n",
    "for name in participants:\n",
    "    kg.add_relationship(case_id, name, {\"relationship\": \"involved_in\"})\n",
    "\n",
    "    \n",
    "relaships = {\n",
    "    \"\": {\"relationship\": \"claims_details\"},\n",
    "}\n",
    "# Adding claims details as part of the case entity or as separate entities\n",
    "claims_info = {\n",
    "    \"name\":\"原告请求与法院裁定\",\n",
    "    \"原告请求与法院裁定\": \"法院认为借款合法，需归还本金及利息\",\n",
    "    \"借款金额\": \"100000\",\n",
    "    \"借款利息\": \"5000\"\n",
    "}\n",
    "kg.add_entity(\"claims1\", claims_info)\n",
    "kg.add_relationship(case_id, \"claims1\", {\"relationship\": \"claims_details\"})\n",
    "\n",
    "# Adding documents and evidence\n",
    "documents = {\n",
    "    \"name\":\"证据原文\",\n",
    "    \"证据原文\": \"合同文本、借款协议、银行转账记录\"\n",
    "}\n",
    "kg.add_entity(\"document1\", documents)\n",
    "kg.add_relationship(case_id, \"document1\", {\"relationship\": \"has_document\"})\n",
    "\n",
    "\n",
    "# Querying the KG\n",
    "case_details = kg.get_entity(case_id)\n",
    "print(\"Case Details:\", case_details)\n",
    "\n",
    "# Missing data check\n",
    "missing_data = kg.get_unfilled_labels()\n",
    "print(\"Missing Labels:\", missing_data)\n"
   ]
  },
  {
   "cell_type": "code",
   "execution_count": null,
   "id": "2979f404-4cb8-4781-8d17-e26f596ef357",
   "metadata": {},
   "outputs": [],
   "source": [
    "# entities\n",
    "# 静态关系，动态关系"
   ]
  },
  {
   "cell_type": "code",
   "execution_count": 145,
   "id": "5b75916c-2e13-497d-8923-419fc38c00a3",
   "metadata": {},
   "outputs": [
    {
     "data": {
      "application/vnd.plotly.v1+json": {
       "config": {
        "plotlyServerURL": "https://plot.ly"
       },
       "data": [
        {
         "line": {
          "color": "#888",
          "width": 2
         },
         "mode": "lines",
         "type": "scatter",
         "x": [
          0.19415372142314613,
          -0.7099379177561195,
          null,
          0.19415372142314613,
          -0.8047003091555148,
          null,
          0.19415372142314613,
          -0.6710650017041636,
          null,
          0.19415372142314613,
          -0.35287549144292485,
          null,
          0.19415372142314613,
          0.0716011927342673,
          null,
          0.19415372142314613,
          0.5142092434345406,
          null,
          0.19415372142314613,
          0.892583782009765,
          null
         ],
         "y": [
          0.047656289283750534,
          0.47488189958343435,
          null,
          0.047656289283750534,
          0.0008807023107940591,
          null,
          0.047656289283750534,
          -0.45366612202788026,
          null,
          0.047656289283750534,
          -0.7894082280703931,
          null,
          0.047656289283750534,
          -0.9447394619488166,
          null,
          0.047656289283750534,
          -0.8996643142808898,
          null,
          0.047656289283750534,
          -0.6679880706379973,
          null
         ]
        },
        {
         "hoverinfo": "text",
         "hovertext": [
          "name: Case MetaInfo<br>案号: None<br>案件名称: None",
          "name: 借款次数情况<br>借款次数情况: None",
          "name: 案件复杂情况<br>案件复杂情况: None",
          "name: 是否存在错判情况<br>是否存在错判情况: None",
          "name: 是否存在判决书笔误<br>是否存在判决书笔误: None",
          "name: Court",
          "name: 出借人（原告）<br>借贷关系角色: None<br>姓名: None<br>出庭情况: None",
          "name: 借款人（被告）<br>借贷关系角色: None<br>姓名: None<br>出庭情况: None",
          "name: 担保人（被告）<br>借贷关系角色: None<br>姓名: None<br>出庭情况: None",
          "name: 其他诉讼参与人<br>借贷关系角色: None<br>姓名: None<br>出庭情况: None",
          "name: 原告请求与法院裁定<br>原告请求与法院裁定: 法院认为借款合法，需归还本金及利息<br>借款金额: 100000<br>借款利息: 5000",
          "name: 证据原文<br>证据原文: 合同文本、借款协议、银行转账记录"
         ],
         "marker": {
          "colorscale": [
           [
            0,
            "rgb(255,255,217)"
           ],
           [
            0.125,
            "rgb(237,248,177)"
           ],
           [
            0.25,
            "rgb(199,233,180)"
           ],
           [
            0.375,
            "rgb(127,205,187)"
           ],
           [
            0.5,
            "rgb(65,182,196)"
           ],
           [
            0.625,
            "rgb(29,145,192)"
           ],
           [
            0.75,
            "rgb(34,94,168)"
           ],
           [
            0.875,
            "rgb(37,52,148)"
           ],
           [
            1,
            "rgb(8,29,88)"
           ]
          ],
          "showscale": true,
          "size": 10
         },
         "mode": "markers+text",
         "text": [
          "Case MetaInfo",
          "借款次数情况",
          "案件复杂情况",
          "是否存在错判情况",
          "是否存在判决书笔误",
          "Court",
          "出借人（原告）",
          "借款人（被告）",
          "担保人（被告）",
          "其他诉讼参与人",
          "原告请求与法院裁定",
          "证据原文"
         ],
         "textposition": "bottom center",
         "type": "scatter",
         "x": [
          0.19415372142314613,
          0.8660283883438151,
          0.5000023735673071,
          1.0932168557478475e-06,
          -0.500001074670974,
          -0.7099379177561195,
          -0.8047003091555148,
          -0.6710650017041636,
          -0.35287549144292485,
          0.0716011927342673,
          0.5142092434345406,
          0.892583782009765
         ],
         "y": [
          0.047656289283750534,
          0.4999968933132452,
          0.8660243241086096,
          1,
          0.8660260883661435,
          0.47488189958343435,
          0.0008807023107940591,
          -0.45366612202788026,
          -0.7894082280703931,
          -0.9447394619488166,
          -0.8996643142808898,
          -0.6679880706379973
         ]
        },
        {
         "hoverinfo": "text",
         "marker": {
          "color": "rgba(0, 0, 0, 0)",
          "size": 1
         },
         "mode": "markers",
         "text": [
          "relationship: involved_in",
          "relationship: involved_in",
          "relationship: involved_in",
          "relationship: involved_in",
          "relationship: involved_in",
          "relationship: claims_details",
          "relationship: has_document"
         ],
         "type": "scatter",
         "x": [
          -0.25789209816648667,
          -0.30527329386618435,
          -0.23845564014050874,
          -0.07936088500988936,
          0.1328774570787067,
          0.35418148242884334,
          0.5433687517164556
         ],
         "y": [
          0.2612690944335924,
          0.024268495797272298,
          -0.20300491637206486,
          -0.3708759693933213,
          -0.44854158633253305,
          -0.4260040124985696,
          -0.31016589067712336
         ]
        }
       ],
       "layout": {
        "autosize": true,
        "hovermode": "closest",
        "margin": {
         "b": 0,
         "l": 0,
         "r": 0,
         "t": 0
        },
        "showlegend": false,
        "template": {
         "data": {
          "bar": [
           {
            "error_x": {
             "color": "#2a3f5f"
            },
            "error_y": {
             "color": "#2a3f5f"
            },
            "marker": {
             "line": {
              "color": "#E5ECF6",
              "width": 0.5
             },
             "pattern": {
              "fillmode": "overlay",
              "size": 10,
              "solidity": 0.2
             }
            },
            "type": "bar"
           }
          ],
          "barpolar": [
           {
            "marker": {
             "line": {
              "color": "#E5ECF6",
              "width": 0.5
             },
             "pattern": {
              "fillmode": "overlay",
              "size": 10,
              "solidity": 0.2
             }
            },
            "type": "barpolar"
           }
          ],
          "carpet": [
           {
            "aaxis": {
             "endlinecolor": "#2a3f5f",
             "gridcolor": "white",
             "linecolor": "white",
             "minorgridcolor": "white",
             "startlinecolor": "#2a3f5f"
            },
            "baxis": {
             "endlinecolor": "#2a3f5f",
             "gridcolor": "white",
             "linecolor": "white",
             "minorgridcolor": "white",
             "startlinecolor": "#2a3f5f"
            },
            "type": "carpet"
           }
          ],
          "choropleth": [
           {
            "colorbar": {
             "outlinewidth": 0,
             "ticks": ""
            },
            "type": "choropleth"
           }
          ],
          "contour": [
           {
            "colorbar": {
             "outlinewidth": 0,
             "ticks": ""
            },
            "colorscale": [
             [
              0,
              "#0d0887"
             ],
             [
              0.1111111111111111,
              "#46039f"
             ],
             [
              0.2222222222222222,
              "#7201a8"
             ],
             [
              0.3333333333333333,
              "#9c179e"
             ],
             [
              0.4444444444444444,
              "#bd3786"
             ],
             [
              0.5555555555555556,
              "#d8576b"
             ],
             [
              0.6666666666666666,
              "#ed7953"
             ],
             [
              0.7777777777777778,
              "#fb9f3a"
             ],
             [
              0.8888888888888888,
              "#fdca26"
             ],
             [
              1,
              "#f0f921"
             ]
            ],
            "type": "contour"
           }
          ],
          "contourcarpet": [
           {
            "colorbar": {
             "outlinewidth": 0,
             "ticks": ""
            },
            "type": "contourcarpet"
           }
          ],
          "heatmap": [
           {
            "colorbar": {
             "outlinewidth": 0,
             "ticks": ""
            },
            "colorscale": [
             [
              0,
              "#0d0887"
             ],
             [
              0.1111111111111111,
              "#46039f"
             ],
             [
              0.2222222222222222,
              "#7201a8"
             ],
             [
              0.3333333333333333,
              "#9c179e"
             ],
             [
              0.4444444444444444,
              "#bd3786"
             ],
             [
              0.5555555555555556,
              "#d8576b"
             ],
             [
              0.6666666666666666,
              "#ed7953"
             ],
             [
              0.7777777777777778,
              "#fb9f3a"
             ],
             [
              0.8888888888888888,
              "#fdca26"
             ],
             [
              1,
              "#f0f921"
             ]
            ],
            "type": "heatmap"
           }
          ],
          "heatmapgl": [
           {
            "colorbar": {
             "outlinewidth": 0,
             "ticks": ""
            },
            "colorscale": [
             [
              0,
              "#0d0887"
             ],
             [
              0.1111111111111111,
              "#46039f"
             ],
             [
              0.2222222222222222,
              "#7201a8"
             ],
             [
              0.3333333333333333,
              "#9c179e"
             ],
             [
              0.4444444444444444,
              "#bd3786"
             ],
             [
              0.5555555555555556,
              "#d8576b"
             ],
             [
              0.6666666666666666,
              "#ed7953"
             ],
             [
              0.7777777777777778,
              "#fb9f3a"
             ],
             [
              0.8888888888888888,
              "#fdca26"
             ],
             [
              1,
              "#f0f921"
             ]
            ],
            "type": "heatmapgl"
           }
          ],
          "histogram": [
           {
            "marker": {
             "pattern": {
              "fillmode": "overlay",
              "size": 10,
              "solidity": 0.2
             }
            },
            "type": "histogram"
           }
          ],
          "histogram2d": [
           {
            "colorbar": {
             "outlinewidth": 0,
             "ticks": ""
            },
            "colorscale": [
             [
              0,
              "#0d0887"
             ],
             [
              0.1111111111111111,
              "#46039f"
             ],
             [
              0.2222222222222222,
              "#7201a8"
             ],
             [
              0.3333333333333333,
              "#9c179e"
             ],
             [
              0.4444444444444444,
              "#bd3786"
             ],
             [
              0.5555555555555556,
              "#d8576b"
             ],
             [
              0.6666666666666666,
              "#ed7953"
             ],
             [
              0.7777777777777778,
              "#fb9f3a"
             ],
             [
              0.8888888888888888,
              "#fdca26"
             ],
             [
              1,
              "#f0f921"
             ]
            ],
            "type": "histogram2d"
           }
          ],
          "histogram2dcontour": [
           {
            "colorbar": {
             "outlinewidth": 0,
             "ticks": ""
            },
            "colorscale": [
             [
              0,
              "#0d0887"
             ],
             [
              0.1111111111111111,
              "#46039f"
             ],
             [
              0.2222222222222222,
              "#7201a8"
             ],
             [
              0.3333333333333333,
              "#9c179e"
             ],
             [
              0.4444444444444444,
              "#bd3786"
             ],
             [
              0.5555555555555556,
              "#d8576b"
             ],
             [
              0.6666666666666666,
              "#ed7953"
             ],
             [
              0.7777777777777778,
              "#fb9f3a"
             ],
             [
              0.8888888888888888,
              "#fdca26"
             ],
             [
              1,
              "#f0f921"
             ]
            ],
            "type": "histogram2dcontour"
           }
          ],
          "mesh3d": [
           {
            "colorbar": {
             "outlinewidth": 0,
             "ticks": ""
            },
            "type": "mesh3d"
           }
          ],
          "parcoords": [
           {
            "line": {
             "colorbar": {
              "outlinewidth": 0,
              "ticks": ""
             }
            },
            "type": "parcoords"
           }
          ],
          "pie": [
           {
            "automargin": true,
            "type": "pie"
           }
          ],
          "scatter": [
           {
            "fillpattern": {
             "fillmode": "overlay",
             "size": 10,
             "solidity": 0.2
            },
            "type": "scatter"
           }
          ],
          "scatter3d": [
           {
            "line": {
             "colorbar": {
              "outlinewidth": 0,
              "ticks": ""
             }
            },
            "marker": {
             "colorbar": {
              "outlinewidth": 0,
              "ticks": ""
             }
            },
            "type": "scatter3d"
           }
          ],
          "scattercarpet": [
           {
            "marker": {
             "colorbar": {
              "outlinewidth": 0,
              "ticks": ""
             }
            },
            "type": "scattercarpet"
           }
          ],
          "scattergeo": [
           {
            "marker": {
             "colorbar": {
              "outlinewidth": 0,
              "ticks": ""
             }
            },
            "type": "scattergeo"
           }
          ],
          "scattergl": [
           {
            "marker": {
             "colorbar": {
              "outlinewidth": 0,
              "ticks": ""
             }
            },
            "type": "scattergl"
           }
          ],
          "scattermapbox": [
           {
            "marker": {
             "colorbar": {
              "outlinewidth": 0,
              "ticks": ""
             }
            },
            "type": "scattermapbox"
           }
          ],
          "scatterpolar": [
           {
            "marker": {
             "colorbar": {
              "outlinewidth": 0,
              "ticks": ""
             }
            },
            "type": "scatterpolar"
           }
          ],
          "scatterpolargl": [
           {
            "marker": {
             "colorbar": {
              "outlinewidth": 0,
              "ticks": ""
             }
            },
            "type": "scatterpolargl"
           }
          ],
          "scatterternary": [
           {
            "marker": {
             "colorbar": {
              "outlinewidth": 0,
              "ticks": ""
             }
            },
            "type": "scatterternary"
           }
          ],
          "surface": [
           {
            "colorbar": {
             "outlinewidth": 0,
             "ticks": ""
            },
            "colorscale": [
             [
              0,
              "#0d0887"
             ],
             [
              0.1111111111111111,
              "#46039f"
             ],
             [
              0.2222222222222222,
              "#7201a8"
             ],
             [
              0.3333333333333333,
              "#9c179e"
             ],
             [
              0.4444444444444444,
              "#bd3786"
             ],
             [
              0.5555555555555556,
              "#d8576b"
             ],
             [
              0.6666666666666666,
              "#ed7953"
             ],
             [
              0.7777777777777778,
              "#fb9f3a"
             ],
             [
              0.8888888888888888,
              "#fdca26"
             ],
             [
              1,
              "#f0f921"
             ]
            ],
            "type": "surface"
           }
          ],
          "table": [
           {
            "cells": {
             "fill": {
              "color": "#EBF0F8"
             },
             "line": {
              "color": "white"
             }
            },
            "header": {
             "fill": {
              "color": "#C8D4E3"
             },
             "line": {
              "color": "white"
             }
            },
            "type": "table"
           }
          ]
         },
         "layout": {
          "annotationdefaults": {
           "arrowcolor": "#2a3f5f",
           "arrowhead": 0,
           "arrowwidth": 1
          },
          "autotypenumbers": "strict",
          "coloraxis": {
           "colorbar": {
            "outlinewidth": 0,
            "ticks": ""
           }
          },
          "colorscale": {
           "diverging": [
            [
             0,
             "#8e0152"
            ],
            [
             0.1,
             "#c51b7d"
            ],
            [
             0.2,
             "#de77ae"
            ],
            [
             0.3,
             "#f1b6da"
            ],
            [
             0.4,
             "#fde0ef"
            ],
            [
             0.5,
             "#f7f7f7"
            ],
            [
             0.6,
             "#e6f5d0"
            ],
            [
             0.7,
             "#b8e186"
            ],
            [
             0.8,
             "#7fbc41"
            ],
            [
             0.9,
             "#4d9221"
            ],
            [
             1,
             "#276419"
            ]
           ],
           "sequential": [
            [
             0,
             "#0d0887"
            ],
            [
             0.1111111111111111,
             "#46039f"
            ],
            [
             0.2222222222222222,
             "#7201a8"
            ],
            [
             0.3333333333333333,
             "#9c179e"
            ],
            [
             0.4444444444444444,
             "#bd3786"
            ],
            [
             0.5555555555555556,
             "#d8576b"
            ],
            [
             0.6666666666666666,
             "#ed7953"
            ],
            [
             0.7777777777777778,
             "#fb9f3a"
            ],
            [
             0.8888888888888888,
             "#fdca26"
            ],
            [
             1,
             "#f0f921"
            ]
           ],
           "sequentialminus": [
            [
             0,
             "#0d0887"
            ],
            [
             0.1111111111111111,
             "#46039f"
            ],
            [
             0.2222222222222222,
             "#7201a8"
            ],
            [
             0.3333333333333333,
             "#9c179e"
            ],
            [
             0.4444444444444444,
             "#bd3786"
            ],
            [
             0.5555555555555556,
             "#d8576b"
            ],
            [
             0.6666666666666666,
             "#ed7953"
            ],
            [
             0.7777777777777778,
             "#fb9f3a"
            ],
            [
             0.8888888888888888,
             "#fdca26"
            ],
            [
             1,
             "#f0f921"
            ]
           ]
          },
          "colorway": [
           "#636efa",
           "#EF553B",
           "#00cc96",
           "#ab63fa",
           "#FFA15A",
           "#19d3f3",
           "#FF6692",
           "#B6E880",
           "#FF97FF",
           "#FECB52"
          ],
          "font": {
           "color": "#2a3f5f"
          },
          "geo": {
           "bgcolor": "white",
           "lakecolor": "white",
           "landcolor": "#E5ECF6",
           "showlakes": true,
           "showland": true,
           "subunitcolor": "white"
          },
          "hoverlabel": {
           "align": "left"
          },
          "hovermode": "closest",
          "mapbox": {
           "style": "light"
          },
          "paper_bgcolor": "white",
          "plot_bgcolor": "#E5ECF6",
          "polar": {
           "angularaxis": {
            "gridcolor": "white",
            "linecolor": "white",
            "ticks": ""
           },
           "bgcolor": "#E5ECF6",
           "radialaxis": {
            "gridcolor": "white",
            "linecolor": "white",
            "ticks": ""
           }
          },
          "scene": {
           "xaxis": {
            "backgroundcolor": "#E5ECF6",
            "gridcolor": "white",
            "gridwidth": 2,
            "linecolor": "white",
            "showbackground": true,
            "ticks": "",
            "zerolinecolor": "white"
           },
           "yaxis": {
            "backgroundcolor": "#E5ECF6",
            "gridcolor": "white",
            "gridwidth": 2,
            "linecolor": "white",
            "showbackground": true,
            "ticks": "",
            "zerolinecolor": "white"
           },
           "zaxis": {
            "backgroundcolor": "#E5ECF6",
            "gridcolor": "white",
            "gridwidth": 2,
            "linecolor": "white",
            "showbackground": true,
            "ticks": "",
            "zerolinecolor": "white"
           }
          },
          "shapedefaults": {
           "line": {
            "color": "#2a3f5f"
           }
          },
          "ternary": {
           "aaxis": {
            "gridcolor": "white",
            "linecolor": "white",
            "ticks": ""
           },
           "baxis": {
            "gridcolor": "white",
            "linecolor": "white",
            "ticks": ""
           },
           "bgcolor": "#E5ECF6",
           "caxis": {
            "gridcolor": "white",
            "linecolor": "white",
            "ticks": ""
           }
          },
          "title": {
           "x": 0.05
          },
          "xaxis": {
           "automargin": true,
           "gridcolor": "white",
           "linecolor": "white",
           "ticks": "",
           "title": {
            "standoff": 15
           },
           "zerolinecolor": "white",
           "zerolinewidth": 2
          },
          "yaxis": {
           "automargin": true,
           "gridcolor": "white",
           "linecolor": "white",
           "ticks": "",
           "title": {
            "standoff": 15
           },
           "zerolinecolor": "white",
           "zerolinewidth": 2
          }
         }
        },
        "xaxis": {
         "autorange": true,
         "range": [
          -0.9183068225490945,
          1.0061902954033446
         ],
         "showgrid": false,
         "showticklabels": false,
         "type": "linear",
         "zeroline": false
        },
        "yaxis": {
         "autorange": true,
         "range": [
          -1.0961357121968385,
          1.151396250248022
         ],
         "showgrid": false,
         "showticklabels": false,
         "type": "linear",
         "zeroline": false
        }
       }
      },
      "image/png": "[encoded data removed]",
      "text/html": [
       "<div>                            <div id=\"03dda41f-0fba-4f07-b2cd-37fb61231daa\" class=\"plotly-graph-div\" style=\"height:525px; width:100%;\"></div>            <script type=\"text/javascript\">                require([\"plotly\"], function(Plotly) {                    window.PLOTLYENV=window.PLOTLYENV || {};                                    if (document.getElementById(\"03dda41f-0fba-4f07-b2cd-37fb61231daa\")) {                    Plotly.newPlot(                        \"03dda41f-0fba-4f07-b2cd-37fb61231daa\",                        [{\"line\":{\"color\":\"#888\",\"width\":2},\"mode\":\"lines\",\"x\":[0.19415372142314613,-0.7099379177561195,null,0.19415372142314613,-0.8047003091555148,null,0.19415372142314613,-0.6710650017041636,null,0.19415372142314613,-0.35287549144292485,null,0.19415372142314613,0.0716011927342673,null,0.19415372142314613,0.5142092434345406,null,0.19415372142314613,0.892583782009765,null],\"y\":[0.047656289283750534,0.47488189958343435,null,0.047656289283750534,0.0008807023107940591,null,0.047656289283750534,-0.45366612202788026,null,0.047656289283750534,-0.7894082280703931,null,0.047656289283750534,-0.9447394619488166,null,0.047656289283750534,-0.8996643142808898,null,0.047656289283750534,-0.6679880706379973,null],\"type\":\"scatter\"},{\"hoverinfo\":\"text\",\"hovertext\":[\"name: Case MetaInfo<br>\\u6848\\u53f7: None<br>\\u6848\\u4ef6\\u540d\\u79f0: None\",\"name: \\u501f\\u6b3e\\u6b21\\u6570\\u60c5\\u51b5<br>\\u501f\\u6b3e\\u6b21\\u6570\\u60c5\\u51b5: None\",\"name: \\u6848\\u4ef6\\u590d\\u6742\\u60c5\\u51b5<br>\\u6848\\u4ef6\\u590d\\u6742\\u60c5\\u51b5: None\",\"name: \\u662f\\u5426\\u5b58\\u5728\\u9519\\u5224\\u60c5\\u51b5<br>\\u662f\\u5426\\u5b58\\u5728\\u9519\\u5224\\u60c5\\u51b5: None\",\"name: \\u662f\\u5426\\u5b58\\u5728\\u5224\\u51b3\\u4e66\\u7b14\\u8bef<br>\\u662f\\u5426\\u5b58\\u5728\\u5224\\u51b3\\u4e66\\u7b14\\u8bef: None\",\"name: Court\",\"name: \\u51fa\\u501f\\u4eba\\uff08\\u539f\\u544a\\uff09<br>\\u501f\\u8d37\\u5173\\u7cfb\\u89d2\\u8272: None<br>\\u59d3\\u540d: None<br>\\u51fa\\u5ead\\u60c5\\u51b5: None\",\"name: \\u501f\\u6b3e\\u4eba\\uff08\\u88ab\\u544a\\uff09<br>\\u501f\\u8d37\\u5173\\u7cfb\\u89d2\\u8272: None<br>\\u59d3\\u540d: None<br>\\u51fa\\u5ead\\u60c5\\u51b5: None\",\"name: \\u62c5\\u4fdd\\u4eba\\uff08\\u88ab\\u544a\\uff09<br>\\u501f\\u8d37\\u5173\\u7cfb\\u89d2\\u8272: None<br>\\u59d3\\u540d: None<br>\\u51fa\\u5ead\\u60c5\\u51b5: None\",\"name: \\u5176\\u4ed6\\u8bc9\\u8bbc\\u53c2\\u4e0e\\u4eba<br>\\u501f\\u8d37\\u5173\\u7cfb\\u89d2\\u8272: None<br>\\u59d3\\u540d: None<br>\\u51fa\\u5ead\\u60c5\\u51b5: None\",\"name: \\u539f\\u544a\\u8bf7\\u6c42\\u4e0e\\u6cd5\\u9662\\u88c1\\u5b9a<br>\\u539f\\u544a\\u8bf7\\u6c42\\u4e0e\\u6cd5\\u9662\\u88c1\\u5b9a: \\u6cd5\\u9662\\u8ba4\\u4e3a\\u501f\\u6b3e\\u5408\\u6cd5\\uff0c\\u9700\\u5f52\\u8fd8\\u672c\\u91d1\\u53ca\\u5229\\u606f<br>\\u501f\\u6b3e\\u91d1\\u989d: 100000<br>\\u501f\\u6b3e\\u5229\\u606f: 5000\",\"name: \\u8bc1\\u636e\\u539f\\u6587<br>\\u8bc1\\u636e\\u539f\\u6587: \\u5408\\u540c\\u6587\\u672c\\u3001\\u501f\\u6b3e\\u534f\\u8bae\\u3001\\u94f6\\u884c\\u8f6c\\u8d26\\u8bb0\\u5f55\"],\"marker\":{\"colorscale\":[[0.0,\"rgb(255,255,217)\"],[0.125,\"rgb(237,248,177)\"],[0.25,\"rgb(199,233,180)\"],[0.375,\"rgb(127,205,187)\"],[0.5,\"rgb(65,182,196)\"],[0.625,\"rgb(29,145,192)\"],[0.75,\"rgb(34,94,168)\"],[0.875,\"rgb(37,52,148)\"],[1.0,\"rgb(8,29,88)\"]],\"showscale\":true,\"size\":10},\"mode\":\"markers+text\",\"text\":[\"Case MetaInfo\",\"\\u501f\\u6b3e\\u6b21\\u6570\\u60c5\\u51b5\",\"\\u6848\\u4ef6\\u590d\\u6742\\u60c5\\u51b5\",\"\\u662f\\u5426\\u5b58\\u5728\\u9519\\u5224\\u60c5\\u51b5\",\"\\u662f\\u5426\\u5b58\\u5728\\u5224\\u51b3\\u4e66\\u7b14\\u8bef\",\"Court\",\"\\u51fa\\u501f\\u4eba\\uff08\\u539f\\u544a\\uff09\",\"\\u501f\\u6b3e\\u4eba\\uff08\\u88ab\\u544a\\uff09\",\"\\u62c5\\u4fdd\\u4eba\\uff08\\u88ab\\u544a\\uff09\",\"\\u5176\\u4ed6\\u8bc9\\u8bbc\\u53c2\\u4e0e\\u4eba\",\"\\u539f\\u544a\\u8bf7\\u6c42\\u4e0e\\u6cd5\\u9662\\u88c1\\u5b9a\",\"\\u8bc1\\u636e\\u539f\\u6587\"],\"textposition\":\"bottom center\",\"x\":[0.19415372142314613,0.8660283883438151,0.5000023735673071,1.0932168557478475e-06,-0.500001074670974,-0.7099379177561195,-0.8047003091555148,-0.6710650017041636,-0.35287549144292485,0.0716011927342673,0.5142092434345406,0.892583782009765],\"y\":[0.047656289283750534,0.4999968933132452,0.8660243241086096,1.0,0.8660260883661435,0.47488189958343435,0.0008807023107940591,-0.45366612202788026,-0.7894082280703931,-0.9447394619488166,-0.8996643142808898,-0.6679880706379973],\"type\":\"scatter\"},{\"hoverinfo\":\"text\",\"marker\":{\"color\":\"rgba(0,0,0,0)\",\"size\":1},\"mode\":\"markers\",\"text\":[\"relationship: involved_in\",\"relationship: involved_in\",\"relationship: involved_in\",\"relationship: involved_in\",\"relationship: involved_in\",\"relationship: claims_details\",\"relationship: has_document\"],\"x\":[-0.25789209816648667,-0.30527329386618435,-0.23845564014050874,-0.07936088500988936,0.1328774570787067,0.35418148242884334,0.5433687517164556],\"y\":[0.2612690944335924,0.024268495797272298,-0.20300491637206486,-0.3708759693933213,-0.44854158633253305,-0.4260040124985696,-0.31016589067712336],\"type\":\"scatter\"}],                        {\"hovermode\":\"closest\",\"margin\":{\"b\":0,\"l\":0,\"r\":0,\"t\":0},\"showlegend\":false,\"xaxis\":{\"showgrid\":false,\"showticklabels\":false,\"zeroline\":false},\"yaxis\":{\"showgrid\":false,\"showticklabels\":false,\"zeroline\":false},\"template\":{\"data\":{\"histogram2dcontour\":[{\"type\":\"histogram2dcontour\",\"colorbar\":{\"outlinewidth\":0,\"ticks\":\"\"},\"colorscale\":[[0.0,\"#0d0887\"],[0.1111111111111111,\"#46039f\"],[0.2222222222222222,\"#7201a8\"],[0.3333333333333333,\"#9c179e\"],[0.4444444444444444,\"#bd3786\"],[0.5555555555555556,\"#d8576b\"],[0.6666666666666666,\"#ed7953\"],[0.7777777777777778,\"#fb9f3a\"],[0.8888888888888888,\"#fdca26\"],[1.0,\"#f0f921\"]]}],\"choropleth\":[{\"type\":\"choropleth\",\"colorbar\":{\"outlinewidth\":0,\"ticks\":\"\"}}],\"histogram2d\":[{\"type\":\"histogram2d\",\"colorbar\":{\"outlinewidth\":0,\"ticks\":\"\"},\"colorscale\":[[0.0,\"#0d0887\"],[0.1111111111111111,\"#46039f\"],[0.2222222222222222,\"#7201a8\"],[0.3333333333333333,\"#9c179e\"],[0.4444444444444444,\"#bd3786\"],[0.5555555555555556,\"#d8576b\"],[0.6666666666666666,\"#ed7953\"],[0.7777777777777778,\"#fb9f3a\"],[0.8888888888888888,\"#fdca26\"],[1.0,\"#f0f921\"]]}],\"heatmap\":[{\"type\":\"heatmap\",\"colorbar\":{\"outlinewidth\":0,\"ticks\":\"\"},\"colorscale\":[[0.0,\"#0d0887\"],[0.1111111111111111,\"#46039f\"],[0.2222222222222222,\"#7201a8\"],[0.3333333333333333,\"#9c179e\"],[0.4444444444444444,\"#bd3786\"],[0.5555555555555556,\"#d8576b\"],[0.6666666666666666,\"#ed7953\"],[0.7777777777777778,\"#fb9f3a\"],[0.8888888888888888,\"#fdca26\"],[1.0,\"#f0f921\"]]}],\"heatmapgl\":[{\"type\":\"heatmapgl\",\"colorbar\":{\"outlinewidth\":0,\"ticks\":\"\"},\"colorscale\":[[0.0,\"#0d0887\"],[0.1111111111111111,\"#46039f\"],[0.2222222222222222,\"#7201a8\"],[0.3333333333333333,\"#9c179e\"],[0.4444444444444444,\"#bd3786\"],[0.5555555555555556,\"#d8576b\"],[0.6666666666666666,\"#ed7953\"],[0.7777777777777778,\"#fb9f3a\"],[0.8888888888888888,\"#fdca26\"],[1.0,\"#f0f921\"]]}],\"contourcarpet\":[{\"type\":\"contourcarpet\",\"colorbar\":{\"outlinewidth\":0,\"ticks\":\"\"}}],\"contour\":[{\"type\":\"contour\",\"colorbar\":{\"outlinewidth\":0,\"ticks\":\"\"},\"colorscale\":[[0.0,\"#0d0887\"],[0.1111111111111111,\"#46039f\"],[0.2222222222222222,\"#7201a8\"],[0.3333333333333333,\"#9c179e\"],[0.4444444444444444,\"#bd3786\"],[0.5555555555555556,\"#d8576b\"],[0.6666666666666666,\"#ed7953\"],[0.7777777777777778,\"#fb9f3a\"],[0.8888888888888888,\"#fdca26\"],[1.0,\"#f0f921\"]]}],\"surface\":[{\"type\":\"surface\",\"colorbar\":{\"outlinewidth\":0,\"ticks\":\"\"},\"colorscale\":[[0.0,\"#0d0887\"],[0.1111111111111111,\"#46039f\"],[0.2222222222222222,\"#7201a8\"],[0.3333333333333333,\"#9c179e\"],[0.4444444444444444,\"#bd3786\"],[0.5555555555555556,\"#d8576b\"],[0.6666666666666666,\"#ed7953\"],[0.7777777777777778,\"#fb9f3a\"],[0.8888888888888888,\"#fdca26\"],[1.0,\"#f0f921\"]]}],\"mesh3d\":[{\"type\":\"mesh3d\",\"colorbar\":{\"outlinewidth\":0,\"ticks\":\"\"}}],\"scatter\":[{\"fillpattern\":{\"fillmode\":\"overlay\",\"size\":10,\"solidity\":0.2},\"type\":\"scatter\"}],\"parcoords\":[{\"type\":\"parcoords\",\"line\":{\"colorbar\":{\"outlinewidth\":0,\"ticks\":\"\"}}}],\"scatterpolargl\":[{\"type\":\"scatterpolargl\",\"marker\":{\"colorbar\":{\"outlinewidth\":0,\"ticks\":\"\"}}}],\"bar\":[{\"error_x\":{\"color\":\"#2a3f5f\"},\"error_y\":{\"color\":\"#2a3f5f\"},\"marker\":{\"line\":{\"color\":\"#E5ECF6\",\"width\":0.5},\"pattern\":{\"fillmode\":\"overlay\",\"size\":10,\"solidity\":0.2}},\"type\":\"bar\"}],\"scattergeo\":[{\"type\":\"scattergeo\",\"marker\":{\"colorbar\":{\"outlinewidth\":0,\"ticks\":\"\"}}}],\"scatterpolar\":[{\"type\":\"scatterpolar\",\"marker\":{\"colorbar\":{\"outlinewidth\":0,\"ticks\":\"\"}}}],\"histogram\":[{\"marker\":{\"pattern\":{\"fillmode\":\"overlay\",\"size\":10,\"solidity\":0.2}},\"type\":\"histogram\"}],\"scattergl\":[{\"type\":\"scattergl\",\"marker\":{\"colorbar\":{\"outlinewidth\":0,\"ticks\":\"\"}}}],\"scatter3d\":[{\"type\":\"scatter3d\",\"line\":{\"colorbar\":{\"outlinewidth\":0,\"ticks\":\"\"}},\"marker\":{\"colorbar\":{\"outlinewidth\":0,\"ticks\":\"\"}}}],\"scattermapbox\":[{\"type\":\"scattermapbox\",\"marker\":{\"colorbar\":{\"outlinewidth\":0,\"ticks\":\"\"}}}],\"scatterternary\":[{\"type\":\"scatterternary\",\"marker\":{\"colorbar\":{\"outlinewidth\":0,\"ticks\":\"\"}}}],\"scattercarpet\":[{\"type\":\"scattercarpet\",\"marker\":{\"colorbar\":{\"outlinewidth\":0,\"ticks\":\"\"}}}],\"carpet\":[{\"aaxis\":{\"endlinecolor\":\"#2a3f5f\",\"gridcolor\":\"white\",\"linecolor\":\"white\",\"minorgridcolor\":\"white\",\"startlinecolor\":\"#2a3f5f\"},\"baxis\":{\"endlinecolor\":\"#2a3f5f\",\"gridcolor\":\"white\",\"linecolor\":\"white\",\"minorgridcolor\":\"white\",\"startlinecolor\":\"#2a3f5f\"},\"type\":\"carpet\"}],\"table\":[{\"cells\":{\"fill\":{\"color\":\"#EBF0F8\"},\"line\":{\"color\":\"white\"}},\"header\":{\"fill\":{\"color\":\"#C8D4E3\"},\"line\":{\"color\":\"white\"}},\"type\":\"table\"}],\"barpolar\":[{\"marker\":{\"line\":{\"color\":\"#E5ECF6\",\"width\":0.5},\"pattern\":{\"fillmode\":\"overlay\",\"size\":10,\"solidity\":0.2}},\"type\":\"barpolar\"}],\"pie\":[{\"automargin\":true,\"type\":\"pie\"}]},\"layout\":{\"autotypenumbers\":\"strict\",\"colorway\":[\"#636efa\",\"#EF553B\",\"#00cc96\",\"#ab63fa\",\"#FFA15A\",\"#19d3f3\",\"#FF6692\",\"#B6E880\",\"#FF97FF\",\"#FECB52\"],\"font\":{\"color\":\"#2a3f5f\"},\"hovermode\":\"closest\",\"hoverlabel\":{\"align\":\"left\"},\"paper_bgcolor\":\"white\",\"plot_bgcolor\":\"#E5ECF6\",\"polar\":{\"bgcolor\":\"#E5ECF6\",\"angularaxis\":{\"gridcolor\":\"white\",\"linecolor\":\"white\",\"ticks\":\"\"},\"radialaxis\":{\"gridcolor\":\"white\",\"linecolor\":\"white\",\"ticks\":\"\"}},\"ternary\":{\"bgcolor\":\"#E5ECF6\",\"aaxis\":{\"gridcolor\":\"white\",\"linecolor\":\"white\",\"ticks\":\"\"},\"baxis\":{\"gridcolor\":\"white\",\"linecolor\":\"white\",\"ticks\":\"\"},\"caxis\":{\"gridcolor\":\"white\",\"linecolor\":\"white\",\"ticks\":\"\"}},\"coloraxis\":{\"colorbar\":{\"outlinewidth\":0,\"ticks\":\"\"}},\"colorscale\":{\"sequential\":[[0.0,\"#0d0887\"],[0.1111111111111111,\"#46039f\"],[0.2222222222222222,\"#7201a8\"],[0.3333333333333333,\"#9c179e\"],[0.4444444444444444,\"#bd3786\"],[0.5555555555555556,\"#d8576b\"],[0.6666666666666666,\"#ed7953\"],[0.7777777777777778,\"#fb9f3a\"],[0.8888888888888888,\"#fdca26\"],[1.0,\"#f0f921\"]],\"sequentialminus\":[[0.0,\"#0d0887\"],[0.1111111111111111,\"#46039f\"],[0.2222222222222222,\"#7201a8\"],[0.3333333333333333,\"#9c179e\"],[0.4444444444444444,\"#bd3786\"],[0.5555555555555556,\"#d8576b\"],[0.6666666666666666,\"#ed7953\"],[0.7777777777777778,\"#fb9f3a\"],[0.8888888888888888,\"#fdca26\"],[1.0,\"#f0f921\"]],\"diverging\":[[0,\"#8e0152\"],[0.1,\"#c51b7d\"],[0.2,\"#de77ae\"],[0.3,\"#f1b6da\"],[0.4,\"#fde0ef\"],[0.5,\"#f7f7f7\"],[0.6,\"#e6f5d0\"],[0.7,\"#b8e186\"],[0.8,\"#7fbc41\"],[0.9,\"#4d9221\"],[1,\"#276419\"]]},\"xaxis\":{\"gridcolor\":\"white\",\"linecolor\":\"white\",\"ticks\":\"\",\"title\":{\"standoff\":15},\"zerolinecolor\":\"white\",\"automargin\":true,\"zerolinewidth\":2},\"yaxis\":{\"gridcolor\":\"white\",\"linecolor\":\"white\",\"ticks\":\"\",\"title\":{\"standoff\":15},\"zerolinecolor\":\"white\",\"automargin\":true,\"zerolinewidth\":2},\"scene\":{\"xaxis\":{\"backgroundcolor\":\"#E5ECF6\",\"gridcolor\":\"white\",\"linecolor\":\"white\",\"showbackground\":true,\"ticks\":\"\",\"zerolinecolor\":\"white\",\"gridwidth\":2},\"yaxis\":{\"backgroundcolor\":\"#E5ECF6\",\"gridcolor\":\"white\",\"linecolor\":\"white\",\"showbackground\":true,\"ticks\":\"\",\"zerolinecolor\":\"white\",\"gridwidth\":2},\"zaxis\":{\"backgroundcolor\":\"#E5ECF6\",\"gridcolor\":\"white\",\"linecolor\":\"white\",\"showbackground\":true,\"ticks\":\"\",\"zerolinecolor\":\"white\",\"gridwidth\":2}},\"shapedefaults\":{\"line\":{\"color\":\"#2a3f5f\"}},\"annotationdefaults\":{\"arrowcolor\":\"#2a3f5f\",\"arrowhead\":0,\"arrowwidth\":1},\"geo\":{\"bgcolor\":\"white\",\"landcolor\":\"#E5ECF6\",\"subunitcolor\":\"white\",\"showland\":true,\"showlakes\":true,\"lakecolor\":\"white\"},\"title\":{\"x\":0.05},\"mapbox\":{\"style\":\"light\"}}}},                        {\"responsive\": true}                    ).then(function(){\n",
       "                            \n",
       "var gd = document.getElementById('03dda41f-0fba-4f07-b2cd-37fb61231daa');\n",
       "var x = new MutationObserver(function (mutations, observer) {{\n",
       "        var display = window.getComputedStyle(gd).display;\n",
       "        if (!display || display === 'none') {{\n",
       "            console.log([gd, 'removed!']);\n",
       "            Plotly.purge(gd);\n",
       "            observer.disconnect();\n",
       "        }}\n",
       "}});\n",
       "\n",
       "// Listen for the removal of the full notebook cells\n",
       "var notebookContainer = gd.closest('#notebook-container');\n",
       "if (notebookContainer) {{\n",
       "    x.observe(notebookContainer, {childList: true});\n",
       "}}\n",
       "\n",
       "// Listen for the clearing of the current output cell\n",
       "var outputEl = gd.closest('.output');\n",
       "if (outputEl) {{\n",
       "    x.observe(outputEl, {childList: true});\n",
       "}}\n",
       "\n",
       "                        })                };                });            </script>        </div>"
      ]
     },
     "metadata": {},
     "output_type": "display_data"
    }
   ],
   "source": [
    "# Use this function to visualize your graph\n",
    "visualize_knowledge_graph_interactive(kg)"
   ]
  },
  {
   "cell_type": "code",
   "execution_count": 127,
   "id": "887b6eef-f2a4-4ad7-8014-a95e97a636d6",
   "metadata": {},
   "outputs": [],
   "source": [
    "import json\n",
    "\n",
    "# Path to the JSON file\n",
    "file_path = 'resources/structurev2.json'\n",
    "\n",
    "# Loading the JSON data from the file with 'utf-8' encoding\n",
    "with open(file_path, 'r', encoding='utf-8') as file:\n",
    "    structure = json.load(file)"
   ]
  },
  {
   "cell_type": "code",
   "execution_count": 128,
   "id": "a4bf4d43-5696-4f79-95f9-3e930c0864dc",
   "metadata": {},
   "outputs": [
    {
     "data": {
      "text/plain": [
       "dict_keys(['总体解释', '表头信息', '主体', '字段'])"
      ]
     },
     "execution_count": 128,
     "metadata": {},
     "output_type": "execute_result"
    }
   ],
   "source": [
    "structure.keys()"
   ]
  },
  {
   "cell_type": "code",
   "execution_count": 137,
   "id": "6396d4df-d9e1-4058-acc5-4957231fe240",
   "metadata": {},
   "outputs": [
    {
     "data": {
      "text/plain": [
       "['民间借贷领域',\n",
       " \"所有空格都由'字段释义/原文'和'取值'两部分组成\",\n",
       " '所有借还款行为都有次数属性，默认为3',\n",
       " \"下面分为三部分抽取：'表头信息'，'主体（column）'，'字段（field）'\",\n",
       " '单笔借款、完全不区分的多笔借款；完全区分的多笔借款、不完全区分的多笔借款、将利息计入本金的新借款：完全不区分的多笔借款，是指借贷双方有多次约定或签订借贷协议，但在裁判文书中各方主体都未详细区分，以“打包”说明的形式予以介绍；完全区分的多笔借款，是指借贷双方有多次约定或签订借贷协议，并在裁判文书中各方主体都明确进行区分；不完全区分的多笔借款，是指借贷双方有多次约定或签订借贷协议，但在裁判文书中各方主体对于某几笔借款予以详细区分，某几笔又以“打包”的形式予以介绍；将利息计入本金的新借款，是指借款到期后，将借款的利息计入本金，并将其作为新的一笔借款。']"
      ]
     },
     "execution_count": 137,
     "metadata": {},
     "output_type": "execute_result"
    }
   ],
   "source": [
    "structure['总体解释']"
   ]
  },
  {
   "cell_type": "code",
   "execution_count": 130,
   "id": "2ec9bb31-ed50-4492-a659-eead70dcd749",
   "metadata": {},
   "outputs": [
    {
     "data": {
      "text/plain": [
       "['法院', '出借人（原告）', '借款人（被告）', '担保人（被告）', '其他诉讼参与人']"
      ]
     },
     "execution_count": 130,
     "metadata": {},
     "output_type": "execute_result"
    }
   ],
   "source": [
    "structure['主体']"
   ]
  },
  {
   "cell_type": "code",
   "execution_count": 131,
   "id": "2b844323-f54f-46e6-8c24-004bb5296cf2",
   "metadata": {},
   "outputs": [
    {
     "data": {
      "text/plain": [
       "{'姓名或名称': '字符串',\n",
       " '程序信息': {'借贷关系角色': '借贷关系角色',\n",
       "  '相关诉讼参与人': {'编号': '整数型', '信息': {'姓名': '字符串', '出庭情况': '是否类型'}}},\n",
       " '原告请求与法院裁定': {'原文': {'法院认为及判决结果原文': '字符串',\n",
       "   '出借人（原告）请求': '字符串',\n",
       "   '借款人（被告）辩称': '字符串',\n",
       "   '担保人（被告）主张': '字符串',\n",
       "   '其他诉讼参与人主张': '字符串'},\n",
       "  '需返回本金总额（元）': '金额类型',\n",
       "  '需返回利息': {'总额（元）': '金额类型',\n",
       "   '计算起始日期': '日期类型',\n",
       "   '计算起始日期类型': '起始日期类型',\n",
       "   '计算截止日期': '日期类型',\n",
       "   '计算截止日期类型': '截止日期类型',\n",
       "   '利息率类型': '利率类型',\n",
       "   '利息率数值（百分比或元）': '率类型'},\n",
       "  '需返回逾期利息': {'总额（元）': '金额类型',\n",
       "   '计算起始日期': '日期类型',\n",
       "   '计算起始日期类型': '起始日期类型',\n",
       "   '计算截止日期': '日期类型',\n",
       "   '计算截止日期类型': '截止日期类型',\n",
       "   '利息率类型': '利率类型',\n",
       "   '利息率数值（百分比或元）': '率类型'},\n",
       "  '需返回违约金': {'总额（元）': '金额类型',\n",
       "   '计算起始日期': '日期类型',\n",
       "   '计算起始日期类型': '起始日期类型',\n",
       "   '计算截止日期': '日期类型',\n",
       "   '计算截止日期类型': '截止日期类型',\n",
       "   '违约金类型': '利率类型',\n",
       "   '违约金数值（百分比或元）': '率类型'},\n",
       "  '担保责任': {'是否要求承担': '是否类型', '承担保证责任的人或单位名称': '字符串', '保证责任类型': '担保责任类型'},\n",
       "  '需返回债权实现费用': {'（起诉前后）': '起诉前后类型', '总额（元）': '金额类型', '费用类型': '费用类型'}},\n",
       " '理由辩称与认定': {'原文': {'法院认定事实与理由原文': '字符串',\n",
       "   '出借人（原告）主张事实与理由原文': '字符串',\n",
       "   '借款人（被告）主张事实与理由原文': '字符串',\n",
       "   '担保人（被告）主张事实与理由原文': '字符串',\n",
       "   '其他诉讼参与人主张事实与理由原文 (copy)': '字符串'},\n",
       "  '借款目的与用途类型': '借款用途',\n",
       "  '借款人与出借人关系类型': '借款人与出借人关系类型',\n",
       "  '担保人的姓名或单位名称': '字符串',\n",
       "  '借款人与担保人关系类型': '借款人与出借人关系类型',\n",
       "  '意思表示日': '日期类型',\n",
       "  '借款次数': '整数型',\n",
       "  '借款次数情况': '借款次数情况',\n",
       "  '是否有借款凭证': '是否类型',\n",
       "  '借款凭证信息': {'编号': '整数型',\n",
       "   '名称': '字符串',\n",
       "   '类型': '借款凭证类型',\n",
       "   '出具时间': '日期类型',\n",
       "   '所载内容': '字符串'},\n",
       "  '约定的借款金额': {'编号': '整数型',\n",
       "   '约定类型': '约定情况',\n",
       "   '实际发生时间': '日期类型',\n",
       "   '借款金额（元）': '金额类型'},\n",
       "  '约定的还款日期或借款期限': {'编号': '整数型',\n",
       "   '约定类型': '约定情况',\n",
       "   '实际发生时间': '日期类型',\n",
       "   '借款起始日期': '日期类型',\n",
       "   '还款日期': '日期类型',\n",
       "   '借款期限（月）': '整数型'},\n",
       "  '约定的利息': {'编号': '整数型',\n",
       "   '约定类型': '约定情况',\n",
       "   '实际发生时间': '日期类型',\n",
       "   '利率类型': '利率类型',\n",
       "   '利率数值（百分比或元）': '率类型'},\n",
       "  '约定的逾期利息': {'编号': '整数型',\n",
       "   '约定类型': '约定情况',\n",
       "   '实际发生时间': '日期类型',\n",
       "   '利率类型': '利率类型',\n",
       "   '利率数值（百分比或元）': '率类型'},\n",
       "  '约定的违约金': {'编号': '整数型',\n",
       "   '约定类型': '约定情况',\n",
       "   '实际发生时间': '日期类型',\n",
       "   '违约金类型': '利率类型',\n",
       "   '违约金数值（百分比或元）': '率类型'},\n",
       "  '管辖约定情况': '约定情况',\n",
       "  '仲裁约定情况': '约定情况',\n",
       "  '程序性费用的承担（律师费、诉讼费等）': {'约定类型': '约定情况', '承担情况类型': '约定程序性费用承担情况类型'},\n",
       "  '约定的还款方式': {'编号': '整数型',\n",
       "   '约定类型': '约定情况',\n",
       "   '实际发生时间': '日期类型',\n",
       "   '本金还款方式': '约定还款方式类型',\n",
       "   '利息还款方式': '约定还款方式类型',\n",
       "   '前述还款方式下每次还款总金额（元）': '金额类型',\n",
       "   '前述还款方式下每次还款日期': '日期类型'},\n",
       "  '约定的担保情况': {'编号': '整数型',\n",
       "   '约定类型': '约定情况',\n",
       "   '担保方式类型': '担保方式类型',\n",
       "   '担保范围': '字符串',\n",
       "   '担保期限（月）': '整数型',\n",
       "   '担保物当下状态': '字符串',\n",
       "   '担保人类型': '担保人类型',\n",
       "   '担保人责任': '担保责任类型'},\n",
       "  '借款实际交付情况': {'编号': '整数型',\n",
       "   '金额（元）': '金额类型',\n",
       "   '时间': '日期类型',\n",
       "   '方式类型': '交付方式类型',\n",
       "   '所对应的是第几笔借款': '整数型'},\n",
       "  '已还款总体情况类型': '已还款总体情况类型',\n",
       "  '已还款情况': {'编号': '整数型',\n",
       "   '还款时间': '日期类型',\n",
       "   '金额（元）': '金额类型',\n",
       "   '还款方式': '交付方式类型',\n",
       "   '金额性质': '已还款金额性质',\n",
       "   '所对应的是第几笔借款': '整数型',\n",
       "   '所冲抵利息至哪一日': '日期类型'},\n",
       "  '证据原文': {'法院认定的所有证据原文': '字符串',\n",
       "   '出借人（原告）提供的所有证据原文': '字符串',\n",
       "   '借款人（被告）提供的所有证据原文 ': '字符串',\n",
       "   '担保人（被告）提供的所有证据原文 ': '字符串',\n",
       "   '其他诉讼参与人提供的所有证据原文': '字符串'}},\n",
       " '专题问题': {'夫妻共同债务': {'法院对夫妻债务的认定': '法院对夫妻债务的认定', '法院说理原文': '字符串'},\n",
       "  '砍头息': {'法院对砍头息的认定': '法院对砍头息的认定', '法院说理原文': '字符串'},\n",
       "  '公司为股东担保': {'法院对公司为股东担保的效力的认定': '法院对公司为股东担保的效力的认定', '法院说理原文': '字符串'},\n",
       "  '债权/债务非原始取得': {'债权取得类型': '债权取得类型', '转让人': '字符串', '继受人': '字符串'},\n",
       "  '出借人主体资格问题': {'法院对主体资格与合同效力的认定': '法院对主体资格与合同效力的认定', '法院说理原文': '字符串'},\n",
       "  '职业放贷人': {'法院对职业放贷人的认定': '法院对职业放贷人的认定',\n",
       "   '承担举证责任方': '承担举证责任方',\n",
       "   '法院说理原文': '字符串'},\n",
       "  '互联网平台责任': {'法院对是否属于互联网平台责任的认定': '是否类型', '法院说理原文': '字符串'},\n",
       "  '民刑交叉': {'法院对民事案件的处理程序': '法院对民事案件的处理程序', '法院说理原文': '字符串'},\n",
       "  '法院关于利率的调整、认定等事项的说理原文': '字符串'}}"
      ]
     },
     "execution_count": 131,
     "metadata": {},
     "output_type": "execute_result"
    }
   ],
   "source": [
    "structure['字段']"
   ]
  },
  {
   "cell_type": "code",
   "execution_count": null,
   "id": "34b17ba1-d8f6-4d5e-938a-e7a5708fcd6f",
   "metadata": {},
   "outputs": [],
   "source": []
  },
  {
   "cell_type": "code",
   "execution_count": null,
   "id": "a51b10c9-273a-4ff4-8fe9-40b518b07834",
   "metadata": {},
   "outputs": [],
   "source": []
  },
  {
   "cell_type": "code",
   "execution_count": null,
   "id": "05669e4f-57bb-49c8-a22e-4ee40ab6e81f",
   "metadata": {},
   "outputs": [],
   "source": []
  },
  {
   "cell_type": "code",
   "execution_count": null,
   "id": "8bcb89f8-4e4e-4ab6-a147-e34d9233af7e",
   "metadata": {},
   "outputs": [],
   "source": []
  },
  {
   "cell_type": "code",
   "execution_count": null,
   "id": "b22defd3-bd88-4ef0-bdcc-50334c00c82a",
   "metadata": {},
   "outputs": [],
   "source": []
  }
 ],
 "metadata": {
  "kernelspec": {
   "display_name": "Python 3 (ipykernel)",
   "language": "python",
   "name": "python3"
  },
  "language_info": {
   "codemirror_mode": {
    "name": "ipython",
    "version": 3
   },
   "file_extension": ".py",
   "mimetype": "text/x-python",
   "name": "python",
   "nbconvert_exporter": "python",
   "pygments_lexer": "ipython3",
   "version": "3.9.7"
  }
 },
 "nbformat": 4,
 "nbformat_minor": 5
}
