{
 "cells": [
  {
   "cell_type": "code",
   "execution_count": 1,
   "metadata": {},
   "outputs": [],
   "source": [
    "import os\n",
    "import sys\n",
    "from collections import OrderedDict\n",
    "from auto_instructions import return_kg\n",
    "\n",
    "_ROOT_PATH = \"/home/jiangpeiwen2/jiangpeiwen2/workspace/TKGT\"\n",
    "sys.path.insert(0, _ROOT_PATH)\n",
    "from KGs.KG_class import visualize_knowledge_graph_interactive, DomainKnowledgeGraph"
   ]
  },
  {
   "cell_type": "code",
   "execution_count": 2,
   "metadata": {},
   "outputs": [],
   "source": [
    "e2e_kg = return_kg( \"e2e\")\n",
    "# visualize_knowledge_graph_interactive(cpl_kg)"
   ]
  },
  {
   "cell_type": "code",
   "execution_count": 6,
   "metadata": {},
   "outputs": [
    {
     "data": {
      "text/plain": [
       "dict_keys(['Resturant'])"
      ]
     },
     "execution_count": 6,
     "metadata": {},
     "output_type": "execute_result"
    }
   ],
   "source": [
    "e2e_kg.entity_type_info.keys()"
   ]
  },
  {
   "cell_type": "code",
   "execution_count": 3,
   "metadata": {},
   "outputs": [
    {
     "name": "stdout",
     "output_type": "stream",
     "text": [
      "构建Resturant的空结构。Resturant的基本情况如下：\n",
      "数量：(1, 1)\n",
      "介绍：餐馆基本评价\n",
      "成功添加唯一性实体 Resturant，属性：{'Name': '楼外楼', 'Price range': None, 'Customer rating': None, 'Near': None, 'Food': None, 'Area': None, 'Family friendly': None}\n"
     ]
    }
   ],
   "source": [
    "e2e_kg.add_empty_entity( \"Resturant\", \"楼外楼\")"
   ]
  },
  {
   "cell_type": "code",
   "execution_count": 4,
   "metadata": {},
   "outputs": [
    {
     "data": {
      "text/plain": [
       "{'Resturant': {'Name': '楼外楼',\n",
       "  'Price range': None,\n",
       "  'Customer rating': None,\n",
       "  'Near': None,\n",
       "  'Food': None,\n",
       "  'Area': None,\n",
       "  'Family friendly': None}}"
      ]
     },
     "execution_count": 4,
     "metadata": {},
     "output_type": "execute_result"
    }
   ],
   "source": [
    "e2e_kg.get_info( single=False, node=True)"
   ]
  },
  {
   "cell_type": "code",
   "execution_count": 5,
   "metadata": {},
   "outputs": [
    {
     "name": "stdout",
     "output_type": "stream",
     "text": [
      "构建Team的空结构。Team的基本情况如下：\n",
      "数量：(1, 2)\n",
      "介绍：NBA球队整体数据\n",
      "成功添加实体 Team的第1个实例，属性：{'Name': '湖人', 'Number of team assists': None, 'Percentage of 3 points': None, 'Percentage of field goals': None, 'Losses': None, 'Total points': None, 'Points in 1st quarter': None, 'Points in 2nd quarter': None, 'Points in 3rd quarter': None, 'Points in 4th quarter': None, 'Rebounds': None, 'Turnovers': None, 'Wins': None}\n"
     ]
    }
   ],
   "source": [
    "rotowire_kg = DomainKnowledgeGraph( rotowire_kg_schema, \"EN\" )\n",
    "rotowire_kg.add_empty_entity( \"Team\", \"湖人\")"
   ]
  },
  {
   "cell_type": "code",
   "execution_count": 6,
   "metadata": {},
   "outputs": [
    {
     "data": {
      "text/plain": [
       "{'Team_1': {'Name': '湖人',\n",
       "  'Number of team assists': None,\n",
       "  'Percentage of 3 points': None,\n",
       "  'Percentage of field goals': None,\n",
       "  'Losses': None,\n",
       "  'Total points': None,\n",
       "  'Points in 1st quarter': None,\n",
       "  'Points in 2nd quarter': None,\n",
       "  'Points in 3rd quarter': None,\n",
       "  'Points in 4th quarter': None,\n",
       "  'Rebounds': None,\n",
       "  'Turnovers': None,\n",
       "  'Wins': None}}"
      ]
     },
     "execution_count": 6,
     "metadata": {},
     "output_type": "execute_result"
    }
   ],
   "source": [
    "rotowire_kg.get_info( single=False, node=True)"
   ]
  },
  {
   "cell_type": "code",
   "execution_count": 7,
   "metadata": {},
   "outputs": [
    {
     "name": "stdout",
     "output_type": "stream",
     "text": [
      "构建Court的空结构。Court的基本情况如下：\n",
      "数量：(1, 1)\n",
      "介绍：法院\n",
      "成功添加唯一性实体 Court，属性：{'姓名名称': '浙江省高级人民法院', '诉讼请求': {'是否变更诉讼请求': None, '需返回本金总额': None, '需返回利息': {1: {'是否属于逾期利息类型': None, '总额': None, '计算起始日期': {1: {'日期数值': None, '起始日期或截止日期': None, '日期类型': None}}, '计算截止日期': {1: {'日期数值': None, '起始日期或截止日期': None, '日期类型': None}}, '利息率': {'数值': None, '类型': None}}}, '需返回逾期利息': {1: {'是否属于逾期利息类型': None, '总额': None, '计算起始日期': {1: {'日期数值': None, '起始日期或截止日期': None, '日期类型': None}}, '计算截止日期': {1: {'日期数值': None, '起始日期或截止日期': None, '日期类型': None}}, '利息率': {'数值': None, '类型': None}}}, '需返回违约金': {1: {'总额': None, '计算起始日期': {1: {'日期数值': None, '起始日期或截止日期': None, '日期类型': None}}, '计算截止日期': {1: {'日期数值': None, '起始日期或截止日期': None, '日期类型': None}}, '违约金类型和数值': {'数值': None, '类型': None}}}, '是否要求承担担保责任': {1: {'承担保证责任的人或单位名称': None, '保证责任类型': None}}, '需返回债权实现费用（起诉前）': {'总额': None, '类型': None}, '需返回债权实现费用（起诉后）': {'总额': None, '类型': None}}, '借贷事件': {'借贷信息': {'借款目的与用途': None, '借款人与出借人关系类型': None, '担保人的姓名或单位名称': None, '借款人与担保人关系类型': None, '意思表示日': None, '借款次数': None, '借款次数情况': None, '是否有借款凭证': {1: {'名称': None, '类型': None, '出具时间': None, '所载内容': None}}}, '约定信息': {'约定的借款金额': {1: {'约定情况': None, '实际发生时间': None, '金额': None}}, '约定的还款日期或借款期限': {1: {'约定情况': None, '实际发生时间': None, '借款起始日期': None, '还款日期': None, '借款期限（月）': None}}, '约定的利息': {1: {'是否属于逾期利息类型': None, '约定情况': None, '实际发生时间': None, '约定的利率': {'数值': None, '类型': None}}}, '约定的逾期利息': {1: {'是否属于逾期利息类型': None, '约定情况': None, '实际发生时间': None, '约定的利率': {'数值': None, '类型': None}}}, '约定的违约金': {1: {'约定情况': None, '实际发生时间': None, '约定的违约金类型和数值': {'数值': None, '类型': None}}}, '管辖约定情况': None, '仲裁约定情况': None, '程序性费用的承担（律师费、诉讼费等）约定': {'约定情况': None, '约定程序性费用承担情况类型': None}, '约定的还款方式': {1: {'约定情况': None, '实际发生时间': None, '本金还款方式': None, '利息还款方式': None, '前述还款方式下每次还款总金额': None, '前述还款方式下每次还款日期': None}}, '约定的担保': {1: {'约定情况': None, '实际发生时间': None, '担保方式类型': None, '担保范围': None, '担保期限（月）': None, '担保物当下状态': None, '担保人类型': None, '保证责任类型': None}}}, '还款信息': {'借款实际交付': {1: {'金额': None, '时间': None, '交付方式类型': None, '对应的是第几笔借款': None}}, '已还款总体情况类型': None, '已还款': {1: {'时间': None, '金额': None, '方式': None, '金额性质': None, '对应的是第几笔借款': None, '已还款金额所冲抵利息至哪一日': None}}}}, '专题问题': {'夫妻共同债务': None, '砍头息': None, '公司为股东担保': None, '债权/债务非原始取得': None, '出借人主体资格问题': None, '职业放贷人': None, '互联网平台责任': None, '民刑交叉': None, '利率调整、认定': None}}\n"
     ]
    }
   ],
   "source": [
    "cpl_kg = DomainKnowledgeGraph( cpl_kg_schema, \"ZH\" )\n",
    "cpl_kg.add_empty_entity( \"Court\", \"浙江省高级人民法院\")"
   ]
  },
  {
   "cell_type": "code",
   "execution_count": 8,
   "metadata": {},
   "outputs": [
    {
     "data": {
      "text/plain": [
       "{'Court': {'姓名名称': '浙江省高级人民法院',\n",
       "  '诉讼请求': {'是否变更诉讼请求': None,\n",
       "   '需返回本金总额': None,\n",
       "   '需返回利息': {1: {'是否属于逾期利息类型': None,\n",
       "     '总额': None,\n",
       "     '计算起始日期': {1: {'日期数值': None, '起始日期或截止日期': None, '日期类型': None}},\n",
       "     '计算截止日期': {1: {'日期数值': None, '起始日期或截止日期': None, '日期类型': None}},\n",
       "     '利息率': {'数值': None, '类型': None}}},\n",
       "   '需返回逾期利息': {1: {'是否属于逾期利息类型': None,\n",
       "     '总额': None,\n",
       "     '计算起始日期': {1: {'日期数值': None, '起始日期或截止日期': None, '日期类型': None}},\n",
       "     '计算截止日期': {1: {'日期数值': None, '起始日期或截止日期': None, '日期类型': None}},\n",
       "     '利息率': {'数值': None, '类型': None}}},\n",
       "   '需返回违约金': {1: {'总额': None,\n",
       "     '计算起始日期': {1: {'日期数值': None, '起始日期或截止日期': None, '日期类型': None}},\n",
       "     '计算截止日期': {1: {'日期数值': None, '起始日期或截止日期': None, '日期类型': None}},\n",
       "     '违约金类型和数值': {'数值': None, '类型': None}}},\n",
       "   '是否要求承担担保责任': {1: {'承担保证责任的人或单位名称': None, '保证责任类型': None}},\n",
       "   '需返回债权实现费用（起诉前）': {'总额': None, '类型': None},\n",
       "   '需返回债权实现费用（起诉后）': {'总额': None, '类型': None}},\n",
       "  '借贷事件': {'借贷信息': {'借款目的与用途': None,\n",
       "    '借款人与出借人关系类型': None,\n",
       "    '担保人的姓名或单位名称': None,\n",
       "    '借款人与担保人关系类型': None,\n",
       "    '意思表示日': None,\n",
       "    '借款次数': None,\n",
       "    '借款次数情况': None,\n",
       "    '是否有借款凭证': {1: {'名称': None, '类型': None, '出具时间': None, '所载内容': None}}},\n",
       "   '约定信息': {'约定的借款金额': {1: {'约定情况': None, '实际发生时间': None, '金额': None}},\n",
       "    '约定的还款日期或借款期限': {1: {'约定情况': None,\n",
       "      '实际发生时间': None,\n",
       "      '借款起始日期': None,\n",
       "      '还款日期': None,\n",
       "      '借款期限（月）': None}},\n",
       "    '约定的利息': {1: {'是否属于逾期利息类型': None,\n",
       "      '约定情况': None,\n",
       "      '实际发生时间': None,\n",
       "      '约定的利率': {'数值': None, '类型': None}}},\n",
       "    '约定的逾期利息': {1: {'是否属于逾期利息类型': None,\n",
       "      '约定情况': None,\n",
       "      '实际发生时间': None,\n",
       "      '约定的利率': {'数值': None, '类型': None}}},\n",
       "    '约定的违约金': {1: {'约定情况': None,\n",
       "      '实际发生时间': None,\n",
       "      '约定的违约金类型和数值': {'数值': None, '类型': None}}},\n",
       "    '管辖约定情况': None,\n",
       "    '仲裁约定情况': None,\n",
       "    '程序性费用的承担（律师费、诉讼费等）约定': {'约定情况': None, '约定程序性费用承担情况类型': None},\n",
       "    '约定的还款方式': {1: {'约定情况': None,\n",
       "      '实际发生时间': None,\n",
       "      '本金还款方式': None,\n",
       "      '利息还款方式': None,\n",
       "      '前述还款方式下每次还款总金额': None,\n",
       "      '前述还款方式下每次还款日期': None}},\n",
       "    '约定的担保': {1: {'约定情况': None,\n",
       "      '实际发生时间': None,\n",
       "      '担保方式类型': None,\n",
       "      '担保范围': None,\n",
       "      '担保期限（月）': None,\n",
       "      '担保物当下状态': None,\n",
       "      '担保人类型': None,\n",
       "      '保证责任类型': None}}},\n",
       "   '还款信息': {'借款实际交付': {1: {'金额': None,\n",
       "      '时间': None,\n",
       "      '交付方式类型': None,\n",
       "      '对应的是第几笔借款': None}},\n",
       "    '已还款总体情况类型': None,\n",
       "    '已还款': {1: {'时间': None,\n",
       "      '金额': None,\n",
       "      '方式': None,\n",
       "      '金额性质': None,\n",
       "      '对应的是第几笔借款': None,\n",
       "      '已还款金额所冲抵利息至哪一日': None}}}},\n",
       "  '专题问题': {'夫妻共同债务': None,\n",
       "   '砍头息': None,\n",
       "   '公司为股东担保': None,\n",
       "   '债权/债务非原始取得': None,\n",
       "   '出借人主体资格问题': None,\n",
       "   '职业放贷人': None,\n",
       "   '互联网平台责任': None,\n",
       "   '民刑交叉': None,\n",
       "   '利率调整、认定': None}}}"
      ]
     },
     "execution_count": 8,
     "metadata": {},
     "output_type": "execute_result"
    }
   ],
   "source": [
    "cpl_kg.get_info( single=False, node=True)"
   ]
  }
 ],
 "metadata": {
  "kernelspec": {
   "display_name": "tkgt2",
   "language": "python",
   "name": "python3"
  },
  "language_info": {
   "codemirror_mode": {
    "name": "ipython",
    "version": 3
   },
   "file_extension": ".py",
   "mimetype": "text/x-python",
   "name": "python",
   "nbconvert_exporter": "python",
   "pygments_lexer": "ipython3",
   "version": "3.10.13"
  }
 },
 "nbformat": 4,
 "nbformat_minor": 2
}
